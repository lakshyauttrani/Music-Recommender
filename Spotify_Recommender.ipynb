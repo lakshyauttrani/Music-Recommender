{
  "nbformat": 4,
  "nbformat_minor": 0,
  "metadata": {
    "colab": {
      "name": "Spotify Recommendation Learning.ipynb",
      "provenance": [],
      "collapsed_sections": []
    },
    "kernelspec": {
      "display_name": "Python 3",
      "name": "python3"
    },
    "language_info": {
      "name": "python"
    }
  },
  "cells": [
    {
      "cell_type": "code",
      "metadata": {
        "id": "h1brI0rvk7W7"
      },
      "source": [
        "!pip install kneed\n",
        "!pip install kaggle"
      ],
      "execution_count": null,
      "outputs": []
    },
    {
      "cell_type": "code",
      "metadata": {
        "colab": {
          "base_uri": "https://localhost:8080/"
        },
        "id": "Brp2dcolYbCB",
        "outputId": "994be199-87f0-4ce6-f2b8-a64d171eefbc"
      },
      "source": [
        "!kaggle datasets download -d mrmorj/dataset-of-songs-in-spotify"
      ],
      "execution_count": null,
      "outputs": [
        {
          "name": "stdout",
          "output_type": "stream",
          "text": [
            "Downloading dataset-of-songs-in-spotify.zip to /content\n",
            "\r  0% 0.00/3.06M [00:00<?, ?B/s]\n",
            "\r100% 3.06M/3.06M [00:00<00:00, 103MB/s]\n"
          ]
        }
      ]
    },
    {
      "cell_type": "code",
      "metadata": {
        "id": "frtN60zBXEvJ"
      },
      "source": [
        "!kaggle datasets download -d mrmorj/dataset-of-songs-in-spotify"
      ],
      "execution_count": null,
      "outputs": []
    },
    {
      "cell_type": "code",
      "metadata": {
        "id": "suM6jsho8uGX"
      },
      "source": [
        "from kneed import KneeLocator\n",
        "import matplotlib.pyplot as plt\n",
        "from matplotlib import pyplot\n",
        "import numpy as np\n",
        "from numpy import mean\n",
        "from numpy import std\n",
        "from numpy import percentile\n",
        "import pandas as pd\n",
        "import pickle\n",
        "import os\n",
        "import scipy as sp\n",
        "from scipy.cluster.vq import kmeans2\n",
        "import seaborn as sns\n",
        "from sklearn.ensemble import IsolationForest\n",
        "from sklearn.cluster import KMeans\n",
        "from sklearn.metrics import silhouette_score\n",
        "from sklearn.neighbors import LocalOutlierFactor\n",
        "from sklearn.preprocessing import StandardScaler, MinMaxScaler\n",
        "from sklearn.model_selection import train_test_split\n",
        "from sklearn.model_selection import cross_val_score\n",
        "from sklearn.model_selection import RepeatedStratifiedKFold\n",
        "from sklearn.model_selection import GridSearchCV\n",
        "from sklearn.ensemble import RandomForestClassifier\n",
        "from sklearn.metrics import confusion_matrix\n",
        "from sklearn import metrics\n",
        "from sklearn.metrics import classification_report\n",
        "import zipfile"
      ],
      "execution_count": null,
      "outputs": []
    },
    {
      "cell_type": "code",
      "metadata": {
        "colab": {
          "base_uri": "https://localhost:8080/"
        },
        "id": "Chc43cCK3itG",
        "outputId": "4b329fe2-3866-42e1-f119-61a47656679e"
      },
      "source": [
        "from google.colab import drive\n",
        "drive.mount('/content/drive')"
      ],
      "execution_count": null,
      "outputs": [
        {
          "name": "stdout",
          "output_type": "stream",
          "text": [
            "Mounted at /content/drive\n"
          ]
        }
      ]
    },
    {
      "cell_type": "code",
      "metadata": {
        "id": "LeSCmt2ICbjb"
      },
      "source": [
        "os.chdir('/content/drive/MyDrive/Datasets/Audio Features') #Lakshya"
      ],
      "execution_count": null,
      "outputs": []
    },
    {
      "cell_type": "code",
      "metadata": {
        "id": "OSKrwgFQ336T"
      },
      "source": [
        "# os.chdir('drive/MyDrive/Spotify Project/audio_features') #Navneeth"
      ],
      "execution_count": null,
      "outputs": []
    },
    {
      "cell_type": "code",
      "metadata": {
        "id": "KSGcvHlFCf_I"
      },
      "source": [
        "arr = os.listdir()\n",
        "df1 = pd.DataFrame()\n",
        "a = (pd.read_json(f) for f in arr if f.endswith('.json'))\n",
        "df1 = pd.concat(a, ignore_index=True)"
      ],
      "execution_count": null,
      "outputs": []
    },
    {
      "cell_type": "code",
      "metadata": {
        "id": "-fqhdtKmemjD"
      },
      "source": [
        "df_kaggle = pd.read_csv('/content/drive/MyDrive/Datasets/Audio Features/genres_v2.csv', low_memory= False)"
      ],
      "execution_count": null,
      "outputs": []
    },
    {
      "cell_type": "code",
      "metadata": {
        "id": "c74xMZLocsHO"
      },
      "source": [
        "frames = [df_kaggle[df1.columns], df1]\n",
        "df = pd.concat(frames)"
      ],
      "execution_count": null,
      "outputs": []
    },
    {
      "cell_type": "code",
      "metadata": {
        "id": "WhfHAXa7_SAZ"
      },
      "source": [
        "zf = zipfile.ZipFile('/content/drive/MyDrive/Datasets/Audio Features/SpotifyRecommenderSystem/data/data.csv.zip') # having First.csv zipped file.\n",
        "df_new_data = pd.read_csv(zf.open('data.csv'))"
      ],
      "execution_count": null,
      "outputs": []
    },
    {
      "cell_type": "code",
      "metadata": {
        "id": "ADsTduJIA2L4"
      },
      "source": [
        "# df_new_data[df_new_data.id if df_new_data.id not in df.id]\n",
        "# df_new_data['id'].mask(df_new_data['id'].isin(df.id).values)\n",
        "numerical_cols = df1.select_dtypes(include=np.number).columns.tolist()\n",
        "numerical_cols.pop(numerical_cols.index('duration_ms'))\n",
        "numerical_cols.pop(numerical_cols.index('time_signature'))\n",
        "numerical_cols.append('id')\n",
        "# df_new_data[numerical_cols]"
      ],
      "execution_count": null,
      "outputs": []
    },
    {
      "cell_type": "code",
      "metadata": {
        "id": "cRSnlTf1exq1"
      },
      "source": [
        "frames = [df_kaggle[numerical_cols], df1[numerical_cols], df_new_data[numerical_cols]]\n",
        "spotify_data = pd.concat(frames)"
      ],
      "execution_count": null,
      "outputs": []
    },
    {
      "cell_type": "code",
      "metadata": {
        "id": "3sKzNGClh0aA"
      },
      "source": [
        "df.drop_duplicates(inplace = True)\n",
        "spotify_data.drop_duplicates(inplace = True)"
      ],
      "execution_count": null,
      "outputs": []
    },
    {
      "cell_type": "markdown",
      "metadata": {
        "id": "gTX8y4fEIisw"
      },
      "source": [
        "**Definitions:**\n",
        "\n",
        "**acousticness** : A confidence measure from 0.0 to 1.0 of whether the track is acoustic. 1.0 represents high confidence the track is acoustic.\n",
        "\n",
        "**danceability** : Danceability describes how suitable a track is for dancing based on a combination of musical elements including tempo, rhythm stability, beat strength, and overall regularity. A value of 0.0 is least danceable and 1.0 is most danceable.\n",
        "\n",
        "**energy** : Energy is a measure from 0.0 to 1.0 and represents a perceptual measure of intensity and activity. Typically, energetic tracks feel fast, loud, and noisy. For example, death metal has high energy, while a Bach prelude scores low on the scale. Perceptual features contributing to this attribute include dynamic range, perceived loudness, timbre, onset rate, and general entropy.\n",
        "\n",
        "**key** : The key the track is in. Integers map to pitches using standard Pitch Class notation . E.g. 0 = C, 1 = C♯/D♭, 2 = D, and so on.\n",
        "\n",
        "**loudness** : The overall loudness of a track in decibels (dB). Loudness values are averaged across the entire track and are useful for comparing relative loudness of tracks. Loudness is the quality of a sound that is the primary psychological correlate of physical strength (amplitude). Values typical range between -60 and 0 db.\n",
        "\n",
        "**mode** : Mode indicates the modality (major or minor) of a track, the type of scale from which its melodic content is derived. Major is represented by 1 and minor is 0.\n",
        "\n",
        "**speechiness** : Speechiness detects the presence of spoken words in a track. The more exclusively speech-like the recording (e.g. talk show, audio book, poetry), the closer to 1.0 the attribute value. Values above 0.66 describe tracks that are probably made entirely of spoken words. Values between 0.33 and 0.66 describe tracks that may contain both music and speech, either in sections or layered, including such cases as rap music. Values below 0.33 most likely represent music and other non-speech-like tracks.\n",
        "\n",
        "**instrumentalness** : Predicts whether a track contains no vocals. “Ooh” and “aah” sounds are treated as instrumental in this context. Rap or spoken word tracks are clearly “vocal”. The closer the instrumentalness value is to 1.0, the greater likelihood the track contains no vocal content. Values above 0.5 are intended to represent instrumental tracks, but confidence is higher as the value approaches 1.0.\n",
        "\n",
        "**liveness** : Detects the presence of an audience in the recording. Higher liveness values represent an increased probability that the track was performed live. A value above 0.8 provides strong likelihood that the track is live.\n",
        "\n",
        "**valence** : A measure from 0.0 to 1.0 describing the musical positiveness conveyed by a track. Tracks with high valence sound more positive (e.g. happy, cheerful, euphoric), while tracks with low valence sound more negative (e.g. sad, depressed, angry).\n",
        "\n",
        "**tempo** : The overall estimated tempo of a track in beats per minute (BPM). In musical terminology, tempo is the speed or pace of a given piece and derives directly from the average beat duration."
      ]
    },
    {
      "cell_type": "code",
      "metadata": {
        "id": "p74S4GkDjKnn"
      },
      "source": [
        "def scaled_numeric_features(df):\n",
        "  numerical_cols = df.select_dtypes(include=np.number).columns.tolist()\n",
        "  x = df[numerical_cols]\n",
        "  min_max_scaler = StandardScaler()\n",
        "  x_scaled = min_max_scaler.fit_transform(x)\n",
        "  df_numeric = pd.DataFrame(x_scaled, columns= numerical_cols)  \n",
        "  return df_numeric"
      ],
      "execution_count": null,
      "outputs": []
    },
    {
      "cell_type": "code",
      "metadata": {
        "id": "qChD2f2KkNYD"
      },
      "source": [
        "df_numeric = scaled_numeric_features(df)"
      ],
      "execution_count": null,
      "outputs": []
    },
    {
      "cell_type": "code",
      "metadata": {
        "colab": {
          "base_uri": "https://localhost:8080/",
          "height": 224
        },
        "id": "Az1P0R-ShIfp",
        "outputId": "ba0bff56-60a2-4349-f987-352f9bcd3431"
      },
      "source": [
        "df_numeric.head()"
      ],
      "execution_count": null,
      "outputs": [
        {
          "data": {
            "text/html": [
              "<div>\n",
              "<style scoped>\n",
              "    .dataframe tbody tr th:only-of-type {\n",
              "        vertical-align: middle;\n",
              "    }\n",
              "\n",
              "    .dataframe tbody tr th {\n",
              "        vertical-align: top;\n",
              "    }\n",
              "\n",
              "    .dataframe thead th {\n",
              "        text-align: right;\n",
              "    }\n",
              "</style>\n",
              "<table border=\"1\" class=\"dataframe\">\n",
              "  <thead>\n",
              "    <tr style=\"text-align: right;\">\n",
              "      <th></th>\n",
              "      <th>danceability</th>\n",
              "      <th>energy</th>\n",
              "      <th>key</th>\n",
              "      <th>loudness</th>\n",
              "      <th>mode</th>\n",
              "      <th>speechiness</th>\n",
              "      <th>acousticness</th>\n",
              "      <th>instrumentalness</th>\n",
              "      <th>liveness</th>\n",
              "      <th>valence</th>\n",
              "      <th>tempo</th>\n",
              "      <th>duration_ms</th>\n",
              "      <th>time_signature</th>\n",
              "    </tr>\n",
              "  </thead>\n",
              "  <tbody>\n",
              "    <tr>\n",
              "      <th>0</th>\n",
              "      <td>1.495299</td>\n",
              "      <td>0.503762</td>\n",
              "      <td>-0.930927</td>\n",
              "      <td>0.093455</td>\n",
              "      <td>0.820351</td>\n",
              "      <td>3.099590</td>\n",
              "      <td>-0.503398</td>\n",
              "      <td>-0.665916</td>\n",
              "      <td>-0.884772</td>\n",
              "      <td>-0.182795</td>\n",
              "      <td>0.797906</td>\n",
              "      <td>-1.228180</td>\n",
              "      <td>0.190182</td>\n",
              "    </tr>\n",
              "    <tr>\n",
              "      <th>1</th>\n",
              "      <td>0.847930</td>\n",
              "      <td>-0.908223</td>\n",
              "      <td>0.737409</td>\n",
              "      <td>0.126768</td>\n",
              "      <td>0.820351</td>\n",
              "      <td>-0.181829</td>\n",
              "      <td>0.670155</td>\n",
              "      <td>-0.703386</td>\n",
              "      <td>-0.508804</td>\n",
              "      <td>-1.194291</td>\n",
              "      <td>-0.611767</td>\n",
              "      <td>-0.283922</td>\n",
              "      <td>0.190182</td>\n",
              "    </tr>\n",
              "    <tr>\n",
              "      <th>2</th>\n",
              "      <td>1.605120</td>\n",
              "      <td>0.851260</td>\n",
              "      <td>-0.096759</td>\n",
              "      <td>0.735101</td>\n",
              "      <td>0.820351</td>\n",
              "      <td>-0.346574</td>\n",
              "      <td>-0.661614</td>\n",
              "      <td>-0.703374</td>\n",
              "      <td>1.021581</td>\n",
              "      <td>-1.518351</td>\n",
              "      <td>2.852117</td>\n",
              "      <td>-1.471297</td>\n",
              "      <td>0.190182</td>\n",
              "    </tr>\n",
              "    <tr>\n",
              "      <th>3</th>\n",
              "      <td>-0.556628</td>\n",
              "      <td>0.358605</td>\n",
              "      <td>-1.487038</td>\n",
              "      <td>0.753250</td>\n",
              "      <td>0.820351</td>\n",
              "      <td>0.045539</td>\n",
              "      <td>-0.627563</td>\n",
              "      <td>-0.703386</td>\n",
              "      <td>-0.532904</td>\n",
              "      <td>-0.999625</td>\n",
              "      <td>1.805854</td>\n",
              "      <td>-1.236480</td>\n",
              "      <td>-2.717025</td>\n",
              "    </tr>\n",
              "    <tr>\n",
              "      <th>4</th>\n",
              "      <td>1.304556</td>\n",
              "      <td>-0.331992</td>\n",
              "      <td>-0.930927</td>\n",
              "      <td>0.017879</td>\n",
              "      <td>0.820351</td>\n",
              "      <td>1.876043</td>\n",
              "      <td>0.037289</td>\n",
              "      <td>-0.703386</td>\n",
              "      <td>-0.219597</td>\n",
              "      <td>0.588232</td>\n",
              "      <td>0.495250</td>\n",
              "      <td>-1.239912</td>\n",
              "      <td>0.190182</td>\n",
              "    </tr>\n",
              "  </tbody>\n",
              "</table>\n",
              "</div>"
            ],
            "text/plain": [
              "   danceability    energy       key  ...     tempo  duration_ms  time_signature\n",
              "0      1.495299  0.503762 -0.930927  ...  0.797906    -1.228180        0.190182\n",
              "1      0.847930 -0.908223  0.737409  ... -0.611767    -0.283922        0.190182\n",
              "2      1.605120  0.851260 -0.096759  ...  2.852117    -1.471297        0.190182\n",
              "3     -0.556628  0.358605 -1.487038  ...  1.805854    -1.236480       -2.717025\n",
              "4      1.304556 -0.331992 -0.930927  ...  0.495250    -1.239912        0.190182\n",
              "\n",
              "[5 rows x 13 columns]"
            ]
          },
          "execution_count": 15,
          "metadata": {},
          "output_type": "execute_result"
        }
      ]
    },
    {
      "cell_type": "code",
      "metadata": {
        "colab": {
          "base_uri": "https://localhost:8080/",
          "height": 35
        },
        "id": "VTt3wxmHfA8o",
        "outputId": "9b175434-a564-4c50-8201-6185ddd1096a"
      },
      "source": [
        "# numerical_cols = df.select_dtypes(include=np.number).columns.tolist()\n",
        "# numerical_cols.pop(numerical_cols.index('duration_ms'))\n",
        "# numerical_cols.pop(numerical_cols.index('time_signature'))"
      ],
      "execution_count": null,
      "outputs": [
        {
          "data": {
            "application/vnd.google.colaboratory.intrinsic+json": {
              "type": "string"
            },
            "text/plain": [
              "'time_signature'"
            ]
          },
          "execution_count": 6,
          "metadata": {
            "tags": []
          },
          "output_type": "execute_result"
        }
      ]
    },
    {
      "cell_type": "code",
      "metadata": {
        "id": "95-wznXBUrB1"
      },
      "source": [
        "# x = df[numerical_cols] # returns a numpy array\n",
        "# min_max_scaler = StandardScaler()\n",
        "# x_scaled = min_max_scaler.fit_transform(x)\n",
        "# df_numeric = pd.DataFrame(x_scaled, columns= numerical_cols)"
      ],
      "execution_count": null,
      "outputs": []
    },
    {
      "cell_type": "code",
      "metadata": {
        "colab": {
          "base_uri": "https://localhost:8080/",
          "height": 224
        },
        "id": "zGEiWL9naemX",
        "outputId": "68915c49-c2d5-49f1-fcfd-cadce0a781d7"
      },
      "source": [
        "df_numeric.head()"
      ],
      "execution_count": null,
      "outputs": [
        {
          "data": {
            "text/html": [
              "<div>\n",
              "<style scoped>\n",
              "    .dataframe tbody tr th:only-of-type {\n",
              "        vertical-align: middle;\n",
              "    }\n",
              "\n",
              "    .dataframe tbody tr th {\n",
              "        vertical-align: top;\n",
              "    }\n",
              "\n",
              "    .dataframe thead th {\n",
              "        text-align: right;\n",
              "    }\n",
              "</style>\n",
              "<table border=\"1\" class=\"dataframe\">\n",
              "  <thead>\n",
              "    <tr style=\"text-align: right;\">\n",
              "      <th></th>\n",
              "      <th>danceability</th>\n",
              "      <th>energy</th>\n",
              "      <th>key</th>\n",
              "      <th>loudness</th>\n",
              "      <th>mode</th>\n",
              "      <th>speechiness</th>\n",
              "      <th>acousticness</th>\n",
              "      <th>instrumentalness</th>\n",
              "      <th>liveness</th>\n",
              "      <th>valence</th>\n",
              "      <th>tempo</th>\n",
              "      <th>duration_ms</th>\n",
              "      <th>time_signature</th>\n",
              "    </tr>\n",
              "  </thead>\n",
              "  <tbody>\n",
              "    <tr>\n",
              "      <th>0</th>\n",
              "      <td>1.495299</td>\n",
              "      <td>0.503762</td>\n",
              "      <td>-0.930927</td>\n",
              "      <td>0.093455</td>\n",
              "      <td>0.820351</td>\n",
              "      <td>3.099590</td>\n",
              "      <td>-0.503398</td>\n",
              "      <td>-0.665916</td>\n",
              "      <td>-0.884772</td>\n",
              "      <td>-0.182795</td>\n",
              "      <td>0.797906</td>\n",
              "      <td>-1.228180</td>\n",
              "      <td>0.190182</td>\n",
              "    </tr>\n",
              "    <tr>\n",
              "      <th>1</th>\n",
              "      <td>0.847930</td>\n",
              "      <td>-0.908223</td>\n",
              "      <td>0.737409</td>\n",
              "      <td>0.126768</td>\n",
              "      <td>0.820351</td>\n",
              "      <td>-0.181829</td>\n",
              "      <td>0.670155</td>\n",
              "      <td>-0.703386</td>\n",
              "      <td>-0.508804</td>\n",
              "      <td>-1.194291</td>\n",
              "      <td>-0.611767</td>\n",
              "      <td>-0.283922</td>\n",
              "      <td>0.190182</td>\n",
              "    </tr>\n",
              "    <tr>\n",
              "      <th>2</th>\n",
              "      <td>1.605120</td>\n",
              "      <td>0.851260</td>\n",
              "      <td>-0.096759</td>\n",
              "      <td>0.735101</td>\n",
              "      <td>0.820351</td>\n",
              "      <td>-0.346574</td>\n",
              "      <td>-0.661614</td>\n",
              "      <td>-0.703374</td>\n",
              "      <td>1.021581</td>\n",
              "      <td>-1.518351</td>\n",
              "      <td>2.852117</td>\n",
              "      <td>-1.471297</td>\n",
              "      <td>0.190182</td>\n",
              "    </tr>\n",
              "    <tr>\n",
              "      <th>3</th>\n",
              "      <td>-0.556628</td>\n",
              "      <td>0.358605</td>\n",
              "      <td>-1.487038</td>\n",
              "      <td>0.753250</td>\n",
              "      <td>0.820351</td>\n",
              "      <td>0.045539</td>\n",
              "      <td>-0.627563</td>\n",
              "      <td>-0.703386</td>\n",
              "      <td>-0.532904</td>\n",
              "      <td>-0.999625</td>\n",
              "      <td>1.805854</td>\n",
              "      <td>-1.236480</td>\n",
              "      <td>-2.717025</td>\n",
              "    </tr>\n",
              "    <tr>\n",
              "      <th>4</th>\n",
              "      <td>1.304556</td>\n",
              "      <td>-0.331992</td>\n",
              "      <td>-0.930927</td>\n",
              "      <td>0.017879</td>\n",
              "      <td>0.820351</td>\n",
              "      <td>1.876043</td>\n",
              "      <td>0.037289</td>\n",
              "      <td>-0.703386</td>\n",
              "      <td>-0.219597</td>\n",
              "      <td>0.588232</td>\n",
              "      <td>0.495250</td>\n",
              "      <td>-1.239912</td>\n",
              "      <td>0.190182</td>\n",
              "    </tr>\n",
              "  </tbody>\n",
              "</table>\n",
              "</div>"
            ],
            "text/plain": [
              "   danceability    energy       key  ...     tempo  duration_ms  time_signature\n",
              "0      1.495299  0.503762 -0.930927  ...  0.797906    -1.228180        0.190182\n",
              "1      0.847930 -0.908223  0.737409  ... -0.611767    -0.283922        0.190182\n",
              "2      1.605120  0.851260 -0.096759  ...  2.852117    -1.471297        0.190182\n",
              "3     -0.556628  0.358605 -1.487038  ...  1.805854    -1.236480       -2.717025\n",
              "4      1.304556 -0.331992 -0.930927  ...  0.495250    -1.239912        0.190182\n",
              "\n",
              "[5 rows x 13 columns]"
            ]
          },
          "execution_count": 157,
          "metadata": {},
          "output_type": "execute_result"
        }
      ]
    },
    {
      "cell_type": "code",
      "metadata": {
        "colab": {
          "base_uri": "https://localhost:8080/",
          "height": 896
        },
        "id": "ryYiDZCzcv24",
        "outputId": "dc82a2db-27e9-4ed0-a201-68c42c604aea"
      },
      "source": [
        "df_numeric.hist( figsize=(15, 10))"
      ],
      "execution_count": null,
      "outputs": [
        {
          "data": {
            "text/plain": [
              "array([[<matplotlib.axes._subplots.AxesSubplot object at 0x7f5be31c96d0>,\n",
              "        <matplotlib.axes._subplots.AxesSubplot object at 0x7f5be315bc10>,\n",
              "        <matplotlib.axes._subplots.AxesSubplot object at 0x7f5be316cb50>,\n",
              "        <matplotlib.axes._subplots.AxesSubplot object at 0x7f5be317eed0>],\n",
              "       [<matplotlib.axes._subplots.AxesSubplot object at 0x7f5be3190a50>,\n",
              "        <matplotlib.axes._subplots.AxesSubplot object at 0x7f5be3121a50>,\n",
              "        <matplotlib.axes._subplots.AxesSubplot object at 0x7f5be3130e90>,\n",
              "        <matplotlib.axes._subplots.AxesSubplot object at 0x7f5be3142090>],\n",
              "       [<matplotlib.axes._subplots.AxesSubplot object at 0x7f5be3142050>,\n",
              "        <matplotlib.axes._subplots.AxesSubplot object at 0x7f5be3153d90>,\n",
              "        <matplotlib.axes._subplots.AxesSubplot object at 0x7f5be30f8110>,\n",
              "        <matplotlib.axes._subplots.AxesSubplot object at 0x7f5be3109650>],\n",
              "       [<matplotlib.axes._subplots.AxesSubplot object at 0x7f5be309b290>,\n",
              "        <matplotlib.axes._subplots.AxesSubplot object at 0x7f5be30a9f90>,\n",
              "        <matplotlib.axes._subplots.AxesSubplot object at 0x7f5be30bc410>,\n",
              "        <matplotlib.axes._subplots.AxesSubplot object at 0x7f5be30ce950>]],\n",
              "      dtype=object)"
            ]
          },
          "execution_count": 17,
          "metadata": {},
          "output_type": "execute_result"
        },
        {
          "data": {
            "image/png": "[encoded data removed]",
            "text/plain": [
              "<Figure size 1080x720 with 16 Axes>"
            ]
          },
          "metadata": {},
          "output_type": "display_data"
        }
      ]
    },
    {
      "cell_type": "code",
      "metadata": {
        "colab": {
          "base_uri": "https://localhost:8080/",
          "height": 282
        },
        "id": "UD15kF7hdHpB",
        "outputId": "7b26955f-c8f3-4b90-ba55-e66888c35125"
      },
      "source": [
        "sns.boxplot(data = df_numeric, orient= \"h\")"
      ],
      "execution_count": null,
      "outputs": [
        {
          "data": {
            "text/plain": [
              "<matplotlib.axes._subplots.AxesSubplot at 0x7f3d01999dd0>"
            ]
          },
          "execution_count": 15,
          "metadata": {},
          "output_type": "execute_result"
        },
        {
          "data": {
            "image/png": "[encoded data removed]",
            "text/plain": [
              "<Figure size 432x288 with 1 Axes>"
            ]
          },
          "metadata": {},
          "output_type": "display_data"
        }
      ]
    },
    {
      "cell_type": "markdown",
      "metadata": {
        "id": "vLKK2Yy40uQ1"
      },
      "source": [
        "We need to treat some outliers for our model to train properly."
      ]
    },
    {
      "cell_type": "code",
      "metadata": {
        "id": "6GRsfoUr04IQ"
      },
      "source": [
        "def iqr_outlier_treatment(data):\n",
        "  for col_name in data.columns:\n",
        "    q25, q75 = percentile(data[col_name], 25), percentile(data[col_name], 75)\n",
        "    iqr = q75 - q25\n",
        "    # calculate the outlier cutoff\n",
        "    cut_off = iqr\n",
        "    lower, upper = q25 - cut_off, q75 + cut_off\n",
        "    # identify outliers\n",
        "    data = data[(data[col_name]>= lower) & (data[col_name]<= upper)]\n",
        "  return data\n",
        "# data['tempo'].describe()"
      ],
      "execution_count": null,
      "outputs": []
    },
    {
      "cell_type": "code",
      "metadata": {
        "id": "1fbpFpnjejXi"
      },
      "source": [
        "sns.pairplot(data = df_numeric)"
      ],
      "execution_count": null,
      "outputs": []
    },
    {
      "cell_type": "code",
      "metadata": {
        "colab": {
          "base_uri": "https://localhost:8080/",
          "height": 472
        },
        "id": "E0KIE1UVWurV",
        "outputId": "4e4fa376-ade7-4d85-d43f-c07695fd7211"
      },
      "source": [
        "df_numeric.corr()"
      ],
      "execution_count": null,
      "outputs": [
        {
          "data": {
            "text/html": [
              "<div>\n",
              "<style scoped>\n",
              "    .dataframe tbody tr th:only-of-type {\n",
              "        vertical-align: middle;\n",
              "    }\n",
              "\n",
              "    .dataframe tbody tr th {\n",
              "        vertical-align: top;\n",
              "    }\n",
              "\n",
              "    .dataframe thead th {\n",
              "        text-align: right;\n",
              "    }\n",
              "</style>\n",
              "<table border=\"1\" class=\"dataframe\">\n",
              "  <thead>\n",
              "    <tr style=\"text-align: right;\">\n",
              "      <th></th>\n",
              "      <th>danceability</th>\n",
              "      <th>energy</th>\n",
              "      <th>key</th>\n",
              "      <th>loudness</th>\n",
              "      <th>mode</th>\n",
              "      <th>speechiness</th>\n",
              "      <th>acousticness</th>\n",
              "      <th>instrumentalness</th>\n",
              "      <th>liveness</th>\n",
              "      <th>valence</th>\n",
              "      <th>tempo</th>\n",
              "      <th>duration_ms</th>\n",
              "      <th>time_signature</th>\n",
              "    </tr>\n",
              "  </thead>\n",
              "  <tbody>\n",
              "    <tr>\n",
              "      <th>danceability</th>\n",
              "      <td>1.000000</td>\n",
              "      <td>-0.028956</td>\n",
              "      <td>0.011192</td>\n",
              "      <td>0.073241</td>\n",
              "      <td>-0.023802</td>\n",
              "      <td>0.216945</td>\n",
              "      <td>-0.095140</td>\n",
              "      <td>-0.094488</td>\n",
              "      <td>-0.109007</td>\n",
              "      <td>0.332360</td>\n",
              "      <td>0.016311</td>\n",
              "      <td>-0.062834</td>\n",
              "      <td>0.140780</td>\n",
              "    </tr>\n",
              "    <tr>\n",
              "      <th>energy</th>\n",
              "      <td>-0.028956</td>\n",
              "      <td>1.000000</td>\n",
              "      <td>0.035055</td>\n",
              "      <td>0.735169</td>\n",
              "      <td>-0.040779</td>\n",
              "      <td>0.082177</td>\n",
              "      <td>-0.688963</td>\n",
              "      <td>0.075191</td>\n",
              "      <td>0.199592</td>\n",
              "      <td>0.049881</td>\n",
              "      <td>0.217859</td>\n",
              "      <td>0.064463</td>\n",
              "      <td>0.145190</td>\n",
              "    </tr>\n",
              "    <tr>\n",
              "      <th>key</th>\n",
              "      <td>0.011192</td>\n",
              "      <td>0.035055</td>\n",
              "      <td>1.000000</td>\n",
              "      <td>0.012482</td>\n",
              "      <td>-0.197586</td>\n",
              "      <td>-0.006448</td>\n",
              "      <td>-0.026239</td>\n",
              "      <td>0.032331</td>\n",
              "      <td>-0.004249</td>\n",
              "      <td>0.020572</td>\n",
              "      <td>-0.003607</td>\n",
              "      <td>0.034743</td>\n",
              "      <td>0.006368</td>\n",
              "    </tr>\n",
              "    <tr>\n",
              "      <th>loudness</th>\n",
              "      <td>0.073241</td>\n",
              "      <td>0.735169</td>\n",
              "      <td>0.012482</td>\n",
              "      <td>1.000000</td>\n",
              "      <td>-0.021511</td>\n",
              "      <td>0.130551</td>\n",
              "      <td>-0.545523</td>\n",
              "      <td>-0.224381</td>\n",
              "      <td>0.134129</td>\n",
              "      <td>0.080271</td>\n",
              "      <td>0.241202</td>\n",
              "      <td>-0.138499</td>\n",
              "      <td>0.129956</td>\n",
              "    </tr>\n",
              "    <tr>\n",
              "      <th>mode</th>\n",
              "      <td>-0.023802</td>\n",
              "      <td>-0.040779</td>\n",
              "      <td>-0.197586</td>\n",
              "      <td>-0.021511</td>\n",
              "      <td>1.000000</td>\n",
              "      <td>-0.014109</td>\n",
              "      <td>0.048859</td>\n",
              "      <td>-0.047077</td>\n",
              "      <td>0.004509</td>\n",
              "      <td>0.048159</td>\n",
              "      <td>-0.033671</td>\n",
              "      <td>-0.055770</td>\n",
              "      <td>-0.011967</td>\n",
              "    </tr>\n",
              "    <tr>\n",
              "      <th>speechiness</th>\n",
              "      <td>0.216945</td>\n",
              "      <td>0.082177</td>\n",
              "      <td>-0.006448</td>\n",
              "      <td>0.130551</td>\n",
              "      <td>-0.014109</td>\n",
              "      <td>1.000000</td>\n",
              "      <td>-0.087248</td>\n",
              "      <td>-0.208480</td>\n",
              "      <td>0.108477</td>\n",
              "      <td>0.033303</td>\n",
              "      <td>0.200179</td>\n",
              "      <td>-0.154139</td>\n",
              "      <td>0.037464</td>\n",
              "    </tr>\n",
              "    <tr>\n",
              "      <th>acousticness</th>\n",
              "      <td>-0.095140</td>\n",
              "      <td>-0.688963</td>\n",
              "      <td>-0.026239</td>\n",
              "      <td>-0.545523</td>\n",
              "      <td>0.048859</td>\n",
              "      <td>-0.087248</td>\n",
              "      <td>1.000000</td>\n",
              "      <td>-0.075774</td>\n",
              "      <td>-0.095327</td>\n",
              "      <td>0.093004</td>\n",
              "      <td>-0.231324</td>\n",
              "      <td>-0.095243</td>\n",
              "      <td>-0.151303</td>\n",
              "    </tr>\n",
              "    <tr>\n",
              "      <th>instrumentalness</th>\n",
              "      <td>-0.094488</td>\n",
              "      <td>0.075191</td>\n",
              "      <td>0.032331</td>\n",
              "      <td>-0.224381</td>\n",
              "      <td>-0.047077</td>\n",
              "      <td>-0.208480</td>\n",
              "      <td>-0.075774</td>\n",
              "      <td>1.000000</td>\n",
              "      <td>-0.021699</td>\n",
              "      <td>-0.306603</td>\n",
              "      <td>-0.036986</td>\n",
              "      <td>0.425124</td>\n",
              "      <td>-0.020995</td>\n",
              "    </tr>\n",
              "    <tr>\n",
              "      <th>liveness</th>\n",
              "      <td>-0.109007</td>\n",
              "      <td>0.199592</td>\n",
              "      <td>-0.004249</td>\n",
              "      <td>0.134129</td>\n",
              "      <td>0.004509</td>\n",
              "      <td>0.108477</td>\n",
              "      <td>-0.095327</td>\n",
              "      <td>-0.021699</td>\n",
              "      <td>1.000000</td>\n",
              "      <td>-0.026266</td>\n",
              "      <td>0.040798</td>\n",
              "      <td>0.006751</td>\n",
              "      <td>0.008672</td>\n",
              "    </tr>\n",
              "    <tr>\n",
              "      <th>valence</th>\n",
              "      <td>0.332360</td>\n",
              "      <td>0.049881</td>\n",
              "      <td>0.020572</td>\n",
              "      <td>0.080271</td>\n",
              "      <td>0.048159</td>\n",
              "      <td>0.033303</td>\n",
              "      <td>0.093004</td>\n",
              "      <td>-0.306603</td>\n",
              "      <td>-0.026266</td>\n",
              "      <td>1.000000</td>\n",
              "      <td>-0.047020</td>\n",
              "      <td>-0.238970</td>\n",
              "      <td>0.063658</td>\n",
              "    </tr>\n",
              "    <tr>\n",
              "      <th>tempo</th>\n",
              "      <td>0.016311</td>\n",
              "      <td>0.217859</td>\n",
              "      <td>-0.003607</td>\n",
              "      <td>0.241202</td>\n",
              "      <td>-0.033671</td>\n",
              "      <td>0.200179</td>\n",
              "      <td>-0.231324</td>\n",
              "      <td>-0.036986</td>\n",
              "      <td>0.040798</td>\n",
              "      <td>-0.047020</td>\n",
              "      <td>1.000000</td>\n",
              "      <td>-0.077297</td>\n",
              "      <td>0.031683</td>\n",
              "    </tr>\n",
              "    <tr>\n",
              "      <th>duration_ms</th>\n",
              "      <td>-0.062834</td>\n",
              "      <td>0.064463</td>\n",
              "      <td>0.034743</td>\n",
              "      <td>-0.138499</td>\n",
              "      <td>-0.055770</td>\n",
              "      <td>-0.154139</td>\n",
              "      <td>-0.095243</td>\n",
              "      <td>0.425124</td>\n",
              "      <td>0.006751</td>\n",
              "      <td>-0.238970</td>\n",
              "      <td>-0.077297</td>\n",
              "      <td>1.000000</td>\n",
              "      <td>-0.017195</td>\n",
              "    </tr>\n",
              "    <tr>\n",
              "      <th>time_signature</th>\n",
              "      <td>0.140780</td>\n",
              "      <td>0.145190</td>\n",
              "      <td>0.006368</td>\n",
              "      <td>0.129956</td>\n",
              "      <td>-0.011967</td>\n",
              "      <td>0.037464</td>\n",
              "      <td>-0.151303</td>\n",
              "      <td>-0.020995</td>\n",
              "      <td>0.008672</td>\n",
              "      <td>0.063658</td>\n",
              "      <td>0.031683</td>\n",
              "      <td>-0.017195</td>\n",
              "      <td>1.000000</td>\n",
              "    </tr>\n",
              "  </tbody>\n",
              "</table>\n",
              "</div>"
            ],
            "text/plain": [
              "                  danceability    energy  ...  duration_ms  time_signature\n",
              "danceability          1.000000 -0.028956  ...    -0.062834        0.140780\n",
              "energy               -0.028956  1.000000  ...     0.064463        0.145190\n",
              "key                   0.011192  0.035055  ...     0.034743        0.006368\n",
              "loudness              0.073241  0.735169  ...    -0.138499        0.129956\n",
              "mode                 -0.023802 -0.040779  ...    -0.055770       -0.011967\n",
              "speechiness           0.216945  0.082177  ...    -0.154139        0.037464\n",
              "acousticness         -0.095140 -0.688963  ...    -0.095243       -0.151303\n",
              "instrumentalness     -0.094488  0.075191  ...     0.425124       -0.020995\n",
              "liveness             -0.109007  0.199592  ...     0.006751        0.008672\n",
              "valence               0.332360  0.049881  ...    -0.238970        0.063658\n",
              "tempo                 0.016311  0.217859  ...    -0.077297        0.031683\n",
              "duration_ms          -0.062834  0.064463  ...     1.000000       -0.017195\n",
              "time_signature        0.140780  0.145190  ...    -0.017195        1.000000\n",
              "\n",
              "[13 rows x 13 columns]"
            ]
          },
          "execution_count": 45,
          "metadata": {},
          "output_type": "execute_result"
        }
      ]
    },
    {
      "cell_type": "markdown",
      "metadata": {
        "id": "KzI35sWgXG-J"
      },
      "source": [
        "Using PCA to understand the feature importance in the dataset"
      ]
    },
    {
      "cell_type": "code",
      "metadata": {
        "id": "Eeaq429YLYxW"
      },
      "source": [
        "def dim_red_pca(X, d=0, corr=False):\n",
        "    r\"\"\"\n",
        "    Performs principal component analysis.\n",
        "\n",
        "    Parameters\n",
        "    ----------\n",
        "    X : array, (n, d)\n",
        "        Original observations (n observations, d features)\n",
        "\n",
        "    d : int\n",
        "        Number of principal components (default is ``0`` => all components).\n",
        "\n",
        "    corr : bool\n",
        "        If true, the PCA is performed based on the correlation matrix.\n",
        "\n",
        "    Notes\n",
        "    -----\n",
        "    Always all eigenvalues and eigenvectors are returned,\n",
        "    independently of the desired number of components ``d``.\n",
        "\n",
        "    Returns\n",
        "    -------\n",
        "    Xred : array, (n, m or d)\n",
        "        Reduced data matrix\n",
        "\n",
        "    e_values : array, (m)\n",
        "        The eigenvalues, sorted in descending manner.\n",
        "\n",
        "    e_vectors : array, (n, m)\n",
        "        The eigenvectors, sorted corresponding to eigenvalues.\n",
        "\n",
        "    \"\"\"\n",
        "    # Center to average\n",
        "    X_ = X-X.mean(0)\n",
        "    # Compute correlation / covarianz matrix\n",
        "    if corr:\n",
        "        CO = np.corrcoef(X_.T)\n",
        "    else:\n",
        "        CO = np.cov(X_.T)\n",
        "    # Compute eigenvalues and eigenvectors\n",
        "    e_values, e_vectors = sp.linalg.eigh(CO)\n",
        "\n",
        "    # Sort the eigenvalues and the eigenvectors descending\n",
        "    idx = np.argsort(e_values)[::-1]\n",
        "    e_vectors = e_vectors[:, idx]\n",
        "    e_values = e_values[idx]\n",
        "    # Get the number of desired dimensions\n",
        "    d_e_vecs = e_vectors\n",
        "    if d > 0:\n",
        "        d_e_vecs = e_vectors[:, :d]\n",
        "    else:\n",
        "        d = None\n",
        "    # Map principal components to original data\n",
        "    LIN = np.dot(d_e_vecs, np.dot(d_e_vecs.T, X_.T)).T\n",
        "    return LIN[:, :d], e_values, e_vectors"
      ],
      "execution_count": null,
      "outputs": []
    },
    {
      "cell_type": "code",
      "metadata": {
        "id": "NyBJn4OxN532"
      },
      "source": [
        "clust,labels_ = kmeans2(df_numeric,3) "
      ],
      "execution_count": null,
      "outputs": []
    },
    {
      "cell_type": "code",
      "metadata": {
        "colab": {
          "base_uri": "https://localhost:8080/",
          "height": 590
        },
        "id": "SkGQg1TWOTct",
        "outputId": "f5f30cb5-e677-4398-8994-a32a518bae30"
      },
      "source": [
        "Xred, evals, evecs = dim_red_pca(df_numeric,2)   \n",
        "\n",
        "xlab = '1. PC - ExpVar = {:.2f} %'.format(evals[0]/sum(evals)*100) # determine variance portion\n",
        "ylab = '2. PC - ExpVar = {:.2f} %'.format(evals[1]/sum(evals)*100)\n",
        "# plot the clusters, each set separately\n",
        "plt.figure()    \n",
        "ax = plt.gca()\n",
        "scatterHs = []\n",
        "clr = ['r', 'b', 'k']\n",
        "for cluster in set(labels_):\n",
        "    scatterHs.append(ax.scatter(Xred[labels_ == cluster, 0], Xred[labels_ == cluster, 1], \n",
        "                   color=clr[cluster], label='Cluster {}'.format(cluster)))\n",
        "plt.legend(handles=scatterHs,loc=4)\n",
        "plt.setp(ax, title='First and Second Principle Components', xlabel=xlab, ylabel=ylab)\n",
        "# plot also the eigenvectors for deriving the influence of each feature\n",
        "fig, ax = plt.subplots(2,1)\n",
        "ax[0].bar([1, 2, 3, 4, 5, 6, 7, 8, 9, 10, 11, 12, 13],evecs[0])\n",
        "plt.setp(ax[0], title=\"First and Second Component's Eigenvectors \", ylabel='Weight')\n",
        "ax[1].bar([1, 2, 3, 4, 5, 6, 7, 8, 9, 10, 11, 12, 13],evecs[1])\n",
        "plt.setp(ax[1], xlabel='Features', ylabel='Weight')"
      ],
      "execution_count": null,
      "outputs": [
        {
          "data": {
            "text/plain": [
              "[Text(0, 0.5, 'Weight'), Text(0.5, 0, 'Features')]"
            ]
          },
          "execution_count": 19,
          "metadata": {},
          "output_type": "execute_result"
        },
        {
          "data": {
            "image/png": "[encoded data removed]",
            "text/plain": [
              "<Figure size 432x288 with 1 Axes>"
            ]
          },
          "metadata": {},
          "output_type": "display_data"
        },
        {
          "data": {
            "image/png": "[encoded data removed]",
            "text/plain": [
              "<Figure size 432x288 with 2 Axes>"
            ]
          },
          "metadata": {},
          "output_type": "display_data"
        }
      ]
    },
    {
      "cell_type": "code",
      "metadata": {
        "id": "w6dVvPQRUHgI"
      },
      "source": [
        "# X_df = df_numeric[['danceability', 'energy', 'acousticness', 'instrumentalness', 'valence']]\n",
        "X_df_outlier = df_numeric[['danceability', 'energy', 'acousticness', 'instrumentalness', 'valence','tempo']]"
      ],
      "execution_count": null,
      "outputs": []
    },
    {
      "cell_type": "code",
      "metadata": {
        "id": "MuDQaNwGArtw"
      },
      "source": [
        "X_df = iqr_outlier_treatment(X_df_outlier)"
      ],
      "execution_count": null,
      "outputs": []
    },
    {
      "cell_type": "code",
      "metadata": {
        "colab": {
          "base_uri": "https://localhost:8080/",
          "height": 282
        },
        "id": "UWifUGA3Ax-7",
        "outputId": "18ccc1b9-9f42-4050-f692-394acd756ee2"
      },
      "source": [
        "sns.boxplot(data = X_df, orient= \"h\")"
      ],
      "execution_count": null,
      "outputs": [
        {
          "data": {
            "text/plain": [
              "<matplotlib.axes._subplots.AxesSubplot at 0x7f3d029a4b50>"
            ]
          },
          "execution_count": 22,
          "metadata": {},
          "output_type": "execute_result"
        },
        {
          "data": {
            "image/png": "[encoded data removed]",
            "text/plain": [
              "<Figure size 432x288 with 1 Axes>"
            ]
          },
          "metadata": {},
          "output_type": "display_data"
        }
      ]
    },
    {
      "cell_type": "code",
      "metadata": {
        "id": "0-pqvnPYkBi5"
      },
      "source": [
        "kmeans_kwargs = {\n",
        "    \"init\": \"random\",\n",
        "    \"n_init\": 10,\n",
        "    \"max_iter\": 300,\n",
        "    \"random_state\": 42,\n",
        "}"
      ],
      "execution_count": null,
      "outputs": []
    },
    {
      "cell_type": "code",
      "metadata": {
        "id": "7ooH-Bk5kZEz"
      },
      "source": [
        "# A list holds the SSE values for each k\n",
        "sse = []\n",
        "for k in range(1, 11):\n",
        "    kmeans = KMeans(n_clusters=k, **kmeans_kwargs)\n",
        "    kmeans.fit(X_df)\n",
        "    sse.append(kmeans.inertia_)"
      ],
      "execution_count": null,
      "outputs": []
    },
    {
      "cell_type": "code",
      "metadata": {
        "colab": {
          "base_uri": "https://localhost:8080/",
          "height": 304
        },
        "id": "jLhbxAyOkjYq",
        "outputId": "f50bbe72-1e55-4faf-aaaa-8102d288af60"
      },
      "source": [
        "plt.style.use(\"fivethirtyeight\")\n",
        "plt.plot(range(1, 11), sse)\n",
        "plt.xticks(range(1, 11))\n",
        "plt.xlabel(\"Number of Clusters\")\n",
        "plt.ylabel(\"SSE\")\n",
        "plt.show()"
      ],
      "execution_count": null,
      "outputs": [
        {
          "data": {
            "image/png": "[encoded data removed]",
            "text/plain": [
              "<Figure size 432x288 with 1 Axes>"
            ]
          },
          "metadata": {},
          "output_type": "display_data"
        }
      ]
    },
    {
      "cell_type": "code",
      "metadata": {
        "colab": {
          "base_uri": "https://localhost:8080/"
        },
        "id": "9ZUTcvLgkwc4",
        "outputId": "df2dcb99-0d0c-4df5-e189-f82f7073cd53"
      },
      "source": [
        "kl = KneeLocator(\n",
        "    range(1, 11), sse, curve=\"convex\", direction=\"decreasing\"\n",
        ")\n",
        "\n",
        "kl.elbow"
      ],
      "execution_count": null,
      "outputs": [
        {
          "data": {
            "text/plain": [
              "3"
            ]
          },
          "execution_count": 34,
          "metadata": {},
          "output_type": "execute_result"
        }
      ]
    },
    {
      "cell_type": "code",
      "metadata": {
        "id": "7VxN0mfIlH20"
      },
      "source": [
        "# A list holds the silhouette coefficients for each k\n",
        "silhouette_coefficients = []\n",
        "\n",
        "# Notice you start at 2 clusters for silhouette coefficient\n",
        "for k in range(2, 11):\n",
        "    kmeans = KMeans(n_clusters=k, **kmeans_kwargs)\n",
        "    # kmeans.fit(df_numeric) NM: We were kinda fitting all the features, didnt remove the other ones.\n",
        "    kmeans.fit(X_df)\n",
        "    score = silhouette_score(X_df, kmeans.labels_)\n",
        "    silhouette_coefficients.append(score)"
      ],
      "execution_count": null,
      "outputs": []
    },
    {
      "cell_type": "code",
      "metadata": {
        "colab": {
          "base_uri": "https://localhost:8080/",
          "height": 304
        },
        "id": "xm6ZVHU2ltAC",
        "outputId": "635729ec-7d7c-4696-b506-dbc35b2cf97f"
      },
      "source": [
        "plt.style.use(\"fivethirtyeight\")\n",
        "plt.plot(range(2, 11), silhouette_coefficients)\n",
        "plt.xticks(range(2, 11))\n",
        "plt.xlabel(\"Number of Clusters\")\n",
        "plt.ylabel(\"Silhouette Coefficient\")\n",
        "plt.show()"
      ],
      "execution_count": null,
      "outputs": [
        {
          "data": {
            "image/png": "[encoded data removed]",
            "text/plain": [
              "<Figure size 432x288 with 1 Axes>"
            ]
          },
          "metadata": {
            "tags": []
          },
          "output_type": "display_data"
        }
      ]
    },
    {
      "cell_type": "markdown",
      "metadata": {
        "id": "7uslkuABnN9J"
      },
      "source": [
        "Trying out the cluster prediction strength to validate the optimal number of clusters."
      ]
    },
    {
      "cell_type": "code",
      "metadata": {
        "id": "V5HEP9JekuBB"
      },
      "source": [
        "kmeans = KMeans(\n",
        "    init = \"k-means++\",\n",
        "    n_init = 25,\n",
        "    n_clusters=3,\n",
        "    max_iter=500,\n",
        "    random_state=420\n",
        "  )"
      ],
      "execution_count": null,
      "outputs": []
    },
    {
      "cell_type": "code",
      "metadata": {
        "id": "v5AwHShjXsRG"
      },
      "source": [
        "# X = np.array(X_df)\n",
        "\n",
        "X = np.array(X_df_outlier)"
      ],
      "execution_count": null,
      "outputs": []
    },
    {
      "cell_type": "code",
      "metadata": {
        "id": "o4sDsRxxkDfS"
      },
      "source": [
        "y_kmeans = kmeans.fit_predict(X)"
      ],
      "execution_count": null,
      "outputs": []
    },
    {
      "cell_type": "code",
      "metadata": {
        "colab": {
          "base_uri": "https://localhost:8080/",
          "height": 281
        },
        "id": "4DFDQSnbTGim",
        "outputId": "4e244c78-c06f-4141-864c-cbebeb311dc9"
      },
      "source": [
        "plt.clf()\n",
        "plt.scatter(X[y_kmeans==0, 0], X[y_kmeans==0, 1], s=10, c='red', label ='Cluster 1')\n",
        "plt.scatter(X[y_kmeans==1, 0], X[y_kmeans==1, 1], s=10, c='blue', label ='Cluster 2')\n",
        "plt.scatter(X[y_kmeans==2, 0], X[y_kmeans==2, 1], s=10, c='green', label ='Cluster 3')\n",
        "plt.scatter(X[y_kmeans==3, 0], X[y_kmeans==3, 1], s=10, c='cyan', label ='Cluster 4')\n",
        "# plt.scatter(X[y_kmeans==4, 0], X[y_kmeans==4, 1], s=10, c='black', label ='Cluster 5')\n",
        "# plt.scatter(X[y_kmeans==5, 0], X[y_kmeans==5, 1], s=10, c='gray', label ='Cluster 6')\n",
        "# plt.scatter(X[y_kmeans==6, 0], X[y_kmeans==6, 1], s=10, c='purple', label ='Cluster 7')\n",
        "# plt.scatter(X[y_kmeans==7, 0], X[y_kmeans==7, 1], s=10, c='orange', label ='Cluster 8')\n",
        "# plt.scatter(X[y_kmeans==8, 0], X[y_kmeans==8, 1], s=10, c='cyan', label ='Cluster 9')\n",
        "#Plot the centroid. This time we're going to use the cluster centres  #attribute that returns here the coordinates of the centroid.\n",
        "plt.scatter(kmeans.cluster_centers_[:, 0], kmeans.cluster_centers_[:, 1], s=20, c='yellow', label = 'Centroids')\n",
        "plt.title('Clusters of Customers')\n",
        "plt.show()"
      ],
      "execution_count": null,
      "outputs": [
        {
          "data": {
            "image/png": "[encoded data removed]",
            "text/plain": [
              "<Figure size 432x288 with 1 Axes>"
            ]
          },
          "metadata": {},
          "output_type": "display_data"
        }
      ]
    },
    {
      "cell_type": "code",
      "metadata": {
        "colab": {
          "base_uri": "https://localhost:8080/"
        },
        "id": "uCVNT63PkJUD",
        "outputId": "8f1c54d7-43e7-44cd-cf8d-cb1087e0df8a"
      },
      "source": [
        "kmeans.inertia_"
      ],
      "execution_count": null,
      "outputs": [
        {
          "data": {
            "text/plain": [
              "329703.01675535797"
            ]
          },
          "execution_count": 180,
          "metadata": {},
          "output_type": "execute_result"
        }
      ]
    },
    {
      "cell_type": "code",
      "metadata": {
        "colab": {
          "base_uri": "https://localhost:8080/"
        },
        "id": "kozYbKqcpsrt",
        "outputId": "d55ffe8c-6682-4e6a-82e4-16e774bf166c"
      },
      "source": [
        "kmeans.n_iter_"
      ],
      "execution_count": null,
      "outputs": [
        {
          "data": {
            "text/plain": [
              "9"
            ]
          },
          "execution_count": 181,
          "metadata": {},
          "output_type": "execute_result"
        }
      ]
    },
    {
      "cell_type": "code",
      "metadata": {
        "colab": {
          "base_uri": "https://localhost:8080/"
        },
        "id": "76I1942ukMV-",
        "outputId": "94971975-1083-4579-baef-58780f8c20e1"
      },
      "source": [
        "kmeans.cluster_centers_"
      ],
      "execution_count": null,
      "outputs": [
        {
          "data": {
            "text/plain": [
              "array([[-4.26891835e-01, -1.47162111e+00,  1.75973070e+00,\n",
              "         1.17024525e-03, -1.88889209e-01, -5.70299876e-01],\n",
              "       [-4.46374472e-01,  5.79105574e-01, -5.79224118e-01,\n",
              "         4.88806622e-01, -6.66645544e-01,  2.55343310e-01],\n",
              "       [ 6.12830478e-01,  6.79422007e-02, -1.90584919e-01,\n",
              "        -4.72404937e-01,  7.24078072e-01, -3.52266624e-03]])"
            ]
          },
          "execution_count": 223,
          "metadata": {},
          "output_type": "execute_result"
        }
      ]
    },
    {
      "cell_type": "code",
      "metadata": {
        "colab": {
          "base_uri": "https://localhost:8080/"
        },
        "id": "yIoy-UWVkRU_",
        "outputId": "f891f4fe-d792-4b2d-a969-b05611a619e0"
      },
      "source": [
        "kmeans.labels_"
      ],
      "execution_count": null,
      "outputs": [
        {
          "data": {
            "text/plain": [
              "array([2, 0, 1, ..., 1, 1, 2], dtype=int32)"
            ]
          },
          "execution_count": 224,
          "metadata": {},
          "output_type": "execute_result"
        }
      ]
    },
    {
      "cell_type": "markdown",
      "metadata": {
        "id": "67vA9Mn03TTJ"
      },
      "source": [
        "###### Understanding the clusters"
      ]
    },
    {
      "cell_type": "code",
      "metadata": {
        "id": "5ReacsMP3Wty"
      },
      "source": [
        "clusters = pd.Series(kmeans.labels_)"
      ],
      "execution_count": null,
      "outputs": []
    },
    {
      "cell_type": "code",
      "metadata": {
        "id": "RsaT0Zu0s-8_"
      },
      "source": [
        "X_df['clusters'] = clusters"
      ],
      "execution_count": null,
      "outputs": []
    },
    {
      "cell_type": "code",
      "metadata": {
        "colab": {
          "base_uri": "https://localhost:8080/"
        },
        "id": "vvCZUHM5ydbU",
        "outputId": "53bca1b7-25aa-44f1-e60b-0bcafd0da65f"
      },
      "source": [
        "X_df['clusters'].value_counts()"
      ],
      "execution_count": null,
      "outputs": [
        {
          "data": {
            "text/plain": [
              "1    30801\n",
              "2    29178\n",
              "0     2226\n",
              "Name: clusters, dtype: int64"
            ]
          },
          "execution_count": 29,
          "metadata": {},
          "output_type": "execute_result"
        }
      ]
    },
    {
      "cell_type": "code",
      "metadata": {
        "id": "CgB29gdEy5qL"
      },
      "source": [
        "# features = ['danceability', 'energy', 'acousticness', 'instrumentalness', 'valence']\n",
        "features = ['danceability', 'energy', 'acousticness', 'instrumentalness', 'valence','tempo']\n",
        "df_cluster_avg = X_df.groupby('clusters').agg('mean')"
      ],
      "execution_count": null,
      "outputs": []
    },
    {
      "cell_type": "code",
      "metadata": {
        "colab": {
          "base_uri": "https://localhost:8080/",
          "height": 173
        },
        "id": "b8mt0mXx0gRx",
        "outputId": "750e5ebe-c86e-4b6f-d526-9daca812e552"
      },
      "source": [
        "df_cluster_avg"
      ],
      "execution_count": null,
      "outputs": [
        {
          "data": {
            "text/html": [
              "<div>\n",
              "<style scoped>\n",
              "    .dataframe tbody tr th:only-of-type {\n",
              "        vertical-align: middle;\n",
              "    }\n",
              "\n",
              "    .dataframe tbody tr th {\n",
              "        vertical-align: top;\n",
              "    }\n",
              "\n",
              "    .dataframe thead th {\n",
              "        text-align: right;\n",
              "    }\n",
              "</style>\n",
              "<table border=\"1\" class=\"dataframe\">\n",
              "  <thead>\n",
              "    <tr style=\"text-align: right;\">\n",
              "      <th></th>\n",
              "      <th>danceability</th>\n",
              "      <th>energy</th>\n",
              "      <th>acousticness</th>\n",
              "      <th>instrumentalness</th>\n",
              "      <th>valence</th>\n",
              "      <th>tempo</th>\n",
              "    </tr>\n",
              "    <tr>\n",
              "      <th>clusters</th>\n",
              "      <th></th>\n",
              "      <th></th>\n",
              "      <th></th>\n",
              "      <th></th>\n",
              "      <th></th>\n",
              "      <th></th>\n",
              "    </tr>\n",
              "  </thead>\n",
              "  <tbody>\n",
              "    <tr>\n",
              "      <th>0</th>\n",
              "      <td>-0.258577</td>\n",
              "      <td>-1.179072</td>\n",
              "      <td>0.652722</td>\n",
              "      <td>-0.181460</td>\n",
              "      <td>-0.476658</td>\n",
              "      <td>-0.367181</td>\n",
              "    </tr>\n",
              "    <tr>\n",
              "      <th>1</th>\n",
              "      <td>-0.320288</td>\n",
              "      <td>0.597157</td>\n",
              "      <td>-0.590766</td>\n",
              "      <td>0.516238</td>\n",
              "      <td>-0.663939</td>\n",
              "      <td>0.226024</td>\n",
              "    </tr>\n",
              "    <tr>\n",
              "      <th>2</th>\n",
              "      <td>0.599789</td>\n",
              "      <td>0.105560</td>\n",
              "      <td>-0.296441</td>\n",
              "      <td>-0.439868</td>\n",
              "      <td>0.698151</td>\n",
              "      <td>-0.079311</td>\n",
              "    </tr>\n",
              "  </tbody>\n",
              "</table>\n",
              "</div>"
            ],
            "text/plain": [
              "          danceability    energy  ...   valence     tempo\n",
              "clusters                          ...                    \n",
              "0            -0.258577 -1.179072  ... -0.476658 -0.367181\n",
              "1            -0.320288  0.597157  ... -0.663939  0.226024\n",
              "2             0.599789  0.105560  ...  0.698151 -0.079311\n",
              "\n",
              "[3 rows x 6 columns]"
            ]
          },
          "execution_count": 31,
          "metadata": {},
          "output_type": "execute_result"
        }
      ]
    },
    {
      "cell_type": "code",
      "metadata": {
        "id": "da3Qy7UA1lpR"
      },
      "source": [
        "cluster_1_features = df_cluster_avg.iloc[0].tolist()\n",
        "cluster_1_features = np.array(cluster_1_features + [cluster_1_features[0]])\n",
        "cluster_2_features = df_cluster_avg.iloc[1].tolist()\n",
        "cluster_2_features = np.array(cluster_2_features + [cluster_2_features[0]])\n",
        "cluster_3_features = df_cluster_avg.iloc[2].tolist()\n",
        "cluster_3_features = np.array(cluster_3_features + [cluster_3_features[0]])"
      ],
      "execution_count": null,
      "outputs": []
    },
    {
      "cell_type": "code",
      "metadata": {
        "colab": {
          "base_uri": "https://localhost:8080/",
          "height": 375
        },
        "id": "1Nm_lobC3i3G",
        "outputId": "89e590de-6282-4373-abc0-d34c28df4511"
      },
      "source": [
        "angles = np.linspace(start=0, stop=2*np.pi, num=len(cluster_1_features))\n",
        "\n",
        "# create matplotlib figure and polar plot with labels, title, and legend\n",
        "plt.figure(figsize=(6,6))\n",
        "plt.subplot(polar=True)\n",
        "plt.plot(angles, cluster_1_features)\n",
        "plt.fill(angles, cluster_1_features, 'blue', alpha=0.1)\n",
        "plt.plot(angles, cluster_2_features)\n",
        "plt.fill(angles, cluster_2_features, 'red', alpha=0.1)\n",
        "plt.plot(angles, cluster_3_features)\n",
        "plt.fill(angles, cluster_3_features, 'yellow', alpha=0.1)\n",
        "\n",
        "# use thetagrids to place labels at the specified angles using degrees\n",
        "lines, labels = plt.thetagrids(np.degrees(angles), labels=features)\n",
        "plt.title('Compare Clusters', y=1.0, fontdict={'fontsize': 16})\n",
        "plt.legend(labels=['Cluster 1','Cluster 2', 'Cluster 3'],loc=(0.95, 0.8));"
      ],
      "execution_count": null,
      "outputs": [
        {
          "data": {
            "image/png": "[encoded data removed]",
            "text/plain": [
              "<Figure size 432x432 with 1 Axes>"
            ]
          },
          "metadata": {},
          "output_type": "display_data"
        }
      ]
    },
    {
      "cell_type": "code",
      "metadata": {
        "colab": {
          "base_uri": "https://localhost:8080/",
          "height": 542
        },
        "id": "lgCQKm23spWL",
        "outputId": "244abf95-1f2d-49fa-8aab-71bdacc292b8"
      },
      "source": [
        "import plotly.graph_objects as go\n",
        "import plotly.offline as pyo\n",
        "\n",
        "\n",
        "categories = ['danceability', 'energy', 'acousticness', 'instrumentalness', 'valence','tempo']\n",
        "categories = [*categories, categories[0]]\n",
        "\n",
        "\n",
        "fig = go.Figure(\n",
        "    data=[\n",
        "        go.Scatterpolar(r=cluster_1_features, theta=categories, fill='toself', name='Cluster 1'),\n",
        "        go.Scatterpolar(r=cluster_2_features, theta=categories, fill='toself', name='Cluster 2'),\n",
        "        go.Scatterpolar(r=cluster_3_features, theta=categories, fill='toself', name='Cluster 3')\n",
        "    ],\n",
        "    layout=go.Layout(\n",
        "        title=go.layout.Title(text='Cluster comparison'),\n",
        "        polar={'radialaxis': {'visible': True}},\n",
        "        showlegend=True\n",
        "    )\n",
        ")\n",
        "\n",
        "# pyo.plot(fig, show_link = True)\n",
        "pyo.iplot(fig)"
      ],
      "execution_count": null,
      "outputs": [
        {
          "data": {
            "text/html": [
              "<html>\n",
              "<head><meta charset=\"utf-8\" /></head>\n",
              "<body>\n",
              "    <div>\n",
              "            <script src=\"https://cdnjs.cloudflare.com/ajax/libs/mathjax/2.7.5/MathJax.js?config=TeX-AMS-MML_SVG\"></script><script type=\"text/javascript\">if (window.MathJax) {MathJax.Hub.Config({SVG: {font: \"STIX-Web\"}});}</script>\n",
              "                <script type=\"text/javascript\">window.PlotlyConfig = {MathJaxConfig: 'local'};</script>\n",
              "        <script src=\"https://cdn.plot.ly/plotly-latest.min.js\"></script>    \n",
              "            <div id=\"a500a1c7-83e2-44ea-a131-d2d9db04b5b2\" class=\"plotly-graph-div\" style=\"height:525px; width:100%;\"></div>\n",
              "            <script type=\"text/javascript\">\n",
              "                \n",
              "                    window.PLOTLYENV=window.PLOTLYENV || {};\n",
              "                    \n",
              "                if (document.getElementById(\"a500a1c7-83e2-44ea-a131-d2d9db04b5b2\")) {\n",
              "                    Plotly.newPlot(\n",
              "                        'a500a1c7-83e2-44ea-a131-d2d9db04b5b2',\n",
              "                        [{\"fill\": \"toself\", \"name\": \"Cluster 1\", \"r\": [-0.2585773095543779, -1.179071670530303, 0.652722323923171, -0.18145952811453497, -0.4766575265846487, -0.36718090583559515, -0.2585773095543779], \"theta\": [\"danceability\", \"energy\", \"acousticness\", \"instrumentalness\", \"valence\", \"tempo\", \"danceability\"], \"type\": \"scatterpolar\"}, {\"fill\": \"toself\", \"name\": \"Cluster 2\", \"r\": [-0.32028808071512976, 0.5971574326711642, -0.5907664079790739, 0.5162382569082619, -0.6639389248142664, 0.22602448639987838, -0.32028808071512976], \"theta\": [\"danceability\", \"energy\", \"acousticness\", \"instrumentalness\", \"valence\", \"tempo\", \"danceability\"], \"type\": \"scatterpolar\"}, {\"fill\": \"toself\", \"name\": \"Cluster 3\", \"r\": [0.5997893468676313, 0.10555996140608179, -0.2964405943438303, -0.43986848942226064, 0.6981514032848398, -0.0793114949265557, 0.5997893468676313], \"theta\": [\"danceability\", \"energy\", \"acousticness\", \"instrumentalness\", \"valence\", \"tempo\", \"danceability\"], \"type\": \"scatterpolar\"}],\n",
              "                        {\"polar\": {\"radialaxis\": {\"visible\": true}}, \"showlegend\": true, \"template\": {\"data\": {\"bar\": [{\"error_x\": {\"color\": \"#2a3f5f\"}, \"error_y\": {\"color\": \"#2a3f5f\"}, \"marker\": {\"line\": {\"color\": \"#E5ECF6\", \"width\": 0.5}}, \"type\": \"bar\"}], \"barpolar\": [{\"marker\": {\"line\": {\"color\": \"#E5ECF6\", \"width\": 0.5}}, \"type\": \"barpolar\"}], \"carpet\": [{\"aaxis\": {\"endlinecolor\": \"#2a3f5f\", \"gridcolor\": \"white\", \"linecolor\": \"white\", \"minorgridcolor\": \"white\", \"startlinecolor\": \"#2a3f5f\"}, \"baxis\": {\"endlinecolor\": \"#2a3f5f\", \"gridcolor\": \"white\", \"linecolor\": \"white\", \"minorgridcolor\": \"white\", \"startlinecolor\": \"#2a3f5f\"}, \"type\": \"carpet\"}], \"choropleth\": [{\"colorbar\": {\"outlinewidth\": 0, \"ticks\": \"\"}, \"type\": \"choropleth\"}], \"contour\": [{\"colorbar\": {\"outlinewidth\": 0, \"ticks\": \"\"}, \"colorscale\": [[0.0, \"#0d0887\"], [0.1111111111111111, \"#46039f\"], [0.2222222222222222, \"#7201a8\"], [0.3333333333333333, \"#9c179e\"], [0.4444444444444444, \"#bd3786\"], [0.5555555555555556, \"#d8576b\"], [0.6666666666666666, \"#ed7953\"], [0.7777777777777778, \"#fb9f3a\"], [0.8888888888888888, \"#fdca26\"], [1.0, \"#f0f921\"]], \"type\": \"contour\"}], \"contourcarpet\": [{\"colorbar\": {\"outlinewidth\": 0, \"ticks\": \"\"}, \"type\": \"contourcarpet\"}], \"heatmap\": [{\"colorbar\": {\"outlinewidth\": 0, \"ticks\": \"\"}, \"colorscale\": [[0.0, \"#0d0887\"], [0.1111111111111111, \"#46039f\"], [0.2222222222222222, \"#7201a8\"], [0.3333333333333333, \"#9c179e\"], [0.4444444444444444, \"#bd3786\"], [0.5555555555555556, \"#d8576b\"], [0.6666666666666666, \"#ed7953\"], [0.7777777777777778, \"#fb9f3a\"], [0.8888888888888888, \"#fdca26\"], [1.0, \"#f0f921\"]], \"type\": \"heatmap\"}], \"heatmapgl\": [{\"colorbar\": {\"outlinewidth\": 0, \"ticks\": \"\"}, \"colorscale\": [[0.0, \"#0d0887\"], [0.1111111111111111, \"#46039f\"], [0.2222222222222222, \"#7201a8\"], [0.3333333333333333, \"#9c179e\"], [0.4444444444444444, \"#bd3786\"], [0.5555555555555556, \"#d8576b\"], [0.6666666666666666, \"#ed7953\"], [0.7777777777777778, \"#fb9f3a\"], [0.8888888888888888, \"#fdca26\"], [1.0, \"#f0f921\"]], \"type\": \"heatmapgl\"}], \"histogram\": [{\"marker\": {\"colorbar\": {\"outlinewidth\": 0, \"ticks\": \"\"}}, \"type\": \"histogram\"}], \"histogram2d\": [{\"colorbar\": {\"outlinewidth\": 0, \"ticks\": \"\"}, \"colorscale\": [[0.0, \"#0d0887\"], [0.1111111111111111, \"#46039f\"], [0.2222222222222222, \"#7201a8\"], [0.3333333333333333, \"#9c179e\"], [0.4444444444444444, \"#bd3786\"], [0.5555555555555556, \"#d8576b\"], [0.6666666666666666, \"#ed7953\"], [0.7777777777777778, \"#fb9f3a\"], [0.8888888888888888, \"#fdca26\"], [1.0, \"#f0f921\"]], \"type\": \"histogram2d\"}], \"histogram2dcontour\": [{\"colorbar\": {\"outlinewidth\": 0, \"ticks\": \"\"}, \"colorscale\": [[0.0, \"#0d0887\"], [0.1111111111111111, \"#46039f\"], [0.2222222222222222, \"#7201a8\"], [0.3333333333333333, \"#9c179e\"], [0.4444444444444444, \"#bd3786\"], [0.5555555555555556, \"#d8576b\"], [0.6666666666666666, \"#ed7953\"], [0.7777777777777778, \"#fb9f3a\"], [0.8888888888888888, \"#fdca26\"], [1.0, \"#f0f921\"]], \"type\": \"histogram2dcontour\"}], \"mesh3d\": [{\"colorbar\": {\"outlinewidth\": 0, \"ticks\": \"\"}, \"type\": \"mesh3d\"}], \"parcoords\": [{\"line\": {\"colorbar\": {\"outlinewidth\": 0, \"ticks\": \"\"}}, \"type\": \"parcoords\"}], \"pie\": [{\"automargin\": true, \"type\": \"pie\"}], \"scatter\": [{\"marker\": {\"colorbar\": {\"outlinewidth\": 0, \"ticks\": \"\"}}, \"type\": \"scatter\"}], \"scatter3d\": [{\"line\": {\"colorbar\": {\"outlinewidth\": 0, \"ticks\": \"\"}}, \"marker\": {\"colorbar\": {\"outlinewidth\": 0, \"ticks\": \"\"}}, \"type\": \"scatter3d\"}], \"scattercarpet\": [{\"marker\": {\"colorbar\": {\"outlinewidth\": 0, \"ticks\": \"\"}}, \"type\": \"scattercarpet\"}], \"scattergeo\": [{\"marker\": {\"colorbar\": {\"outlinewidth\": 0, \"ticks\": \"\"}}, \"type\": \"scattergeo\"}], \"scattergl\": [{\"marker\": {\"colorbar\": {\"outlinewidth\": 0, \"ticks\": \"\"}}, \"type\": \"scattergl\"}], \"scattermapbox\": [{\"marker\": {\"colorbar\": {\"outlinewidth\": 0, \"ticks\": \"\"}}, \"type\": \"scattermapbox\"}], \"scatterpolar\": [{\"marker\": {\"colorbar\": {\"outlinewidth\": 0, \"ticks\": \"\"}}, \"type\": \"scatterpolar\"}], \"scatterpolargl\": [{\"marker\": {\"colorbar\": {\"outlinewidth\": 0, \"ticks\": \"\"}}, \"type\": \"scatterpolargl\"}], \"scatterternary\": [{\"marker\": {\"colorbar\": {\"outlinewidth\": 0, \"ticks\": \"\"}}, \"type\": \"scatterternary\"}], \"surface\": [{\"colorbar\": {\"outlinewidth\": 0, \"ticks\": \"\"}, \"colorscale\": [[0.0, \"#0d0887\"], [0.1111111111111111, \"#46039f\"], [0.2222222222222222, \"#7201a8\"], [0.3333333333333333, \"#9c179e\"], [0.4444444444444444, \"#bd3786\"], [0.5555555555555556, \"#d8576b\"], [0.6666666666666666, \"#ed7953\"], [0.7777777777777778, \"#fb9f3a\"], [0.8888888888888888, \"#fdca26\"], [1.0, \"#f0f921\"]], \"type\": \"surface\"}], \"table\": [{\"cells\": {\"fill\": {\"color\": \"#EBF0F8\"}, \"line\": {\"color\": \"white\"}}, \"header\": {\"fill\": {\"color\": \"#C8D4E3\"}, \"line\": {\"color\": \"white\"}}, \"type\": \"table\"}]}, \"layout\": {\"annotationdefaults\": {\"arrowcolor\": \"#2a3f5f\", \"arrowhead\": 0, \"arrowwidth\": 1}, \"coloraxis\": {\"colorbar\": {\"outlinewidth\": 0, \"ticks\": \"\"}}, \"colorscale\": {\"diverging\": [[0, \"#8e0152\"], [0.1, \"#c51b7d\"], [0.2, \"#de77ae\"], [0.3, \"#f1b6da\"], [0.4, \"#fde0ef\"], [0.5, \"#f7f7f7\"], [0.6, \"#e6f5d0\"], [0.7, \"#b8e186\"], [0.8, \"#7fbc41\"], [0.9, \"#4d9221\"], [1, \"#276419\"]], \"sequential\": [[0.0, \"#0d0887\"], [0.1111111111111111, \"#46039f\"], [0.2222222222222222, \"#7201a8\"], [0.3333333333333333, \"#9c179e\"], [0.4444444444444444, \"#bd3786\"], [0.5555555555555556, \"#d8576b\"], [0.6666666666666666, \"#ed7953\"], [0.7777777777777778, \"#fb9f3a\"], [0.8888888888888888, \"#fdca26\"], [1.0, \"#f0f921\"]], \"sequentialminus\": [[0.0, \"#0d0887\"], [0.1111111111111111, \"#46039f\"], [0.2222222222222222, \"#7201a8\"], [0.3333333333333333, \"#9c179e\"], [0.4444444444444444, \"#bd3786\"], [0.5555555555555556, \"#d8576b\"], [0.6666666666666666, \"#ed7953\"], [0.7777777777777778, \"#fb9f3a\"], [0.8888888888888888, \"#fdca26\"], [1.0, \"#f0f921\"]]}, \"colorway\": [\"#636efa\", \"#EF553B\", \"#00cc96\", \"#ab63fa\", \"#FFA15A\", \"#19d3f3\", \"#FF6692\", \"#B6E880\", \"#FF97FF\", \"#FECB52\"], \"font\": {\"color\": \"#2a3f5f\"}, \"geo\": {\"bgcolor\": \"white\", \"lakecolor\": \"white\", \"landcolor\": \"#E5ECF6\", \"showlakes\": true, \"showland\": true, \"subunitcolor\": \"white\"}, \"hoverlabel\": {\"align\": \"left\"}, \"hovermode\": \"closest\", \"mapbox\": {\"style\": \"light\"}, \"paper_bgcolor\": \"white\", \"plot_bgcolor\": \"#E5ECF6\", \"polar\": {\"angularaxis\": {\"gridcolor\": \"white\", \"linecolor\": \"white\", \"ticks\": \"\"}, \"bgcolor\": \"#E5ECF6\", \"radialaxis\": {\"gridcolor\": \"white\", \"linecolor\": \"white\", \"ticks\": \"\"}}, \"scene\": {\"xaxis\": {\"backgroundcolor\": \"#E5ECF6\", \"gridcolor\": \"white\", \"gridwidth\": 2, \"linecolor\": \"white\", \"showbackground\": true, \"ticks\": \"\", \"zerolinecolor\": \"white\"}, \"yaxis\": {\"backgroundcolor\": \"#E5ECF6\", \"gridcolor\": \"white\", \"gridwidth\": 2, \"linecolor\": \"white\", \"showbackground\": true, \"ticks\": \"\", \"zerolinecolor\": \"white\"}, \"zaxis\": {\"backgroundcolor\": \"#E5ECF6\", \"gridcolor\": \"white\", \"gridwidth\": 2, \"linecolor\": \"white\", \"showbackground\": true, \"ticks\": \"\", \"zerolinecolor\": \"white\"}}, \"shapedefaults\": {\"line\": {\"color\": \"#2a3f5f\"}}, \"ternary\": {\"aaxis\": {\"gridcolor\": \"white\", \"linecolor\": \"white\", \"ticks\": \"\"}, \"baxis\": {\"gridcolor\": \"white\", \"linecolor\": \"white\", \"ticks\": \"\"}, \"bgcolor\": \"#E5ECF6\", \"caxis\": {\"gridcolor\": \"white\", \"linecolor\": \"white\", \"ticks\": \"\"}}, \"title\": {\"x\": 0.05}, \"xaxis\": {\"automargin\": true, \"gridcolor\": \"white\", \"linecolor\": \"white\", \"ticks\": \"\", \"title\": {\"standoff\": 15}, \"zerolinecolor\": \"white\", \"zerolinewidth\": 2}, \"yaxis\": {\"automargin\": true, \"gridcolor\": \"white\", \"linecolor\": \"white\", \"ticks\": \"\", \"title\": {\"standoff\": 15}, \"zerolinecolor\": \"white\", \"zerolinewidth\": 2}}}, \"title\": {\"text\": \"Cluster comparison\"}},\n",
              "                        {\"responsive\": true}\n",
              "                    ).then(function(){\n",
              "                            \n",
              "var gd = document.getElementById('a500a1c7-83e2-44ea-a131-d2d9db04b5b2');\n",
              "var x = new MutationObserver(function (mutations, observer) {{\n",
              "        var display = window.getComputedStyle(gd).display;\n",
              "        if (!display || display === 'none') {{\n",
              "            console.log([gd, 'removed!']);\n",
              "            Plotly.purge(gd);\n",
              "            observer.disconnect();\n",
              "        }}\n",
              "}});\n",
              "\n",
              "// Listen for the removal of the full notebook cells\n",
              "var notebookContainer = gd.closest('#notebook-container');\n",
              "if (notebookContainer) {{\n",
              "    x.observe(notebookContainer, {childList: true});\n",
              "}}\n",
              "\n",
              "// Listen for the clearing of the current output cell\n",
              "var outputEl = gd.closest('.output');\n",
              "if (outputEl) {{\n",
              "    x.observe(outputEl, {childList: true});\n",
              "}}\n",
              "\n",
              "                        })\n",
              "                };\n",
              "                \n",
              "            </script>\n",
              "        </div>\n",
              "</body>\n",
              "</html>"
            ]
          },
          "metadata": {},
          "output_type": "display_data"
        }
      ]
    },
    {
      "cell_type": "markdown",
      "metadata": {
        "id": "W8VYzABkuLEY"
      },
      "source": [
        "From the looks of it we can mostly see that:\n",
        "  \n",
        "\n",
        "*   Cluster 1 is more instrumental, fast paced and energetic songs.\n",
        "*   Cluster 2 is highly acoustic\n",
        "*   Cluster 3 is more happy dance and full of energy\n",
        "\n",
        "So following this pattern we can rename our clusters to:\n",
        "\n",
        "\n",
        "*   Cluster 1 - Classically Acoustics\n",
        "*   Cluster 2 - Definitely Pump\n",
        "*   Cluster 3 - Happy Trance \n",
        "\n",
        "\n",
        "\n"
      ]
    },
    {
      "cell_type": "code",
      "metadata": {
        "id": "zABMH4pUvKOE"
      },
      "source": [
        "final_df = X_df\n",
        "final_df = final_df.astype({'clusters': str})\n",
        "final_df['clusters'].replace({'0': 'Classically Acoustics', '1': 'Definitely Pump', '2': 'Happy Trance'}, inplace = True)"
      ],
      "execution_count": null,
      "outputs": []
    },
    {
      "cell_type": "markdown",
      "metadata": {
        "id": "PUeE2GaWxn9A"
      },
      "source": [
        "Now we have created a Dataset with Labels, which we can use to create a random forest model to calculate thresholds for different variable values for our recommendation model."
      ]
    },
    {
      "cell_type": "code",
      "metadata": {
        "id": "dploaBqSyAqT"
      },
      "source": [
        "X_rf = final_df.iloc[:,:-1]\n",
        "Y_rf = final_df['clusters']"
      ],
      "execution_count": null,
      "outputs": []
    },
    {
      "cell_type": "code",
      "metadata": {
        "id": "MlrxWKzIxnNU"
      },
      "source": [
        "x_train, x_test, y_train, y_test = train_test_split(X_rf, Y_rf, random_state = 42, test_size = 0.25)"
      ],
      "execution_count": null,
      "outputs": []
    },
    {
      "cell_type": "code",
      "metadata": {
        "colab": {
          "base_uri": "https://localhost:8080/"
        },
        "id": "TFNU10Q9pzkC",
        "outputId": "a605871c-be7b-4653-af66-00f3a1568e03"
      },
      "source": [
        "print(x_train.shape, y_train.shape)"
      ],
      "execution_count": null,
      "outputs": [
        {
          "name": "stdout",
          "output_type": "stream",
          "text": [
            "(46653, 6) (46653,)\n"
          ]
        }
      ]
    },
    {
      "cell_type": "code",
      "metadata": {
        "id": "Hr3smMBdpoAP"
      },
      "source": [
        "# define the model\n",
        "rf_model = RandomForestClassifier()\n",
        "# evaluate the model\n",
        "# cv = RepeatedStratifiedKFold(n_splits=10, n_repeats=3, random_state=1)\n",
        "# n_scores = cross_val_score(rf_model, x_train, y_train, scoring='accuracy', cv=cv, n_jobs=-1, error_score='raise')\n",
        "# report performance\n",
        "# print('Accuracy: %.3f (%.3f)' % (mean(n_scores), std(n_scores)))"
      ],
      "execution_count": null,
      "outputs": []
    },
    {
      "cell_type": "code",
      "metadata": {
        "id": "5aIOpdcKr3QI"
      },
      "source": [
        "# fit the model on the whole dataset\n",
        "rf_model.fit(x_train, y_train)"
      ],
      "execution_count": null,
      "outputs": []
    },
    {
      "cell_type": "code",
      "metadata": {
        "id": "MfKeH44HsCTt"
      },
      "source": [
        "y_pred = rf_model.predict(x_test)"
      ],
      "execution_count": null,
      "outputs": []
    },
    {
      "cell_type": "code",
      "metadata": {
        "id": "IoNNl2dksHrz"
      },
      "source": [
        "print(\"Accuracy:\",metrics.accuracy_score(y_test, y_pred)*100)"
      ],
      "execution_count": null,
      "outputs": []
    },
    {
      "cell_type": "code",
      "metadata": {
        "id": "iOryqI6Esi1b"
      },
      "source": [
        "confusion_matrix(y_test,y_pred )\n",
        "dt_report = (classification_report(y_test,y_pred))\n",
        "print(dt_report)"
      ],
      "execution_count": null,
      "outputs": []
    },
    {
      "cell_type": "code",
      "metadata": {
        "id": "d_qlyNOTPgEz"
      },
      "source": [
        "feature = x_train.columns\n",
        "class_name = y_train.unique()"
      ],
      "execution_count": null,
      "outputs": []
    },
    {
      "cell_type": "markdown",
      "metadata": {
        "id": "AT5B5kZ8s81O"
      },
      "source": [
        "Saving the model in pickl form to predict clusters for new data."
      ]
    },
    {
      "cell_type": "code",
      "metadata": {
        "id": "JqWe9mFpdHno"
      },
      "source": [
        "# # save the model to disk\n",
        "# filename = 'rf_predictor.sav'\n",
        "# pickle.dump(rf_model, open(filename, 'wb'))\n",
        "\n",
        "# save the model to disk\n",
        "filename2 = 'kmeans_cluster.sav'\n",
        "pickle.dump(kmeans, open(filename2, 'wb'))"
      ],
      "execution_count": null,
      "outputs": []
    },
    {
      "cell_type": "code",
      "metadata": {
        "id": "gOCgaF0of5m3"
      },
      "source": [
        "filename = 'rf_predictor.sav'\n",
        "loaded_model = pickle.load(open(filename, 'rb'))\n",
        "\n",
        "filename2 = 'kmeans_cluster.sav'\n",
        "loaded_model_kmeans = pickle.load(open(filename2, 'rb'))"
      ],
      "execution_count": null,
      "outputs": []
    },
    {
      "cell_type": "code",
      "metadata": {
        "id": "9I8zAqyudrZp"
      },
      "source": [
        "!pip install spotipy --upgrade"
      ],
      "execution_count": null,
      "outputs": []
    },
    {
      "cell_type": "code",
      "metadata": {
        "id": "RmisF8ongZdD"
      },
      "source": [
        "import spotipy\n",
        "from spotipy.oauth2 import SpotifyClientCredentials"
      ],
      "execution_count": null,
      "outputs": []
    },
    {
      "cell_type": "code",
      "metadata": {
        "id": "zC-_b66BgNqa"
      },
      "source": [
        "cid = 'Your_cllient_id'\n",
        "secret = 'Your_client_secret'\n",
        "\n",
        "client_credentials_manager = SpotifyClientCredentials(client_id=cid, client_secret=secret)\n",
        "\n",
        "sap = spotipy.Spotify(client_credentials_manager = client_credentials_manager)"
      ],
      "execution_count": null,
      "outputs": []
    },
    {
      "cell_type": "code",
      "metadata": {
        "id": "9-oFv0D9gdQV"
      },
      "source": [
        "def call_playlist(creator, playlist_id):\n",
        "    \n",
        "    #step1\n",
        "\n",
        "    playlist_features_list = [\"artist\",\"album\",\"track_name\",  \"track_id\",\"danceability\",\"energy\",\"key\"\n",
        "    ,\"loudness\",\"mode\",'acousticness', \"speechiness\",\"instrumentalness\",\"liveness\"\n",
        "    ,\"valence\",\"tempo\", \"duration_ms\",\"time_signature\"]\n",
        "    \n",
        "    playlist_df = pd.DataFrame(columns = playlist_features_list)\n",
        "    \n",
        "    #step2\n",
        "    try:\n",
        "      tracks = sap.user_playlist_tracks(creator, playlist_id)\n",
        "      playlist = tracks[\"items\"]\n",
        "      try:\n",
        "        while tracks['next']:\n",
        "          tracks = sap.next(tracks)\n",
        "          playlist.extend(tracks['items'])\n",
        "      except KeyError:\n",
        "        playlist = tracks[\"items\"]\n",
        "    except KeyError:\n",
        "      playlist = sap.user_playlist_tracks(creator, playlist_id)\n",
        "      playlist = tracks[\"tracks\"][\"items\"]\n",
        "      try:\n",
        "        while tracks['next']:\n",
        "          tracks = sap.next(tracks)\n",
        "          playlist.extend(tracks['items'])\n",
        "      except KeyError:\n",
        "        playlist = tracks[\"tracks\"][\"items\"]\n",
        "    for track in playlist:\n",
        "        # Create empty dict\n",
        "        playlist_features = {}\n",
        "        # Get metadata\n",
        "        playlist_features[\"artist\"] = track[\"track\"][\"album\"][\"artists\"][0][\"name\"]\n",
        "        playlist_features[\"album\"] = track[\"track\"][\"album\"][\"name\"]\n",
        "        playlist_features[\"track_name\"] = track[\"track\"][\"name\"]\n",
        "        playlist_features[\"track_id\"] = track[\"track\"][\"id\"]\n",
        "        \n",
        "        # Get audio features\n",
        "        audio_features = sap.audio_features(playlist_features[\"track_id\"])[0]\n",
        "        for feature in playlist_features_list[4:]:\n",
        "            playlist_features[feature] = audio_features[feature]\n",
        "        \n",
        "        # Concat the dfs\n",
        "        track_df = pd.DataFrame(playlist_features, index = [0])\n",
        "        playlist_df = pd.concat([playlist_df, track_df], ignore_index = True)\n",
        "\n",
        "    #Step 3\n",
        "        \n",
        "    return playlist_df"
      ],
      "execution_count": null,
      "outputs": []
    },
    {
      "cell_type": "code",
      "metadata": {
        "id": "kVxdij-MhHMU"
      },
      "source": [
        "Spotify_playlist_url = 'https://open.spotify.com/playlist/71EUGDSRiAwNhodP0GIJif'"
      ],
      "execution_count": null,
      "outputs": []
    },
    {
      "cell_type": "code",
      "metadata": {
        "id": "FFieQ_9Qgp9L"
      },
      "source": [
        "user_df = call_playlist(\"spotify\",\"71EUGDSRiAwNhodP0GIJif\")"
      ],
      "execution_count": null,
      "outputs": []
    },
    {
      "cell_type": "code",
      "metadata": {
        "id": "Bdpat14HiX7_"
      },
      "source": [
        "user_df = call_playlist(\"spotify\",\"71G2FpzI3GXSlsG9Bj6Mtv?si=Nt5bxeG0RyuMvlcmgNMzbw&dl_branch=1&nd=1\")"
      ],
      "execution_count": null,
      "outputs": []
    },
    {
      "cell_type": "code",
      "metadata": {
        "id": "HWQPahxtaY4R"
      },
      "source": [
        "user_df = call_playlist(\"spotify\",\"7zmVBSPcVYuY0KOjhp2A4S?si=Ynl13h_9SK-AikB74PottA&utm_source=copy-link&dl_branch=1&nd=1\")"
      ],
      "execution_count": null,
      "outputs": []
    },
    {
      "cell_type": "code",
      "metadata": {
        "id": "_f-NAWqurQlt"
      },
      "source": [
        "# playlist_features_list = [\"artist\",\"album\",\"track_name\",  \"track_id\",\"danceability\",\"energy\",\"key\"\n",
        "#     ,\"loudness\",\"mode\",'acousticness', \"speechiness\",\"instrumentalness\",\"liveness\"\n",
        "#     ,\"valence\",\"tempo\", \"duration_ms\",\"time_signature\"]\n",
        "# playlist_df = pd.DataFrame(columns = playlist_features_list)\n",
        "    \n",
        "# #step2\n",
        "# playlist_id = '37i9dQZF1DXcBWIGoYBM5M?si=84cbfb4878914c50'\n",
        "# creator = 'spotify'\n",
        "\n",
        "# playlist = sp.user_playlist_tracks(creator, playlist_id)[\"items\"]"
      ],
      "execution_count": null,
      "outputs": []
    },
    {
      "cell_type": "code",
      "metadata": {
        "colab": {
          "base_uri": "https://localhost:8080/",
          "height": 479
        },
        "id": "azzOLp7vi5O4",
        "outputId": "640d9d82-aec9-49f7-a915-6d079271ca07"
      },
      "source": [
        "user_df.head()"
      ],
      "execution_count": null,
      "outputs": [
        {
          "output_type": "execute_result",
          "data": {
            "text/html": [
              "<div>\n",
              "<style scoped>\n",
              "    .dataframe tbody tr th:only-of-type {\n",
              "        vertical-align: middle;\n",
              "    }\n",
              "\n",
              "    .dataframe tbody tr th {\n",
              "        vertical-align: top;\n",
              "    }\n",
              "\n",
              "    .dataframe thead th {\n",
              "        text-align: right;\n",
              "    }\n",
              "</style>\n",
              "<table border=\"1\" class=\"dataframe\">\n",
              "  <thead>\n",
              "    <tr style=\"text-align: right;\">\n",
              "      <th></th>\n",
              "      <th>artist</th>\n",
              "      <th>album</th>\n",
              "      <th>track_name</th>\n",
              "      <th>track_id</th>\n",
              "      <th>danceability</th>\n",
              "      <th>energy</th>\n",
              "      <th>key</th>\n",
              "      <th>loudness</th>\n",
              "      <th>mode</th>\n",
              "      <th>acousticness</th>\n",
              "      <th>speechiness</th>\n",
              "      <th>instrumentalness</th>\n",
              "      <th>liveness</th>\n",
              "      <th>valence</th>\n",
              "      <th>tempo</th>\n",
              "      <th>duration_ms</th>\n",
              "      <th>time_signature</th>\n",
              "    </tr>\n",
              "  </thead>\n",
              "  <tbody>\n",
              "    <tr>\n",
              "      <th>0</th>\n",
              "      <td>John Legend</td>\n",
              "      <td>Love In The Future (Expanded Edition)</td>\n",
              "      <td>All of Me</td>\n",
              "      <td>3U4isOIWM3VvDubwSI3y7a</td>\n",
              "      <td>0.422</td>\n",
              "      <td>0.2640</td>\n",
              "      <td>8</td>\n",
              "      <td>-7.064</td>\n",
              "      <td>1</td>\n",
              "      <td>0.922</td>\n",
              "      <td>0.0322</td>\n",
              "      <td>0</td>\n",
              "      <td>0.1320</td>\n",
              "      <td>0.331</td>\n",
              "      <td>119.930</td>\n",
              "      <td>269560</td>\n",
              "      <td>4</td>\n",
              "    </tr>\n",
              "    <tr>\n",
              "      <th>1</th>\n",
              "      <td>Sam Smith</td>\n",
              "      <td>In The Lonely Hour</td>\n",
              "      <td>Stay With Me</td>\n",
              "      <td>5Nm9ERjJZ5oyfXZTECKmRt</td>\n",
              "      <td>0.418</td>\n",
              "      <td>0.4200</td>\n",
              "      <td>0</td>\n",
              "      <td>-6.444</td>\n",
              "      <td>1</td>\n",
              "      <td>0.588</td>\n",
              "      <td>0.0414</td>\n",
              "      <td>6.39e-05</td>\n",
              "      <td>0.1100</td>\n",
              "      <td>0.184</td>\n",
              "      <td>84.094</td>\n",
              "      <td>172724</td>\n",
              "      <td>4</td>\n",
              "    </tr>\n",
              "    <tr>\n",
              "      <th>2</th>\n",
              "      <td>Passenger</td>\n",
              "      <td>All The Little Lights</td>\n",
              "      <td>Let Her Go</td>\n",
              "      <td>2jyjhRf6DVbMPU5zxagN2h</td>\n",
              "      <td>0.509</td>\n",
              "      <td>0.5380</td>\n",
              "      <td>7</td>\n",
              "      <td>-7.335</td>\n",
              "      <td>1</td>\n",
              "      <td>0.385</td>\n",
              "      <td>0.0572</td>\n",
              "      <td>0</td>\n",
              "      <td>0.1040</td>\n",
              "      <td>0.244</td>\n",
              "      <td>75.089</td>\n",
              "      <td>252867</td>\n",
              "      <td>4</td>\n",
              "    </tr>\n",
              "    <tr>\n",
              "      <th>3</th>\n",
              "      <td>Howard Shore</td>\n",
              "      <td>The Hobbit - The Desolation Of Smaug (Original...</td>\n",
              "      <td>I See Fire - From \"The Hobbit - The Desolation...</td>\n",
              "      <td>3B7udSGy2PfgoCniMSb523</td>\n",
              "      <td>0.581</td>\n",
              "      <td>0.0549</td>\n",
              "      <td>10</td>\n",
              "      <td>-20.514</td>\n",
              "      <td>0</td>\n",
              "      <td>0.559</td>\n",
              "      <td>0.0397</td>\n",
              "      <td>0</td>\n",
              "      <td>0.0718</td>\n",
              "      <td>0.234</td>\n",
              "      <td>152.037</td>\n",
              "      <td>300840</td>\n",
              "      <td>4</td>\n",
              "    </tr>\n",
              "    <tr>\n",
              "      <th>4</th>\n",
              "      <td>Plain White T's</td>\n",
              "      <td>All That We Needed</td>\n",
              "      <td>Hey There Delilah</td>\n",
              "      <td>4RCWB3V8V0dignt99LZ8vH</td>\n",
              "      <td>0.656</td>\n",
              "      <td>0.2910</td>\n",
              "      <td>2</td>\n",
              "      <td>-10.572</td>\n",
              "      <td>1</td>\n",
              "      <td>0.872</td>\n",
              "      <td>0.0293</td>\n",
              "      <td>0</td>\n",
              "      <td>0.1140</td>\n",
              "      <td>0.298</td>\n",
              "      <td>103.971</td>\n",
              "      <td>232533</td>\n",
              "      <td>4</td>\n",
              "    </tr>\n",
              "  </tbody>\n",
              "</table>\n",
              "</div>"
            ],
            "text/plain": [
              "            artist  ... time_signature\n",
              "0      John Legend  ...              4\n",
              "1        Sam Smith  ...              4\n",
              "2        Passenger  ...              4\n",
              "3     Howard Shore  ...              4\n",
              "4  Plain White T's  ...              4\n",
              "\n",
              "[5 rows x 17 columns]"
            ]
          },
          "metadata": {},
          "execution_count": 176
        }
      ]
    },
    {
      "cell_type": "code",
      "metadata": {
        "id": "hEM5goCNk1Zw"
      },
      "source": [
        "user_df['instrumentalness'] = user_df['instrumentalness'].astype(np.float64)"
      ],
      "execution_count": null,
      "outputs": []
    },
    {
      "cell_type": "code",
      "metadata": {
        "id": "msiiTLCEkvNL"
      },
      "source": [
        "numerical_cols = user_df.select_dtypes(include=np.number).columns.tolist()"
      ],
      "execution_count": null,
      "outputs": []
    },
    {
      "cell_type": "code",
      "metadata": {
        "colab": {
          "base_uri": "https://localhost:8080/"
        },
        "id": "xBlaoibdkyGI",
        "outputId": "ceb34bed-2823-4bb2-d82c-63961398a57e"
      },
      "source": [
        "numerical_cols"
      ],
      "execution_count": null,
      "outputs": [
        {
          "data": {
            "text/plain": [
              "['danceability',\n",
              " 'energy',\n",
              " 'loudness',\n",
              " 'acousticness',\n",
              " 'speechiness',\n",
              " 'instrumentalness',\n",
              " 'liveness',\n",
              " 'valence',\n",
              " 'tempo']"
            ]
          },
          "execution_count": 40,
          "metadata": {},
          "output_type": "execute_result"
        }
      ]
    },
    {
      "cell_type": "code",
      "metadata": {
        "id": "jltZ4dxxiz4z"
      },
      "source": [
        "X_user_df = scaled_numeric_features(user_df[['danceability', 'energy', 'acousticness', 'instrumentalness', 'valence','tempo']])"
      ],
      "execution_count": null,
      "outputs": []
    },
    {
      "cell_type": "code",
      "metadata": {
        "id": "dAuTYIYjlqMW"
      },
      "source": [
        "y_label = loaded_model.predict(X_user_df)\n",
        "y_label_kmeans = loaded_model_kmeans.fit_predict(X_user_df)"
      ],
      "execution_count": null,
      "outputs": []
    },
    {
      "cell_type": "code",
      "metadata": {
        "id": "dLHb65MFlweO"
      },
      "source": [
        "X_user_df['Labels_rf'] = y_label\n",
        "X_user_df['Labels_kmeans'] = y_label_kmeans\n",
        "X_user_df = X_user_df.astype({'Labels_kmeans': str})\n",
        "X_user_df['Labels_kmeans'].replace({'0': 'Classically Acoustics', '1': 'Definitely Pump', '2': 'Happy Trance'}, inplace = True)"
      ],
      "execution_count": null,
      "outputs": []
    },
    {
      "cell_type": "code",
      "metadata": {
        "colab": {
          "base_uri": "https://localhost:8080/",
          "height": 886
        },
        "id": "AUYmFnVHdQft",
        "outputId": "7bfd3b30-4d49-43d0-bd73-77573468c4db"
      },
      "source": [
        "X_user_df"
      ],
      "execution_count": null,
      "outputs": [
        {
          "output_type": "execute_result",
          "data": {
            "text/html": [
              "<div>\n",
              "<style scoped>\n",
              "    .dataframe tbody tr th:only-of-type {\n",
              "        vertical-align: middle;\n",
              "    }\n",
              "\n",
              "    .dataframe tbody tr th {\n",
              "        vertical-align: top;\n",
              "    }\n",
              "\n",
              "    .dataframe thead th {\n",
              "        text-align: right;\n",
              "    }\n",
              "</style>\n",
              "<table border=\"1\" class=\"dataframe\">\n",
              "  <thead>\n",
              "    <tr style=\"text-align: right;\">\n",
              "      <th></th>\n",
              "      <th>danceability</th>\n",
              "      <th>energy</th>\n",
              "      <th>acousticness</th>\n",
              "      <th>instrumentalness</th>\n",
              "      <th>valence</th>\n",
              "      <th>tempo</th>\n",
              "      <th>Labels_rf</th>\n",
              "      <th>Labels_kmeans</th>\n",
              "    </tr>\n",
              "  </thead>\n",
              "  <tbody>\n",
              "    <tr>\n",
              "      <th>0</th>\n",
              "      <td>-1.177425</td>\n",
              "      <td>-1.054567</td>\n",
              "      <td>1.346787</td>\n",
              "      <td>-0.388801</td>\n",
              "      <td>-0.224539</td>\n",
              "      <td>0.221395</td>\n",
              "      <td>Classically Acoustics</td>\n",
              "      <td>Definitely Pump</td>\n",
              "    </tr>\n",
              "    <tr>\n",
              "      <th>1</th>\n",
              "      <td>-1.210275</td>\n",
              "      <td>-0.382874</td>\n",
              "      <td>0.405654</td>\n",
              "      <td>-0.388513</td>\n",
              "      <td>-1.206031</td>\n",
              "      <td>-0.967547</td>\n",
              "      <td>Definitely Pump</td>\n",
              "      <td>Definitely Pump</td>\n",
              "    </tr>\n",
              "    <tr>\n",
              "      <th>2</th>\n",
              "      <td>-0.462940</td>\n",
              "      <td>0.125201</td>\n",
              "      <td>-0.166353</td>\n",
              "      <td>-0.388801</td>\n",
              "      <td>-0.805422</td>\n",
              "      <td>-1.266309</td>\n",
              "      <td>Definitely Pump</td>\n",
              "      <td>Classically Acoustics</td>\n",
              "    </tr>\n",
              "    <tr>\n",
              "      <th>3</th>\n",
              "      <td>0.128358</td>\n",
              "      <td>-1.954893</td>\n",
              "      <td>0.323939</td>\n",
              "      <td>-0.388801</td>\n",
              "      <td>-0.872190</td>\n",
              "      <td>1.286618</td>\n",
              "      <td>Classically Acoustics</td>\n",
              "      <td>Definitely Pump</td>\n",
              "    </tr>\n",
              "    <tr>\n",
              "      <th>4</th>\n",
              "      <td>0.744293</td>\n",
              "      <td>-0.938312</td>\n",
              "      <td>1.205899</td>\n",
              "      <td>-0.388801</td>\n",
              "      <td>-0.444874</td>\n",
              "      <td>-0.308082</td>\n",
              "      <td>Classically Acoustics</td>\n",
              "      <td>Definitely Pump</td>\n",
              "    </tr>\n",
              "    <tr>\n",
              "      <th>5</th>\n",
              "      <td>-0.783226</td>\n",
              "      <td>-1.239713</td>\n",
              "      <td>0.701519</td>\n",
              "      <td>-0.388801</td>\n",
              "      <td>-0.671886</td>\n",
              "      <td>0.678710</td>\n",
              "      <td>Classically Acoustics</td>\n",
              "      <td>Definitely Pump</td>\n",
              "    </tr>\n",
              "    <tr>\n",
              "      <th>6</th>\n",
              "      <td>1.532690</td>\n",
              "      <td>-0.016888</td>\n",
              "      <td>0.256312</td>\n",
              "      <td>-0.388789</td>\n",
              "      <td>0.363021</td>\n",
              "      <td>-0.706243</td>\n",
              "      <td>Happy Trance</td>\n",
              "      <td>Classically Acoustics</td>\n",
              "    </tr>\n",
              "    <tr>\n",
              "      <th>7</th>\n",
              "      <td>-0.462940</td>\n",
              "      <td>-0.128837</td>\n",
              "      <td>-0.448129</td>\n",
              "      <td>-0.309994</td>\n",
              "      <td>-0.438197</td>\n",
              "      <td>1.085232</td>\n",
              "      <td>Definitely Pump</td>\n",
              "      <td>Classically Acoustics</td>\n",
              "    </tr>\n",
              "    <tr>\n",
              "      <th>8</th>\n",
              "      <td>-0.799651</td>\n",
              "      <td>-0.305371</td>\n",
              "      <td>1.248166</td>\n",
              "      <td>1.268393</td>\n",
              "      <td>1.437989</td>\n",
              "      <td>-1.231473</td>\n",
              "      <td>Happy Trance</td>\n",
              "      <td>Happy Trance</td>\n",
              "    </tr>\n",
              "    <tr>\n",
              "      <th>9</th>\n",
              "      <td>1.614815</td>\n",
              "      <td>-0.507740</td>\n",
              "      <td>1.191810</td>\n",
              "      <td>-0.386455</td>\n",
              "      <td>-0.064295</td>\n",
              "      <td>0.819449</td>\n",
              "      <td>Happy Trance</td>\n",
              "      <td>Definitely Pump</td>\n",
              "    </tr>\n",
              "    <tr>\n",
              "      <th>10</th>\n",
              "      <td>0.366519</td>\n",
              "      <td>0.301735</td>\n",
              "      <td>-1.103541</td>\n",
              "      <td>-0.388791</td>\n",
              "      <td>-1.079171</td>\n",
              "      <td>-0.505520</td>\n",
              "      <td>Definitely Pump</td>\n",
              "      <td>Classically Acoustics</td>\n",
              "    </tr>\n",
              "    <tr>\n",
              "      <th>11</th>\n",
              "      <td>-0.003042</td>\n",
              "      <td>0.973428</td>\n",
              "      <td>-1.206953</td>\n",
              "      <td>1.110779</td>\n",
              "      <td>0.029180</td>\n",
              "      <td>-0.670876</td>\n",
              "      <td>Definitely Pump</td>\n",
              "      <td>Classically Acoustics</td>\n",
              "    </tr>\n",
              "    <tr>\n",
              "      <th>12</th>\n",
              "      <td>0.062658</td>\n",
              "      <td>1.171491</td>\n",
              "      <td>-1.035070</td>\n",
              "      <td>-0.388682</td>\n",
              "      <td>-0.144417</td>\n",
              "      <td>0.885073</td>\n",
              "      <td>Definitely Pump</td>\n",
              "      <td>Classically Acoustics</td>\n",
              "    </tr>\n",
              "    <tr>\n",
              "      <th>13</th>\n",
              "      <td>0.333670</td>\n",
              "      <td>1.248994</td>\n",
              "      <td>-1.215125</td>\n",
              "      <td>-0.388801</td>\n",
              "      <td>1.825244</td>\n",
              "      <td>-0.339833</td>\n",
              "      <td>Happy Trance</td>\n",
              "      <td>Classically Acoustics</td>\n",
              "    </tr>\n",
              "    <tr>\n",
              "      <th>14</th>\n",
              "      <td>-0.159079</td>\n",
              "      <td>-0.985675</td>\n",
              "      <td>1.479222</td>\n",
              "      <td>-0.382676</td>\n",
              "      <td>0.322960</td>\n",
              "      <td>1.077668</td>\n",
              "      <td>Classically Acoustics</td>\n",
              "      <td>Definitely Pump</td>\n",
              "    </tr>\n",
              "    <tr>\n",
              "      <th>15</th>\n",
              "      <td>-1.538773</td>\n",
              "      <td>-1.536808</td>\n",
              "      <td>1.366512</td>\n",
              "      <td>2.353675</td>\n",
              "      <td>-0.144417</td>\n",
              "      <td>1.636572</td>\n",
              "      <td>Classically Acoustics</td>\n",
              "      <td>Definitely Pump</td>\n",
              "    </tr>\n",
              "    <tr>\n",
              "      <th>16</th>\n",
              "      <td>0.489706</td>\n",
              "      <td>0.452436</td>\n",
              "      <td>-0.442494</td>\n",
              "      <td>3.916300</td>\n",
              "      <td>1.237684</td>\n",
              "      <td>-1.037153</td>\n",
              "      <td>Happy Trance</td>\n",
              "      <td>Happy Trance</td>\n",
              "    </tr>\n",
              "    <tr>\n",
              "      <th>17</th>\n",
              "      <td>-0.347965</td>\n",
              "      <td>1.227465</td>\n",
              "      <td>-1.213434</td>\n",
              "      <td>-0.388683</td>\n",
              "      <td>0.169393</td>\n",
              "      <td>0.821738</td>\n",
              "      <td>Definitely Pump</td>\n",
              "      <td>Classically Acoustics</td>\n",
              "    </tr>\n",
              "    <tr>\n",
              "      <th>18</th>\n",
              "      <td>-0.824289</td>\n",
              "      <td>1.124128</td>\n",
              "      <td>-1.212307</td>\n",
              "      <td>-0.388801</td>\n",
              "      <td>-0.044265</td>\n",
              "      <td>1.973720</td>\n",
              "      <td>Definitely Pump</td>\n",
              "      <td>Classically Acoustics</td>\n",
              "    </tr>\n",
              "    <tr>\n",
              "      <th>19</th>\n",
              "      <td>0.892117</td>\n",
              "      <td>0.960511</td>\n",
              "      <td>-1.179339</td>\n",
              "      <td>-0.388789</td>\n",
              "      <td>0.483204</td>\n",
              "      <td>0.057001</td>\n",
              "      <td>Happy Trance</td>\n",
              "      <td>Classically Acoustics</td>\n",
              "    </tr>\n",
              "    <tr>\n",
              "      <th>20</th>\n",
              "      <td>0.103720</td>\n",
              "      <td>0.120895</td>\n",
              "      <td>-0.794714</td>\n",
              "      <td>-0.388801</td>\n",
              "      <td>-0.765361</td>\n",
              "      <td>-0.973685</td>\n",
              "      <td>Definitely Pump</td>\n",
              "      <td>Classically Acoustics</td>\n",
              "    </tr>\n",
              "    <tr>\n",
              "      <th>21</th>\n",
              "      <td>-0.742164</td>\n",
              "      <td>-1.549725</td>\n",
              "      <td>1.127002</td>\n",
              "      <td>-0.388801</td>\n",
              "      <td>-0.311338</td>\n",
              "      <td>-0.591682</td>\n",
              "      <td>Classically Acoustics</td>\n",
              "      <td>Definitely Pump</td>\n",
              "    </tr>\n",
              "    <tr>\n",
              "      <th>22</th>\n",
              "      <td>-2.277896</td>\n",
              "      <td>-0.593855</td>\n",
              "      <td>0.625440</td>\n",
              "      <td>-0.388801</td>\n",
              "      <td>-1.119232</td>\n",
              "      <td>-2.013362</td>\n",
              "      <td>Classically Acoustics</td>\n",
              "      <td>Definitely Pump</td>\n",
              "    </tr>\n",
              "    <tr>\n",
              "      <th>23</th>\n",
              "      <td>0.571831</td>\n",
              "      <td>1.718318</td>\n",
              "      <td>-1.166941</td>\n",
              "      <td>-0.387351</td>\n",
              "      <td>0.489881</td>\n",
              "      <td>-0.440658</td>\n",
              "      <td>Happy Trance</td>\n",
              "      <td>Classically Acoustics</td>\n",
              "    </tr>\n",
              "    <tr>\n",
              "      <th>24</th>\n",
              "      <td>1.836551</td>\n",
              "      <td>-0.081474</td>\n",
              "      <td>0.957936</td>\n",
              "      <td>-0.386108</td>\n",
              "      <td>3.367589</td>\n",
              "      <td>0.888391</td>\n",
              "      <td>Happy Trance</td>\n",
              "      <td>Happy Trance</td>\n",
              "    </tr>\n",
              "    <tr>\n",
              "      <th>25</th>\n",
              "      <td>1.680514</td>\n",
              "      <td>1.412612</td>\n",
              "      <td>-1.144681</td>\n",
              "      <td>-0.337464</td>\n",
              "      <td>-0.451551</td>\n",
              "      <td>0.456489</td>\n",
              "      <td>Happy Trance</td>\n",
              "      <td>Classically Acoustics</td>\n",
              "    </tr>\n",
              "    <tr>\n",
              "      <th>26</th>\n",
              "      <td>0.432219</td>\n",
              "      <td>0.439518</td>\n",
              "      <td>0.092882</td>\n",
              "      <td>-0.238843</td>\n",
              "      <td>-0.938958</td>\n",
              "      <td>-0.835634</td>\n",
              "      <td>Definitely Pump</td>\n",
              "      <td>Classically Acoustics</td>\n",
              "    </tr>\n",
              "  </tbody>\n",
              "</table>\n",
              "</div>"
            ],
            "text/plain": [
              "    danceability    energy  ...              Labels_rf          Labels_kmeans\n",
              "0      -1.177425 -1.054567  ...  Classically Acoustics        Definitely Pump\n",
              "1      -1.210275 -0.382874  ...        Definitely Pump        Definitely Pump\n",
              "2      -0.462940  0.125201  ...        Definitely Pump  Classically Acoustics\n",
              "3       0.128358 -1.954893  ...  Classically Acoustics        Definitely Pump\n",
              "4       0.744293 -0.938312  ...  Classically Acoustics        Definitely Pump\n",
              "5      -0.783226 -1.239713  ...  Classically Acoustics        Definitely Pump\n",
              "6       1.532690 -0.016888  ...           Happy Trance  Classically Acoustics\n",
              "7      -0.462940 -0.128837  ...        Definitely Pump  Classically Acoustics\n",
              "8      -0.799651 -0.305371  ...           Happy Trance           Happy Trance\n",
              "9       1.614815 -0.507740  ...           Happy Trance        Definitely Pump\n",
              "10      0.366519  0.301735  ...        Definitely Pump  Classically Acoustics\n",
              "11     -0.003042  0.973428  ...        Definitely Pump  Classically Acoustics\n",
              "12      0.062658  1.171491  ...        Definitely Pump  Classically Acoustics\n",
              "13      0.333670  1.248994  ...           Happy Trance  Classically Acoustics\n",
              "14     -0.159079 -0.985675  ...  Classically Acoustics        Definitely Pump\n",
              "15     -1.538773 -1.536808  ...  Classically Acoustics        Definitely Pump\n",
              "16      0.489706  0.452436  ...           Happy Trance           Happy Trance\n",
              "17     -0.347965  1.227465  ...        Definitely Pump  Classically Acoustics\n",
              "18     -0.824289  1.124128  ...        Definitely Pump  Classically Acoustics\n",
              "19      0.892117  0.960511  ...           Happy Trance  Classically Acoustics\n",
              "20      0.103720  0.120895  ...        Definitely Pump  Classically Acoustics\n",
              "21     -0.742164 -1.549725  ...  Classically Acoustics        Definitely Pump\n",
              "22     -2.277896 -0.593855  ...  Classically Acoustics        Definitely Pump\n",
              "23      0.571831  1.718318  ...           Happy Trance  Classically Acoustics\n",
              "24      1.836551 -0.081474  ...           Happy Trance           Happy Trance\n",
              "25      1.680514  1.412612  ...           Happy Trance  Classically Acoustics\n",
              "26      0.432219  0.439518  ...        Definitely Pump  Classically Acoustics\n",
              "\n",
              "[27 rows x 8 columns]"
            ]
          },
          "metadata": {},
          "execution_count": 218
        }
      ]
    },
    {
      "cell_type": "code",
      "metadata": {
        "id": "SnXRd4gi3-Dk"
      },
      "source": [
        "features = ['danceability', 'energy', 'acousticness', 'instrumentalness', 'valence','tempo']\n",
        "df_cluster_avg = X_user_df.groupby('Labels_kmeans').agg('mean')"
      ],
      "execution_count": null,
      "outputs": []
    },
    {
      "cell_type": "code",
      "metadata": {
        "colab": {
          "base_uri": "https://localhost:8080/",
          "height": 173
        },
        "id": "C5XuyOmk40Mx",
        "outputId": "9ebfbea5-7368-4720-ba8b-b784b414153e"
      },
      "source": [
        "df_cluster_avg"
      ],
      "execution_count": null,
      "outputs": [
        {
          "output_type": "execute_result",
          "data": {
            "text/html": [
              "<div>\n",
              "<style scoped>\n",
              "    .dataframe tbody tr th:only-of-type {\n",
              "        vertical-align: middle;\n",
              "    }\n",
              "\n",
              "    .dataframe tbody tr th {\n",
              "        vertical-align: top;\n",
              "    }\n",
              "\n",
              "    .dataframe thead th {\n",
              "        text-align: right;\n",
              "    }\n",
              "</style>\n",
              "<table border=\"1\" class=\"dataframe\">\n",
              "  <thead>\n",
              "    <tr style=\"text-align: right;\">\n",
              "      <th></th>\n",
              "      <th>danceability</th>\n",
              "      <th>energy</th>\n",
              "      <th>acousticness</th>\n",
              "      <th>instrumentalness</th>\n",
              "      <th>valence</th>\n",
              "      <th>tempo</th>\n",
              "    </tr>\n",
              "    <tr>\n",
              "      <th>Labels_kmeans</th>\n",
              "      <th></th>\n",
              "      <th></th>\n",
              "      <th></th>\n",
              "      <th></th>\n",
              "      <th></th>\n",
              "      <th></th>\n",
              "    </tr>\n",
              "  </thead>\n",
              "  <tbody>\n",
              "    <tr>\n",
              "      <th>Classically Acoustics</th>\n",
              "      <td>0.276769</td>\n",
              "      <td>0.762755</td>\n",
              "      <td>-0.824099</td>\n",
              "      <td>-0.261558</td>\n",
              "      <td>-0.093387</td>\n",
              "      <td>-0.032822</td>\n",
              "    </tr>\n",
              "    <tr>\n",
              "      <th>Definitely Pump</th>\n",
              "      <td>-0.540137</td>\n",
              "      <td>-1.074416</td>\n",
              "      <td>0.977378</td>\n",
              "      <td>-0.113678</td>\n",
              "      <td>-0.473584</td>\n",
              "      <td>0.183974</td>\n",
              "    </tr>\n",
              "    <tr>\n",
              "      <th>Happy Trance</th>\n",
              "      <td>0.508869</td>\n",
              "      <td>0.021863</td>\n",
              "      <td>0.587869</td>\n",
              "      <td>1.599528</td>\n",
              "      <td>2.014420</td>\n",
              "      <td>-0.460078</td>\n",
              "    </tr>\n",
              "  </tbody>\n",
              "</table>\n",
              "</div>"
            ],
            "text/plain": [
              "                       danceability    energy  ...   valence     tempo\n",
              "Labels_kmeans                                  ...                    \n",
              "Classically Acoustics      0.276769  0.762755  ... -0.093387 -0.032822\n",
              "Definitely Pump           -0.540137 -1.074416  ... -0.473584  0.183974\n",
              "Happy Trance               0.508869  0.021863  ...  2.014420 -0.460078\n",
              "\n",
              "[3 rows x 6 columns]"
            ]
          },
          "metadata": {},
          "execution_count": 220
        }
      ]
    },
    {
      "cell_type": "code",
      "metadata": {
        "id": "yEg-BXyP3yQ-"
      },
      "source": [
        "cluster_1_features = df_cluster_avg.iloc[0].tolist()\n",
        "cluster_1_features = np.array(cluster_1_features + [cluster_1_features[0]])\n",
        "cluster_2_features = df_cluster_avg.iloc[1].tolist()\n",
        "cluster_2_features = np.array(cluster_2_features + [cluster_2_features[0]])\n",
        "cluster_3_features = df_cluster_avg.iloc[2].tolist()\n",
        "cluster_3_features = np.array(cluster_3_features + [cluster_3_features[0]])"
      ],
      "execution_count": null,
      "outputs": []
    },
    {
      "cell_type": "code",
      "metadata": {
        "colab": {
          "base_uri": "https://localhost:8080/",
          "height": 542
        },
        "id": "Opl2j3xd3myl",
        "outputId": "ef94f20f-3379-4172-d8d9-b77d2bf29c0b"
      },
      "source": [
        "import plotly.graph_objects as go\n",
        "import plotly.offline as pyo\n",
        "\n",
        "\n",
        "categories = ['danceability', 'energy', 'acousticness', 'instrumentalness', 'valence','tempo']\n",
        "categories = [*categories, categories[0]]\n",
        "\n",
        "\n",
        "fig = go.Figure(\n",
        "    data=[\n",
        "        go.Scatterpolar(r=cluster_1_features, theta=categories, fill='toself', name='Cluster 1'),\n",
        "        go.Scatterpolar(r=cluster_2_features, theta=categories, fill='toself', name='Cluster 2'),\n",
        "        go.Scatterpolar(r=cluster_3_features, theta=categories, fill='toself', name='Cluster 3')\n",
        "    ],\n",
        "    layout=go.Layout(\n",
        "        title=go.layout.Title(text='Cluster comparison'),\n",
        "        polar={'radialaxis': {'visible': True}},\n",
        "        showlegend=True\n",
        "    )\n",
        ")\n",
        "\n",
        "# pyo.plot(fig, show_link = True)\n",
        "pyo.iplot(fig)"
      ],
      "execution_count": null,
      "outputs": [
        {
          "output_type": "display_data",
          "data": {
            "text/html": [
              "<html>\n",
              "<head><meta charset=\"utf-8\" /></head>\n",
              "<body>\n",
              "    <div>\n",
              "            <script src=\"https://cdnjs.cloudflare.com/ajax/libs/mathjax/2.7.5/MathJax.js?config=TeX-AMS-MML_SVG\"></script><script type=\"text/javascript\">if (window.MathJax) {MathJax.Hub.Config({SVG: {font: \"STIX-Web\"}});}</script>\n",
              "                <script type=\"text/javascript\">window.PlotlyConfig = {MathJaxConfig: 'local'};</script>\n",
              "        <script src=\"https://cdn.plot.ly/plotly-latest.min.js\"></script>    \n",
              "            <div id=\"f4224b5d-a20e-4117-87a9-20e46fcfd710\" class=\"plotly-graph-div\" style=\"height:525px; width:100%;\"></div>\n",
              "            <script type=\"text/javascript\">\n",
              "                \n",
              "                    window.PLOTLYENV=window.PLOTLYENV || {};\n",
              "                    \n",
              "                if (document.getElementById(\"f4224b5d-a20e-4117-87a9-20e46fcfd710\")) {\n",
              "                    Plotly.newPlot(\n",
              "                        'f4224b5d-a20e-4117-87a9-20e46fcfd710',\n",
              "                        [{\"fill\": \"toself\", \"name\": \"Cluster 1\", \"r\": [0.27676889236975527, 0.7627551252414191, -0.8240994238086049, -0.261557858826668, -0.0933871219906637, -0.032821741279629384, 0.27676889236975527], \"theta\": [\"danceability\", \"energy\", \"acousticness\", \"instrumentalness\", \"valence\", \"tempo\", \"danceability\"], \"type\": \"scatterpolar\"}, {\"fill\": \"toself\", \"name\": \"Cluster 2\", \"r\": [-0.5401371212012697, -1.0744162242403044, 0.9773783981576646, -0.11367751193519368, -0.47358416541336856, 0.1839739044898932, -0.5401371212012697], \"theta\": [\"danceability\", \"energy\", \"acousticness\", \"instrumentalness\", \"valence\", \"tempo\", \"danceability\"], \"type\": \"scatterpolar\"}, {\"fill\": \"toself\", \"name\": \"Cluster 3\", \"r\": [0.5088689062787043, 0.02186349634105651, 0.587869317247939, 1.5995283809750964, 2.0144204540009922, -0.46007822232804446, 0.5088689062787043], \"theta\": [\"danceability\", \"energy\", \"acousticness\", \"instrumentalness\", \"valence\", \"tempo\", \"danceability\"], \"type\": \"scatterpolar\"}],\n",
              "                        {\"polar\": {\"radialaxis\": {\"visible\": true}}, \"showlegend\": true, \"template\": {\"data\": {\"bar\": [{\"error_x\": {\"color\": \"#2a3f5f\"}, \"error_y\": {\"color\": \"#2a3f5f\"}, \"marker\": {\"line\": {\"color\": \"#E5ECF6\", \"width\": 0.5}}, \"type\": \"bar\"}], \"barpolar\": [{\"marker\": {\"line\": {\"color\": \"#E5ECF6\", \"width\": 0.5}}, \"type\": \"barpolar\"}], \"carpet\": [{\"aaxis\": {\"endlinecolor\": \"#2a3f5f\", \"gridcolor\": \"white\", \"linecolor\": \"white\", \"minorgridcolor\": \"white\", \"startlinecolor\": \"#2a3f5f\"}, \"baxis\": {\"endlinecolor\": \"#2a3f5f\", \"gridcolor\": \"white\", \"linecolor\": \"white\", \"minorgridcolor\": \"white\", \"startlinecolor\": \"#2a3f5f\"}, \"type\": \"carpet\"}], \"choropleth\": [{\"colorbar\": {\"outlinewidth\": 0, \"ticks\": \"\"}, \"type\": \"choropleth\"}], \"contour\": [{\"colorbar\": {\"outlinewidth\": 0, \"ticks\": \"\"}, \"colorscale\": [[0.0, \"#0d0887\"], [0.1111111111111111, \"#46039f\"], [0.2222222222222222, \"#7201a8\"], [0.3333333333333333, \"#9c179e\"], [0.4444444444444444, \"#bd3786\"], [0.5555555555555556, \"#d8576b\"], [0.6666666666666666, \"#ed7953\"], [0.7777777777777778, \"#fb9f3a\"], [0.8888888888888888, \"#fdca26\"], [1.0, \"#f0f921\"]], \"type\": \"contour\"}], \"contourcarpet\": [{\"colorbar\": {\"outlinewidth\": 0, \"ticks\": \"\"}, \"type\": \"contourcarpet\"}], \"heatmap\": [{\"colorbar\": {\"outlinewidth\": 0, \"ticks\": \"\"}, \"colorscale\": [[0.0, \"#0d0887\"], [0.1111111111111111, \"#46039f\"], [0.2222222222222222, \"#7201a8\"], [0.3333333333333333, \"#9c179e\"], [0.4444444444444444, \"#bd3786\"], [0.5555555555555556, \"#d8576b\"], [0.6666666666666666, \"#ed7953\"], [0.7777777777777778, \"#fb9f3a\"], [0.8888888888888888, \"#fdca26\"], [1.0, \"#f0f921\"]], \"type\": \"heatmap\"}], \"heatmapgl\": [{\"colorbar\": {\"outlinewidth\": 0, \"ticks\": \"\"}, \"colorscale\": [[0.0, \"#0d0887\"], [0.1111111111111111, \"#46039f\"], [0.2222222222222222, \"#7201a8\"], [0.3333333333333333, \"#9c179e\"], [0.4444444444444444, \"#bd3786\"], [0.5555555555555556, \"#d8576b\"], [0.6666666666666666, \"#ed7953\"], [0.7777777777777778, \"#fb9f3a\"], [0.8888888888888888, \"#fdca26\"], [1.0, \"#f0f921\"]], \"type\": \"heatmapgl\"}], \"histogram\": [{\"marker\": {\"colorbar\": {\"outlinewidth\": 0, \"ticks\": \"\"}}, \"type\": \"histogram\"}], \"histogram2d\": [{\"colorbar\": {\"outlinewidth\": 0, \"ticks\": \"\"}, \"colorscale\": [[0.0, \"#0d0887\"], [0.1111111111111111, \"#46039f\"], [0.2222222222222222, \"#7201a8\"], [0.3333333333333333, \"#9c179e\"], [0.4444444444444444, \"#bd3786\"], [0.5555555555555556, \"#d8576b\"], [0.6666666666666666, \"#ed7953\"], [0.7777777777777778, \"#fb9f3a\"], [0.8888888888888888, \"#fdca26\"], [1.0, \"#f0f921\"]], \"type\": \"histogram2d\"}], \"histogram2dcontour\": [{\"colorbar\": {\"outlinewidth\": 0, \"ticks\": \"\"}, \"colorscale\": [[0.0, \"#0d0887\"], [0.1111111111111111, \"#46039f\"], [0.2222222222222222, \"#7201a8\"], [0.3333333333333333, \"#9c179e\"], [0.4444444444444444, \"#bd3786\"], [0.5555555555555556, \"#d8576b\"], [0.6666666666666666, \"#ed7953\"], [0.7777777777777778, \"#fb9f3a\"], [0.8888888888888888, \"#fdca26\"], [1.0, \"#f0f921\"]], \"type\": \"histogram2dcontour\"}], \"mesh3d\": [{\"colorbar\": {\"outlinewidth\": 0, \"ticks\": \"\"}, \"type\": \"mesh3d\"}], \"parcoords\": [{\"line\": {\"colorbar\": {\"outlinewidth\": 0, \"ticks\": \"\"}}, \"type\": \"parcoords\"}], \"pie\": [{\"automargin\": true, \"type\": \"pie\"}], \"scatter\": [{\"marker\": {\"colorbar\": {\"outlinewidth\": 0, \"ticks\": \"\"}}, \"type\": \"scatter\"}], \"scatter3d\": [{\"line\": {\"colorbar\": {\"outlinewidth\": 0, \"ticks\": \"\"}}, \"marker\": {\"colorbar\": {\"outlinewidth\": 0, \"ticks\": \"\"}}, \"type\": \"scatter3d\"}], \"scattercarpet\": [{\"marker\": {\"colorbar\": {\"outlinewidth\": 0, \"ticks\": \"\"}}, \"type\": \"scattercarpet\"}], \"scattergeo\": [{\"marker\": {\"colorbar\": {\"outlinewidth\": 0, \"ticks\": \"\"}}, \"type\": \"scattergeo\"}], \"scattergl\": [{\"marker\": {\"colorbar\": {\"outlinewidth\": 0, \"ticks\": \"\"}}, \"type\": \"scattergl\"}], \"scattermapbox\": [{\"marker\": {\"colorbar\": {\"outlinewidth\": 0, \"ticks\": \"\"}}, \"type\": \"scattermapbox\"}], \"scatterpolar\": [{\"marker\": {\"colorbar\": {\"outlinewidth\": 0, \"ticks\": \"\"}}, \"type\": \"scatterpolar\"}], \"scatterpolargl\": [{\"marker\": {\"colorbar\": {\"outlinewidth\": 0, \"ticks\": \"\"}}, \"type\": \"scatterpolargl\"}], \"scatterternary\": [{\"marker\": {\"colorbar\": {\"outlinewidth\": 0, \"ticks\": \"\"}}, \"type\": \"scatterternary\"}], \"surface\": [{\"colorbar\": {\"outlinewidth\": 0, \"ticks\": \"\"}, \"colorscale\": [[0.0, \"#0d0887\"], [0.1111111111111111, \"#46039f\"], [0.2222222222222222, \"#7201a8\"], [0.3333333333333333, \"#9c179e\"], [0.4444444444444444, \"#bd3786\"], [0.5555555555555556, \"#d8576b\"], [0.6666666666666666, \"#ed7953\"], [0.7777777777777778, \"#fb9f3a\"], [0.8888888888888888, \"#fdca26\"], [1.0, \"#f0f921\"]], \"type\": \"surface\"}], \"table\": [{\"cells\": {\"fill\": {\"color\": \"#EBF0F8\"}, \"line\": {\"color\": \"white\"}}, \"header\": {\"fill\": {\"color\": \"#C8D4E3\"}, \"line\": {\"color\": \"white\"}}, \"type\": \"table\"}]}, \"layout\": {\"annotationdefaults\": {\"arrowcolor\": \"#2a3f5f\", \"arrowhead\": 0, \"arrowwidth\": 1}, \"coloraxis\": {\"colorbar\": {\"outlinewidth\": 0, \"ticks\": \"\"}}, \"colorscale\": {\"diverging\": [[0, \"#8e0152\"], [0.1, \"#c51b7d\"], [0.2, \"#de77ae\"], [0.3, \"#f1b6da\"], [0.4, \"#fde0ef\"], [0.5, \"#f7f7f7\"], [0.6, \"#e6f5d0\"], [0.7, \"#b8e186\"], [0.8, \"#7fbc41\"], [0.9, \"#4d9221\"], [1, \"#276419\"]], \"sequential\": [[0.0, \"#0d0887\"], [0.1111111111111111, \"#46039f\"], [0.2222222222222222, \"#7201a8\"], [0.3333333333333333, \"#9c179e\"], [0.4444444444444444, \"#bd3786\"], [0.5555555555555556, \"#d8576b\"], [0.6666666666666666, \"#ed7953\"], [0.7777777777777778, \"#fb9f3a\"], [0.8888888888888888, \"#fdca26\"], [1.0, \"#f0f921\"]], \"sequentialminus\": [[0.0, \"#0d0887\"], [0.1111111111111111, \"#46039f\"], [0.2222222222222222, \"#7201a8\"], [0.3333333333333333, \"#9c179e\"], [0.4444444444444444, \"#bd3786\"], [0.5555555555555556, \"#d8576b\"], [0.6666666666666666, \"#ed7953\"], [0.7777777777777778, \"#fb9f3a\"], [0.8888888888888888, \"#fdca26\"], [1.0, \"#f0f921\"]]}, \"colorway\": [\"#636efa\", \"#EF553B\", \"#00cc96\", \"#ab63fa\", \"#FFA15A\", \"#19d3f3\", \"#FF6692\", \"#B6E880\", \"#FF97FF\", \"#FECB52\"], \"font\": {\"color\": \"#2a3f5f\"}, \"geo\": {\"bgcolor\": \"white\", \"lakecolor\": \"white\", \"landcolor\": \"#E5ECF6\", \"showlakes\": true, \"showland\": true, \"subunitcolor\": \"white\"}, \"hoverlabel\": {\"align\": \"left\"}, \"hovermode\": \"closest\", \"mapbox\": {\"style\": \"light\"}, \"paper_bgcolor\": \"white\", \"plot_bgcolor\": \"#E5ECF6\", \"polar\": {\"angularaxis\": {\"gridcolor\": \"white\", \"linecolor\": \"white\", \"ticks\": \"\"}, \"bgcolor\": \"#E5ECF6\", \"radialaxis\": {\"gridcolor\": \"white\", \"linecolor\": \"white\", \"ticks\": \"\"}}, \"scene\": {\"xaxis\": {\"backgroundcolor\": \"#E5ECF6\", \"gridcolor\": \"white\", \"gridwidth\": 2, \"linecolor\": \"white\", \"showbackground\": true, \"ticks\": \"\", \"zerolinecolor\": \"white\"}, \"yaxis\": {\"backgroundcolor\": \"#E5ECF6\", \"gridcolor\": \"white\", \"gridwidth\": 2, \"linecolor\": \"white\", \"showbackground\": true, \"ticks\": \"\", \"zerolinecolor\": \"white\"}, \"zaxis\": {\"backgroundcolor\": \"#E5ECF6\", \"gridcolor\": \"white\", \"gridwidth\": 2, \"linecolor\": \"white\", \"showbackground\": true, \"ticks\": \"\", \"zerolinecolor\": \"white\"}}, \"shapedefaults\": {\"line\": {\"color\": \"#2a3f5f\"}}, \"ternary\": {\"aaxis\": {\"gridcolor\": \"white\", \"linecolor\": \"white\", \"ticks\": \"\"}, \"baxis\": {\"gridcolor\": \"white\", \"linecolor\": \"white\", \"ticks\": \"\"}, \"bgcolor\": \"#E5ECF6\", \"caxis\": {\"gridcolor\": \"white\", \"linecolor\": \"white\", \"ticks\": \"\"}}, \"title\": {\"x\": 0.05}, \"xaxis\": {\"automargin\": true, \"gridcolor\": \"white\", \"linecolor\": \"white\", \"ticks\": \"\", \"title\": {\"standoff\": 15}, \"zerolinecolor\": \"white\", \"zerolinewidth\": 2}, \"yaxis\": {\"automargin\": true, \"gridcolor\": \"white\", \"linecolor\": \"white\", \"ticks\": \"\", \"title\": {\"standoff\": 15}, \"zerolinecolor\": \"white\", \"zerolinewidth\": 2}}}, \"title\": {\"text\": \"Cluster comparison\"}},\n",
              "                        {\"responsive\": true}\n",
              "                    ).then(function(){\n",
              "                            \n",
              "var gd = document.getElementById('f4224b5d-a20e-4117-87a9-20e46fcfd710');\n",
              "var x = new MutationObserver(function (mutations, observer) {{\n",
              "        var display = window.getComputedStyle(gd).display;\n",
              "        if (!display || display === 'none') {{\n",
              "            console.log([gd, 'removed!']);\n",
              "            Plotly.purge(gd);\n",
              "            observer.disconnect();\n",
              "        }}\n",
              "}});\n",
              "\n",
              "// Listen for the removal of the full notebook cells\n",
              "var notebookContainer = gd.closest('#notebook-container');\n",
              "if (notebookContainer) {{\n",
              "    x.observe(notebookContainer, {childList: true});\n",
              "}}\n",
              "\n",
              "// Listen for the clearing of the current output cell\n",
              "var outputEl = gd.closest('.output');\n",
              "if (outputEl) {{\n",
              "    x.observe(outputEl, {childList: true});\n",
              "}}\n",
              "\n",
              "                        })\n",
              "                };\n",
              "                \n",
              "            </script>\n",
              "        </div>\n",
              "</body>\n",
              "</html>"
            ]
          },
          "metadata": {}
        }
      ]
    },
    {
      "cell_type": "code",
      "metadata": {
        "colab": {
          "base_uri": "https://localhost:8080/"
        },
        "id": "PH5j79RVl06j",
        "outputId": "c4e1f198-f61e-4695-817c-b5bfd4a66144"
      },
      "source": [
        "X_user_df.Labels_rf.value_counts()"
      ],
      "execution_count": null,
      "outputs": [
        {
          "output_type": "execute_result",
          "data": {
            "text/plain": [
              "Happy Trance             36\n",
              "Definitely Pump          34\n",
              "Classically Acoustics     9\n",
              "Name: Labels_rf, dtype: int64"
            ]
          },
          "metadata": {},
          "execution_count": 69
        }
      ]
    },
    {
      "cell_type": "code",
      "metadata": {
        "colab": {
          "base_uri": "https://localhost:8080/"
        },
        "id": "adXyS7I6zB0Z",
        "outputId": "ebaa548a-1944-4843-dfcf-97314546e656"
      },
      "source": [
        "X_user_df.Labels_kmeans.value_counts()"
      ],
      "execution_count": null,
      "outputs": [
        {
          "output_type": "execute_result",
          "data": {
            "text/plain": [
              "Classically Acoustics    14\n",
              "Definitely Pump          11\n",
              "Happy Trance              4\n",
              "Name: Labels_kmeans, dtype: int64"
            ]
          },
          "metadata": {},
          "execution_count": 169
        }
      ]
    },
    {
      "cell_type": "code",
      "metadata": {
        "colab": {
          "base_uri": "https://localhost:8080/",
          "height": 1000
        },
        "id": "2-yzLd_U320T",
        "outputId": "e5f9e844-505f-4146-f6b5-d4f954bd9b63"
      },
      "source": [
        "user_df[X_user_df['Labels_rf']== 'Definitely Pump']"
      ],
      "execution_count": null,
      "outputs": [
        {
          "output_type": "execute_result",
          "data": {
            "text/html": [
              "<div>\n",
              "<style scoped>\n",
              "    .dataframe tbody tr th:only-of-type {\n",
              "        vertical-align: middle;\n",
              "    }\n",
              "\n",
              "    .dataframe tbody tr th {\n",
              "        vertical-align: top;\n",
              "    }\n",
              "\n",
              "    .dataframe thead th {\n",
              "        text-align: right;\n",
              "    }\n",
              "</style>\n",
              "<table border=\"1\" class=\"dataframe\">\n",
              "  <thead>\n",
              "    <tr style=\"text-align: right;\">\n",
              "      <th></th>\n",
              "      <th>artist</th>\n",
              "      <th>album</th>\n",
              "      <th>track_name</th>\n",
              "      <th>track_id</th>\n",
              "      <th>danceability</th>\n",
              "      <th>energy</th>\n",
              "      <th>key</th>\n",
              "      <th>loudness</th>\n",
              "      <th>mode</th>\n",
              "      <th>acousticness</th>\n",
              "      <th>speechiness</th>\n",
              "      <th>instrumentalness</th>\n",
              "      <th>liveness</th>\n",
              "      <th>valence</th>\n",
              "      <th>tempo</th>\n",
              "      <th>duration_ms</th>\n",
              "      <th>time_signature</th>\n",
              "    </tr>\n",
              "  </thead>\n",
              "  <tbody>\n",
              "    <tr>\n",
              "      <th>2</th>\n",
              "      <td>MGMT</td>\n",
              "      <td>Oracular Spectacular</td>\n",
              "      <td>Kids</td>\n",
              "      <td>1jJci4qxiYcOHhQR247rEU</td>\n",
              "      <td>0.451</td>\n",
              "      <td>0.931</td>\n",
              "      <td>9</td>\n",
              "      <td>-3.871</td>\n",
              "      <td>1</td>\n",
              "      <td>0.000760</td>\n",
              "      <td>0.0719</td>\n",
              "      <td>0.004900</td>\n",
              "      <td>0.3610</td>\n",
              "      <td>0.1720</td>\n",
              "      <td>122.961</td>\n",
              "      <td>302840</td>\n",
              "      <td>4</td>\n",
              "    </tr>\n",
              "    <tr>\n",
              "      <th>3</th>\n",
              "      <td>MGMT</td>\n",
              "      <td>Oracular Spectacular</td>\n",
              "      <td>Time to Pretend</td>\n",
              "      <td>4iG2gAwKXsOcijVaVXzRPW</td>\n",
              "      <td>0.438</td>\n",
              "      <td>0.940</td>\n",
              "      <td>2</td>\n",
              "      <td>-3.249</td>\n",
              "      <td>1</td>\n",
              "      <td>0.000087</td>\n",
              "      <td>0.0452</td>\n",
              "      <td>0.077700</td>\n",
              "      <td>0.3000</td>\n",
              "      <td>0.4210</td>\n",
              "      <td>100.990</td>\n",
              "      <td>261000</td>\n",
              "      <td>3</td>\n",
              "    </tr>\n",
              "    <tr>\n",
              "      <th>7</th>\n",
              "      <td>Tame Impala</td>\n",
              "      <td>Currents</td>\n",
              "      <td>Eventually</td>\n",
              "      <td>5M4yti0QxgqJieUYaEXcpw</td>\n",
              "      <td>0.424</td>\n",
              "      <td>0.615</td>\n",
              "      <td>9</td>\n",
              "      <td>-6.217</td>\n",
              "      <td>0</td>\n",
              "      <td>0.015800</td>\n",
              "      <td>0.0325</td>\n",
              "      <td>0.000389</td>\n",
              "      <td>0.0844</td>\n",
              "      <td>0.1550</td>\n",
              "      <td>77.935</td>\n",
              "      <td>318591</td>\n",
              "      <td>4</td>\n",
              "    </tr>\n",
              "    <tr>\n",
              "      <th>8</th>\n",
              "      <td>Tame Impala</td>\n",
              "      <td>Lonerism</td>\n",
              "      <td>Mind Mischief</td>\n",
              "      <td>6ewQE1dNPv9qqlnB1CxrvM</td>\n",
              "      <td>0.250</td>\n",
              "      <td>0.942</td>\n",
              "      <td>6</td>\n",
              "      <td>-3.235</td>\n",
              "      <td>1</td>\n",
              "      <td>0.081500</td>\n",
              "      <td>0.0545</td>\n",
              "      <td>0.000970</td>\n",
              "      <td>0.3670</td>\n",
              "      <td>0.8220</td>\n",
              "      <td>161.333</td>\n",
              "      <td>271880</td>\n",
              "      <td>4</td>\n",
              "    </tr>\n",
              "    <tr>\n",
              "      <th>11</th>\n",
              "      <td>Tame Impala</td>\n",
              "      <td>Currents</td>\n",
              "      <td>Yes I'm Changing</td>\n",
              "      <td>0xtIp0lgccN85GfGOekS5L</td>\n",
              "      <td>0.373</td>\n",
              "      <td>0.609</td>\n",
              "      <td>0</td>\n",
              "      <td>-7.000</td>\n",
              "      <td>1</td>\n",
              "      <td>0.108000</td>\n",
              "      <td>0.0316</td>\n",
              "      <td>0.000427</td>\n",
              "      <td>0.0755</td>\n",
              "      <td>0.3540</td>\n",
              "      <td>179.955</td>\n",
              "      <td>270680</td>\n",
              "      <td>4</td>\n",
              "    </tr>\n",
              "    <tr>\n",
              "      <th>14</th>\n",
              "      <td>Arctic Monkeys</td>\n",
              "      <td>Whatever People Say I Am, That's What I'm Not</td>\n",
              "      <td>A Certain Romance</td>\n",
              "      <td>0eDQj41kzBhMKQIkTt6OJR</td>\n",
              "      <td>0.455</td>\n",
              "      <td>0.881</td>\n",
              "      <td>11</td>\n",
              "      <td>-5.587</td>\n",
              "      <td>1</td>\n",
              "      <td>0.000566</td>\n",
              "      <td>0.0401</td>\n",
              "      <td>0.000061</td>\n",
              "      <td>0.1100</td>\n",
              "      <td>0.2010</td>\n",
              "      <td>137.949</td>\n",
              "      <td>331200</td>\n",
              "      <td>4</td>\n",
              "    </tr>\n",
              "    <tr>\n",
              "      <th>15</th>\n",
              "      <td>Tame Impala</td>\n",
              "      <td>Lonerism</td>\n",
              "      <td>Feels Like We Only Go Backwards</td>\n",
              "      <td>0LtOwyZoSNZKJWHqjzADpW</td>\n",
              "      <td>0.303</td>\n",
              "      <td>0.900</td>\n",
              "      <td>2</td>\n",
              "      <td>-2.352</td>\n",
              "      <td>0</td>\n",
              "      <td>0.027700</td>\n",
              "      <td>0.0574</td>\n",
              "      <td>0.635000</td>\n",
              "      <td>0.1100</td>\n",
              "      <td>0.4910</td>\n",
              "      <td>149.508</td>\n",
              "      <td>192960</td>\n",
              "      <td>4</td>\n",
              "    </tr>\n",
              "    <tr>\n",
              "      <th>21</th>\n",
              "      <td>Kings of Leon</td>\n",
              "      <td>Only By The Night</td>\n",
              "      <td>Closer</td>\n",
              "      <td>47jpI85aNpUG0KDLpTPVEq</td>\n",
              "      <td>0.398</td>\n",
              "      <td>0.768</td>\n",
              "      <td>11</td>\n",
              "      <td>-4.624</td>\n",
              "      <td>0</td>\n",
              "      <td>0.469000</td>\n",
              "      <td>0.0392</td>\n",
              "      <td>0.000020</td>\n",
              "      <td>0.1060</td>\n",
              "      <td>0.2350</td>\n",
              "      <td>108.685</td>\n",
              "      <td>237480</td>\n",
              "      <td>5</td>\n",
              "    </tr>\n",
              "    <tr>\n",
              "      <th>27</th>\n",
              "      <td>Massive Attack</td>\n",
              "      <td>Mezzanine</td>\n",
              "      <td>Angel</td>\n",
              "      <td>7uv632EkfwYhXoqf8rhYrg</td>\n",
              "      <td>0.714</td>\n",
              "      <td>0.309</td>\n",
              "      <td>7</td>\n",
              "      <td>-10.796</td>\n",
              "      <td>1</td>\n",
              "      <td>0.015700</td>\n",
              "      <td>0.0291</td>\n",
              "      <td>0.807000</td>\n",
              "      <td>0.0777</td>\n",
              "      <td>0.0671</td>\n",
              "      <td>107.346</td>\n",
              "      <td>379533</td>\n",
              "      <td>4</td>\n",
              "    </tr>\n",
              "    <tr>\n",
              "      <th>29</th>\n",
              "      <td>Muse</td>\n",
              "      <td>The Resistance</td>\n",
              "      <td>Resistance</td>\n",
              "      <td>1C2QJNTmsTxCDBuIgai8QV</td>\n",
              "      <td>0.467</td>\n",
              "      <td>0.774</td>\n",
              "      <td>9</td>\n",
              "      <td>-6.569</td>\n",
              "      <td>0</td>\n",
              "      <td>0.061600</td>\n",
              "      <td>0.0485</td>\n",
              "      <td>0.289000</td>\n",
              "      <td>0.1080</td>\n",
              "      <td>0.0916</td>\n",
              "      <td>135.006</td>\n",
              "      <td>346693</td>\n",
              "      <td>4</td>\n",
              "    </tr>\n",
              "    <tr>\n",
              "      <th>30</th>\n",
              "      <td>Band of Horses</td>\n",
              "      <td>Cease To Begin</td>\n",
              "      <td>Is There A Ghost</td>\n",
              "      <td>7fgOmdonXZap1Kuz7hs3O1</td>\n",
              "      <td>0.299</td>\n",
              "      <td>0.843</td>\n",
              "      <td>1</td>\n",
              "      <td>-3.841</td>\n",
              "      <td>1</td>\n",
              "      <td>0.004900</td>\n",
              "      <td>0.0354</td>\n",
              "      <td>0.000005</td>\n",
              "      <td>0.0790</td>\n",
              "      <td>0.1390</td>\n",
              "      <td>135.643</td>\n",
              "      <td>179667</td>\n",
              "      <td>4</td>\n",
              "    </tr>\n",
              "    <tr>\n",
              "      <th>31</th>\n",
              "      <td>Band of Horses</td>\n",
              "      <td>Everything All The Time</td>\n",
              "      <td>The Funeral</td>\n",
              "      <td>5lRzWDEe7UuedU2QPsFg0K</td>\n",
              "      <td>0.319</td>\n",
              "      <td>0.757</td>\n",
              "      <td>0</td>\n",
              "      <td>-6.117</td>\n",
              "      <td>0</td>\n",
              "      <td>0.016000</td>\n",
              "      <td>0.0432</td>\n",
              "      <td>0.000000</td>\n",
              "      <td>0.1020</td>\n",
              "      <td>0.1010</td>\n",
              "      <td>122.465</td>\n",
              "      <td>322173</td>\n",
              "      <td>4</td>\n",
              "    </tr>\n",
              "    <tr>\n",
              "      <th>33</th>\n",
              "      <td>Massive Attack</td>\n",
              "      <td>Mezzanine</td>\n",
              "      <td>Teardrop</td>\n",
              "      <td>67Hna13dNDkZvBpTXRIaOJ</td>\n",
              "      <td>0.615</td>\n",
              "      <td>0.419</td>\n",
              "      <td>11</td>\n",
              "      <td>-8.800</td>\n",
              "      <td>0</td>\n",
              "      <td>0.017300</td>\n",
              "      <td>0.0395</td>\n",
              "      <td>0.497000</td>\n",
              "      <td>0.1350</td>\n",
              "      <td>0.2160</td>\n",
              "      <td>76.997</td>\n",
              "      <td>330773</td>\n",
              "      <td>4</td>\n",
              "    </tr>\n",
              "    <tr>\n",
              "      <th>34</th>\n",
              "      <td>Moby</td>\n",
              "      <td>Play</td>\n",
              "      <td>Why Does My Heart Feel so Bad?</td>\n",
              "      <td>3llxqT4IdBS7i2CCIPImww</td>\n",
              "      <td>0.338</td>\n",
              "      <td>0.597</td>\n",
              "      <td>7</td>\n",
              "      <td>-8.048</td>\n",
              "      <td>1</td>\n",
              "      <td>0.001060</td>\n",
              "      <td>0.0515</td>\n",
              "      <td>0.157000</td>\n",
              "      <td>0.0846</td>\n",
              "      <td>0.0393</td>\n",
              "      <td>97.884</td>\n",
              "      <td>263560</td>\n",
              "      <td>4</td>\n",
              "    </tr>\n",
              "    <tr>\n",
              "      <th>35</th>\n",
              "      <td>Moby</td>\n",
              "      <td>Play</td>\n",
              "      <td>Porcelain</td>\n",
              "      <td>1hEh8Hc9lBAFWUghHBsCel</td>\n",
              "      <td>0.515</td>\n",
              "      <td>0.613</td>\n",
              "      <td>0</td>\n",
              "      <td>-8.423</td>\n",
              "      <td>0</td>\n",
              "      <td>0.001470</td>\n",
              "      <td>0.0305</td>\n",
              "      <td>0.202000</td>\n",
              "      <td>0.4490</td>\n",
              "      <td>0.3570</td>\n",
              "      <td>94.925</td>\n",
              "      <td>238920</td>\n",
              "      <td>4</td>\n",
              "    </tr>\n",
              "    <tr>\n",
              "      <th>37</th>\n",
              "      <td>The xx</td>\n",
              "      <td>xx</td>\n",
              "      <td>Intro</td>\n",
              "      <td>2usrT8QIbIk9y0NEtQwS4j</td>\n",
              "      <td>0.617</td>\n",
              "      <td>0.778</td>\n",
              "      <td>9</td>\n",
              "      <td>-8.872</td>\n",
              "      <td>0</td>\n",
              "      <td>0.459000</td>\n",
              "      <td>0.0270</td>\n",
              "      <td>0.925000</td>\n",
              "      <td>0.1280</td>\n",
              "      <td>0.1520</td>\n",
              "      <td>100.363</td>\n",
              "      <td>127920</td>\n",
              "      <td>4</td>\n",
              "    </tr>\n",
              "    <tr>\n",
              "      <th>53</th>\n",
              "      <td>The Strokes</td>\n",
              "      <td>The New Abnormal</td>\n",
              "      <td>Bad Decisions</td>\n",
              "      <td>55N8cxpE1QDoeaaNqUnoZ2</td>\n",
              "      <td>0.374</td>\n",
              "      <td>0.922</td>\n",
              "      <td>0</td>\n",
              "      <td>-3.400</td>\n",
              "      <td>1</td>\n",
              "      <td>0.013500</td>\n",
              "      <td>0.0560</td>\n",
              "      <td>0.204000</td>\n",
              "      <td>0.2800</td>\n",
              "      <td>0.3930</td>\n",
              "      <td>153.217</td>\n",
              "      <td>293360</td>\n",
              "      <td>4</td>\n",
              "    </tr>\n",
              "    <tr>\n",
              "      <th>56</th>\n",
              "      <td>Kings of Leon</td>\n",
              "      <td>Only By The Night</td>\n",
              "      <td>Use Somebody</td>\n",
              "      <td>2TYC9SaRhYypUQzB1ZVTG2</td>\n",
              "      <td>0.276</td>\n",
              "      <td>0.715</td>\n",
              "      <td>0</td>\n",
              "      <td>-5.356</td>\n",
              "      <td>1</td>\n",
              "      <td>0.005520</td>\n",
              "      <td>0.0432</td>\n",
              "      <td>0.000417</td>\n",
              "      <td>0.2010</td>\n",
              "      <td>0.1730</td>\n",
              "      <td>137.028</td>\n",
              "      <td>230760</td>\n",
              "      <td>4</td>\n",
              "    </tr>\n",
              "    <tr>\n",
              "      <th>57</th>\n",
              "      <td>Creed</td>\n",
              "      <td>Weathered</td>\n",
              "      <td>One Last Breath</td>\n",
              "      <td>42T2QQv3xgBlpQxaSP7lnK</td>\n",
              "      <td>0.386</td>\n",
              "      <td>0.677</td>\n",
              "      <td>2</td>\n",
              "      <td>-5.830</td>\n",
              "      <td>1</td>\n",
              "      <td>0.008410</td>\n",
              "      <td>0.0346</td>\n",
              "      <td>0.003660</td>\n",
              "      <td>0.3410</td>\n",
              "      <td>0.1950</td>\n",
              "      <td>126.602</td>\n",
              "      <td>238240</td>\n",
              "      <td>4</td>\n",
              "    </tr>\n",
              "    <tr>\n",
              "      <th>58</th>\n",
              "      <td>Creed</td>\n",
              "      <td>Human Clay</td>\n",
              "      <td>Higher</td>\n",
              "      <td>1ZozJfi8u9cO2Ob8KwiwNT</td>\n",
              "      <td>0.459</td>\n",
              "      <td>0.830</td>\n",
              "      <td>2</td>\n",
              "      <td>-6.254</td>\n",
              "      <td>1</td>\n",
              "      <td>0.000051</td>\n",
              "      <td>0.0364</td>\n",
              "      <td>0.000140</td>\n",
              "      <td>0.2060</td>\n",
              "      <td>0.4310</td>\n",
              "      <td>155.827</td>\n",
              "      <td>316733</td>\n",
              "      <td>4</td>\n",
              "    </tr>\n",
              "    <tr>\n",
              "      <th>60</th>\n",
              "      <td>Nickelback</td>\n",
              "      <td>All the Right Reasons</td>\n",
              "      <td>Far Away</td>\n",
              "      <td>0ADZ5dmXhlfzjMw6lefoPl</td>\n",
              "      <td>0.518</td>\n",
              "      <td>0.797</td>\n",
              "      <td>6</td>\n",
              "      <td>-5.153</td>\n",
              "      <td>1</td>\n",
              "      <td>0.000681</td>\n",
              "      <td>0.0309</td>\n",
              "      <td>0.000000</td>\n",
              "      <td>0.1070</td>\n",
              "      <td>0.2930</td>\n",
              "      <td>132.918</td>\n",
              "      <td>238173</td>\n",
              "      <td>4</td>\n",
              "    </tr>\n",
              "    <tr>\n",
              "      <th>62</th>\n",
              "      <td>Three Days Grace</td>\n",
              "      <td>One-X</td>\n",
              "      <td>Never Too Late</td>\n",
              "      <td>5y7NRMui3GLbwj2zBaOqo1</td>\n",
              "      <td>0.433</td>\n",
              "      <td>0.778</td>\n",
              "      <td>2</td>\n",
              "      <td>-4.680</td>\n",
              "      <td>0</td>\n",
              "      <td>0.008380</td>\n",
              "      <td>0.0371</td>\n",
              "      <td>0.000000</td>\n",
              "      <td>0.1630</td>\n",
              "      <td>0.2170</td>\n",
              "      <td>149.864</td>\n",
              "      <td>209333</td>\n",
              "      <td>4</td>\n",
              "    </tr>\n",
              "    <tr>\n",
              "      <th>63</th>\n",
              "      <td>Three Days Grace</td>\n",
              "      <td>One-X</td>\n",
              "      <td>Pain</td>\n",
              "      <td>33daQo3S8j2NcJstEHXwhQ</td>\n",
              "      <td>0.416</td>\n",
              "      <td>0.741</td>\n",
              "      <td>7</td>\n",
              "      <td>-4.001</td>\n",
              "      <td>1</td>\n",
              "      <td>0.008040</td>\n",
              "      <td>0.0335</td>\n",
              "      <td>0.000000</td>\n",
              "      <td>0.2730</td>\n",
              "      <td>0.2860</td>\n",
              "      <td>160.515</td>\n",
              "      <td>202973</td>\n",
              "      <td>4</td>\n",
              "    </tr>\n",
              "    <tr>\n",
              "      <th>65</th>\n",
              "      <td>Breaking Benjamin</td>\n",
              "      <td>Phobia (Clean Version)</td>\n",
              "      <td>The Diary of Jane - Single Version</td>\n",
              "      <td>0faXHILILebCGnJBPU6KJJ</td>\n",
              "      <td>0.392</td>\n",
              "      <td>0.964</td>\n",
              "      <td>10</td>\n",
              "      <td>-4.441</td>\n",
              "      <td>0</td>\n",
              "      <td>0.000071</td>\n",
              "      <td>0.0644</td>\n",
              "      <td>0.038700</td>\n",
              "      <td>0.1060</td>\n",
              "      <td>0.2690</td>\n",
              "      <td>167.024</td>\n",
              "      <td>200547</td>\n",
              "      <td>4</td>\n",
              "    </tr>\n",
              "    <tr>\n",
              "      <th>66</th>\n",
              "      <td>Breaking Benjamin</td>\n",
              "      <td>Phobia (Clean Version)</td>\n",
              "      <td>Breath</td>\n",
              "      <td>4JXfNOePhdgMOI7KZ1L25U</td>\n",
              "      <td>0.347</td>\n",
              "      <td>0.868</td>\n",
              "      <td>5</td>\n",
              "      <td>-4.145</td>\n",
              "      <td>0</td>\n",
              "      <td>0.000120</td>\n",
              "      <td>0.0467</td>\n",
              "      <td>0.000273</td>\n",
              "      <td>0.0845</td>\n",
              "      <td>0.3130</td>\n",
              "      <td>182.851</td>\n",
              "      <td>218467</td>\n",
              "      <td>4</td>\n",
              "    </tr>\n",
              "    <tr>\n",
              "      <th>68</th>\n",
              "      <td>Breaking Benjamin</td>\n",
              "      <td>Phobia (Explicit Version)</td>\n",
              "      <td>Until The End</td>\n",
              "      <td>0ZEeEZnZ496lE6kN7bmSrp</td>\n",
              "      <td>0.298</td>\n",
              "      <td>0.927</td>\n",
              "      <td>10</td>\n",
              "      <td>-4.396</td>\n",
              "      <td>0</td>\n",
              "      <td>0.000210</td>\n",
              "      <td>0.0995</td>\n",
              "      <td>0.000000</td>\n",
              "      <td>0.2960</td>\n",
              "      <td>0.3890</td>\n",
              "      <td>133.997</td>\n",
              "      <td>252800</td>\n",
              "      <td>4</td>\n",
              "    </tr>\n",
              "    <tr>\n",
              "      <th>69</th>\n",
              "      <td>Breaking Benjamin</td>\n",
              "      <td>Phobia (Explicit Version)</td>\n",
              "      <td>Had Enough</td>\n",
              "      <td>7u93rCmIM9mBoT4mvfUBTZ</td>\n",
              "      <td>0.313</td>\n",
              "      <td>0.948</td>\n",
              "      <td>0</td>\n",
              "      <td>-2.772</td>\n",
              "      <td>0</td>\n",
              "      <td>0.000010</td>\n",
              "      <td>0.0762</td>\n",
              "      <td>0.000035</td>\n",
              "      <td>0.1050</td>\n",
              "      <td>0.2420</td>\n",
              "      <td>163.881</td>\n",
              "      <td>228213</td>\n",
              "      <td>4</td>\n",
              "    </tr>\n",
              "    <tr>\n",
              "      <th>70</th>\n",
              "      <td>Breaking Benjamin</td>\n",
              "      <td>Phobia (Explicit Version)</td>\n",
              "      <td>Dance With The Devil</td>\n",
              "      <td>10ASBwZsp7oUUDsJEYz3uS</td>\n",
              "      <td>0.345</td>\n",
              "      <td>0.929</td>\n",
              "      <td>3</td>\n",
              "      <td>-4.469</td>\n",
              "      <td>0</td>\n",
              "      <td>0.000150</td>\n",
              "      <td>0.1420</td>\n",
              "      <td>0.001060</td>\n",
              "      <td>0.1290</td>\n",
              "      <td>0.1810</td>\n",
              "      <td>155.041</td>\n",
              "      <td>227107</td>\n",
              "      <td>3</td>\n",
              "    </tr>\n",
              "    <tr>\n",
              "      <th>71</th>\n",
              "      <td>Breaking Benjamin</td>\n",
              "      <td>We Are Not Alone</td>\n",
              "      <td>So Cold - Remix</td>\n",
              "      <td>4BJyt25nburVwbnESDeIc7</td>\n",
              "      <td>0.490</td>\n",
              "      <td>0.774</td>\n",
              "      <td>0</td>\n",
              "      <td>-5.436</td>\n",
              "      <td>0</td>\n",
              "      <td>0.003050</td>\n",
              "      <td>0.0604</td>\n",
              "      <td>0.000082</td>\n",
              "      <td>0.1200</td>\n",
              "      <td>0.2970</td>\n",
              "      <td>153.048</td>\n",
              "      <td>273440</td>\n",
              "      <td>4</td>\n",
              "    </tr>\n",
              "    <tr>\n",
              "      <th>73</th>\n",
              "      <td>Hoobastank</td>\n",
              "      <td>The Reason (15th Anniversary Deluxe)</td>\n",
              "      <td>The Reason</td>\n",
              "      <td>77loZpT5Y5PRP1S451P9Yz</td>\n",
              "      <td>0.472</td>\n",
              "      <td>0.671</td>\n",
              "      <td>4</td>\n",
              "      <td>-4.649</td>\n",
              "      <td>1</td>\n",
              "      <td>0.012900</td>\n",
              "      <td>0.0290</td>\n",
              "      <td>0.000000</td>\n",
              "      <td>0.1590</td>\n",
              "      <td>0.0681</td>\n",
              "      <td>82.952</td>\n",
              "      <td>232800</td>\n",
              "      <td>4</td>\n",
              "    </tr>\n",
              "    <tr>\n",
              "      <th>74</th>\n",
              "      <td>Seether</td>\n",
              "      <td>Disclaimer II</td>\n",
              "      <td>Broken</td>\n",
              "      <td>507bYMYfbm6sUS9iEAaeSd</td>\n",
              "      <td>0.448</td>\n",
              "      <td>0.610</td>\n",
              "      <td>3</td>\n",
              "      <td>-2.695</td>\n",
              "      <td>0</td>\n",
              "      <td>0.010200</td>\n",
              "      <td>0.0342</td>\n",
              "      <td>0.000491</td>\n",
              "      <td>0.1350</td>\n",
              "      <td>0.2140</td>\n",
              "      <td>123.762</td>\n",
              "      <td>258333</td>\n",
              "      <td>4</td>\n",
              "    </tr>\n",
              "    <tr>\n",
              "      <th>75</th>\n",
              "      <td>Creed</td>\n",
              "      <td>Weathered</td>\n",
              "      <td>My Sacrifice</td>\n",
              "      <td>2VSbEXqs6NbNiZSTcHlIDR</td>\n",
              "      <td>0.320</td>\n",
              "      <td>0.880</td>\n",
              "      <td>2</td>\n",
              "      <td>-6.035</td>\n",
              "      <td>1</td>\n",
              "      <td>0.000101</td>\n",
              "      <td>0.0504</td>\n",
              "      <td>0.000004</td>\n",
              "      <td>0.0760</td>\n",
              "      <td>0.2570</td>\n",
              "      <td>146.349</td>\n",
              "      <td>294600</td>\n",
              "      <td>4</td>\n",
              "    </tr>\n",
              "    <tr>\n",
              "      <th>76</th>\n",
              "      <td>The Cranberries</td>\n",
              "      <td>No Need To Argue</td>\n",
              "      <td>Zombie</td>\n",
              "      <td>2IZZqH4K02UIYg5EohpNHF</td>\n",
              "      <td>0.307</td>\n",
              "      <td>0.635</td>\n",
              "      <td>7</td>\n",
              "      <td>-8.957</td>\n",
              "      <td>1</td>\n",
              "      <td>0.015400</td>\n",
              "      <td>0.0339</td>\n",
              "      <td>0.004830</td>\n",
              "      <td>0.3660</td>\n",
              "      <td>0.3040</td>\n",
              "      <td>166.973</td>\n",
              "      <td>306427</td>\n",
              "      <td>4</td>\n",
              "    </tr>\n",
              "    <tr>\n",
              "      <th>77</th>\n",
              "      <td>Kings of Leon</td>\n",
              "      <td>WALLS</td>\n",
              "      <td>Waste A Moment</td>\n",
              "      <td>5LlsD7LdSMkGV4Iu0a2Zq0</td>\n",
              "      <td>0.436</td>\n",
              "      <td>0.850</td>\n",
              "      <td>2</td>\n",
              "      <td>-4.860</td>\n",
              "      <td>1</td>\n",
              "      <td>0.000861</td>\n",
              "      <td>0.0617</td>\n",
              "      <td>0.740000</td>\n",
              "      <td>0.1280</td>\n",
              "      <td>0.5370</td>\n",
              "      <td>152.644</td>\n",
              "      <td>183093</td>\n",
              "      <td>4</td>\n",
              "    </tr>\n",
              "  </tbody>\n",
              "</table>\n",
              "</div>"
            ],
            "text/plain": [
              "               artist  ... time_signature\n",
              "2                MGMT  ...              4\n",
              "3                MGMT  ...              3\n",
              "7         Tame Impala  ...              4\n",
              "8         Tame Impala  ...              4\n",
              "11        Tame Impala  ...              4\n",
              "14     Arctic Monkeys  ...              4\n",
              "15        Tame Impala  ...              4\n",
              "21      Kings of Leon  ...              5\n",
              "27     Massive Attack  ...              4\n",
              "29               Muse  ...              4\n",
              "30     Band of Horses  ...              4\n",
              "31     Band of Horses  ...              4\n",
              "33     Massive Attack  ...              4\n",
              "34               Moby  ...              4\n",
              "35               Moby  ...              4\n",
              "37             The xx  ...              4\n",
              "53        The Strokes  ...              4\n",
              "56      Kings of Leon  ...              4\n",
              "57              Creed  ...              4\n",
              "58              Creed  ...              4\n",
              "60         Nickelback  ...              4\n",
              "62   Three Days Grace  ...              4\n",
              "63   Three Days Grace  ...              4\n",
              "65  Breaking Benjamin  ...              4\n",
              "66  Breaking Benjamin  ...              4\n",
              "68  Breaking Benjamin  ...              4\n",
              "69  Breaking Benjamin  ...              4\n",
              "70  Breaking Benjamin  ...              3\n",
              "71  Breaking Benjamin  ...              4\n",
              "73         Hoobastank  ...              4\n",
              "74            Seether  ...              4\n",
              "75              Creed  ...              4\n",
              "76    The Cranberries  ...              4\n",
              "77      Kings of Leon  ...              4\n",
              "\n",
              "[34 rows x 17 columns]"
            ]
          },
          "metadata": {},
          "execution_count": 73
        }
      ]
    },
    {
      "cell_type": "code",
      "metadata": {
        "id": "bPYVo0wA6Sym"
      },
      "source": [
        "song_list = user_df.track_id"
      ],
      "execution_count": null,
      "outputs": []
    },
    {
      "cell_type": "code",
      "metadata": {
        "id": "lpYojYBU71dS"
      },
      "source": [
        "def percentage_class_in_df(d):\n",
        "  s = sum(d.values())\n",
        "  b={}\n",
        "  for k, v in d.items():\n",
        "      pct = v / s\n",
        "      b[k] = pct\n",
        "  return b"
      ],
      "execution_count": null,
      "outputs": []
    },
    {
      "cell_type": "code",
      "metadata": {
        "id": "9UOxMohQ8G0g"
      },
      "source": [
        "a = percentage_class_in_df(dict(X_user_df.Labels_kmeans.value_counts()))"
      ],
      "execution_count": null,
      "outputs": []
    },
    {
      "cell_type": "code",
      "metadata": {
        "colab": {
          "base_uri": "https://localhost:8080/"
        },
        "id": "Vc51ugDg9I55",
        "outputId": "532c97c3-f98f-4d33-8171-b1bfb211e79a"
      },
      "source": [
        "a"
      ],
      "execution_count": null,
      "outputs": [
        {
          "output_type": "execute_result",
          "data": {
            "text/plain": [
              "{'Classically Acoustics': 0.2222222222222222,\n",
              " 'Definitely Pump': 0.37037037037037035,\n",
              " 'Happy Trance': 0.4074074074074074}"
            ]
          },
          "metadata": {},
          "execution_count": 198
        }
      ]
    },
    {
      "cell_type": "code",
      "metadata": {
        "colab": {
          "base_uri": "https://localhost:8080/",
          "height": 173
        },
        "id": "l-7fBJdoq1Lg",
        "outputId": "a6b954ee-72e1-4c6d-dbfa-3d2406384523"
      },
      "source": [
        "df_cluster_avg"
      ],
      "execution_count": null,
      "outputs": [
        {
          "output_type": "execute_result",
          "data": {
            "text/html": [
              "<div>\n",
              "<style scoped>\n",
              "    .dataframe tbody tr th:only-of-type {\n",
              "        vertical-align: middle;\n",
              "    }\n",
              "\n",
              "    .dataframe tbody tr th {\n",
              "        vertical-align: top;\n",
              "    }\n",
              "\n",
              "    .dataframe thead th {\n",
              "        text-align: right;\n",
              "    }\n",
              "</style>\n",
              "<table border=\"1\" class=\"dataframe\">\n",
              "  <thead>\n",
              "    <tr style=\"text-align: right;\">\n",
              "      <th></th>\n",
              "      <th>danceability</th>\n",
              "      <th>energy</th>\n",
              "      <th>acousticness</th>\n",
              "      <th>valence</th>\n",
              "      <th>tempo</th>\n",
              "    </tr>\n",
              "    <tr>\n",
              "      <th>Labels_kmeans</th>\n",
              "      <th></th>\n",
              "      <th></th>\n",
              "      <th></th>\n",
              "      <th></th>\n",
              "      <th></th>\n",
              "    </tr>\n",
              "  </thead>\n",
              "  <tbody>\n",
              "    <tr>\n",
              "      <th>Classically Acoustics</th>\n",
              "      <td>-0.508108</td>\n",
              "      <td>0.001770</td>\n",
              "      <td>-0.156772</td>\n",
              "      <td>-0.985696</td>\n",
              "      <td>-1.093676</td>\n",
              "    </tr>\n",
              "    <tr>\n",
              "      <th>Definitely Pump</th>\n",
              "      <td>-0.317579</td>\n",
              "      <td>-1.020164</td>\n",
              "      <td>0.954273</td>\n",
              "      <td>-0.141079</td>\n",
              "      <td>0.467441</td>\n",
              "    </tr>\n",
              "    <tr>\n",
              "      <th>Happy Trance</th>\n",
              "      <td>0.565858</td>\n",
              "      <td>0.926456</td>\n",
              "      <td>-0.782009</td>\n",
              "      <td>0.665906</td>\n",
              "      <td>0.171605</td>\n",
              "    </tr>\n",
              "  </tbody>\n",
              "</table>\n",
              "</div>"
            ],
            "text/plain": [
              "                       danceability    energy  acousticness   valence     tempo\n",
              "Labels_kmeans                                                                  \n",
              "Classically Acoustics     -0.508108  0.001770     -0.156772 -0.985696 -1.093676\n",
              "Definitely Pump           -0.317579 -1.020164      0.954273 -0.141079  0.467441\n",
              "Happy Trance               0.565858  0.926456     -0.782009  0.665906  0.171605"
            ]
          },
          "metadata": {},
          "execution_count": 187
        }
      ]
    },
    {
      "cell_type": "code",
      "metadata": {
        "id": "AAllL22kx0Gy"
      },
      "source": [
        "from sklearn.metrics.pairwise import cosine_similarity"
      ],
      "execution_count": null,
      "outputs": []
    },
    {
      "cell_type": "code",
      "metadata": {
        "id": "Fy11tgHE4yVM"
      },
      "source": [
        "def base_data_creation (user_df, spotify_data):\n",
        "  number_cols = ['danceability', 'energy', 'acousticness', 'instrumentalness', 'valence','tempo']\n",
        "  temp_df = spotify_data[number_cols]\n",
        "  temp_df = scaled_numeric_features(temp_df)\n",
        "  temp_df['id'] = spotify_data['id'].values\n",
        "  exlcude_id = user_df[user_df['track_id'].isin(temp_df.id.values)].track_id\n",
        "  temp_df = temp_df[~temp_df['id'].isin(exlcude_id.values)]\n",
        "  return temp_df\n"
      ],
      "execution_count": null,
      "outputs": []
    },
    {
      "cell_type": "code",
      "metadata": {
        "id": "IR435DLlxc7-"
      },
      "source": [
        "def calculate_cosine_similarity(user_vector, recommendor_frame, n_songs):\n",
        "  redefined_frame = recommendor_frame.iloc[:,:-1]\n",
        "  # temp_df = recommendor_frame.iloc[:,:-1]\n",
        "  # redefined_frame = temp_df[(temp_df['danceability']>=(user_vector_temp[0]-user_vector_temp[0]*.2)) & \n",
        "  #           (temp_df['danceability']>=(user_vector_temp[0]+user_vector_temp[0]*.2))\n",
        "  #           & (temp_df['energy']>=(user_vector_temp[1]-user_vector_temp[1]*.2))\n",
        "  #           & (temp_df['energy']>=(user_vector_temp[1]+user_vector_temp[1]*.2))\n",
        "  #           & (temp_df['acousticness']>=(user_vector_temp[2]-user_vector_temp[2]*.2))\n",
        "  #           & (temp_df['acousticness']>=(user_vector_temp[2]+user_vector_temp[2]*.2))\n",
        "  #           & (temp_df['instrumentalness']>=(user_vector_temp[3]-user_vector_temp[3]*.2))\n",
        "  #           & (temp_df['instrumentalness']>=(user_vector_temp[3]+user_vector_temp[3]*.2))\n",
        "  #           & (temp_df['valence']>=(user_vector_temp[4]-user_vector_temp[4]*.2))\n",
        "  #           & (temp_df['valence']>=(user_vector_temp[4]+user_vector_temp[4]*.2))\n",
        "  #           & (temp_df['tempo']>=(user_vector_temp[5]-user_vector_temp[5]*.2))\n",
        "  #           & (temp_df['tempo']>=(user_vector_temp[5]+user_vector_temp[5]*.2))]\n",
        "  cosine_values = redefined_frame.apply(lambda x: cosine_similarity(np.array(user_vector).reshape(1,-1), np.array(x).reshape(1,-1)), axis =1)\n",
        "  index = list(np.argsort(cosine_values)[:n_songs])\n",
        "  rec_songs = recommendor_frame.iloc[index]\n",
        "  return rec_songs"
      ],
      "execution_count": null,
      "outputs": []
    },
    {
      "cell_type": "code",
      "metadata": {
        "id": "drXOR1NkJ14_"
      },
      "source": [
        "def recommended_song_dataframe(ids, key):\n",
        "  tracks = sap.tracks(ids)\n",
        "  recommended_list = {}\n",
        "  recommended_df = pd.DataFrame()\n",
        "  playlist = tracks[\"tracks\"]\n",
        "  for track in playlist:\n",
        "    recommended_list['Song name'] = track['name']\n",
        "    recommended_list['artist'] = track['album']['artists'][0]['name']\n",
        "    recommended_list['album'] = track['album']['name']\n",
        "    recommended_list['release_date'] = track['album']['release_date']\n",
        "    recommended_list['popularity'] = track['popularity']\n",
        "    recommended_list['Category'] = key\n",
        "    recommended_df = recommended_df.append(recommended_list, ignore_index=True)\n",
        "  return recommended_df"
      ],
      "execution_count": null,
      "outputs": []
    },
    {
      "cell_type": "code",
      "metadata": {
        "id": "vIN-blGLu6BD"
      },
      "source": [
        "# user_vector  = df_cluster_avg.to_dict(orient = 'index')\n",
        "# user_vector\n",
        "user_vector={}\n",
        "for i in df_cluster_avg.index:\n",
        "  user_vector[i] = df_cluster_avg.loc[i].values.tolist()"
      ],
      "execution_count": null,
      "outputs": []
    },
    {
      "cell_type": "code",
      "metadata": {
        "colab": {
          "base_uri": "https://localhost:8080/",
          "height": 173
        },
        "id": "UcNnm70adIQf",
        "outputId": "ecf735a9-203f-4143-e3ae-eb501afa6c5b"
      },
      "source": [
        "df_cluster_avg"
      ],
      "execution_count": null,
      "outputs": [
        {
          "output_type": "execute_result",
          "data": {
            "text/html": [
              "<div>\n",
              "<style scoped>\n",
              "    .dataframe tbody tr th:only-of-type {\n",
              "        vertical-align: middle;\n",
              "    }\n",
              "\n",
              "    .dataframe tbody tr th {\n",
              "        vertical-align: top;\n",
              "    }\n",
              "\n",
              "    .dataframe thead th {\n",
              "        text-align: right;\n",
              "    }\n",
              "</style>\n",
              "<table border=\"1\" class=\"dataframe\">\n",
              "  <thead>\n",
              "    <tr style=\"text-align: right;\">\n",
              "      <th></th>\n",
              "      <th>danceability</th>\n",
              "      <th>energy</th>\n",
              "      <th>acousticness</th>\n",
              "      <th>valence</th>\n",
              "      <th>tempo</th>\n",
              "    </tr>\n",
              "    <tr>\n",
              "      <th>Labels_kmeans</th>\n",
              "      <th></th>\n",
              "      <th></th>\n",
              "      <th></th>\n",
              "      <th></th>\n",
              "      <th></th>\n",
              "    </tr>\n",
              "  </thead>\n",
              "  <tbody>\n",
              "    <tr>\n",
              "      <th>Classically Acoustics</th>\n",
              "      <td>-0.508108</td>\n",
              "      <td>0.001770</td>\n",
              "      <td>-0.156772</td>\n",
              "      <td>-0.985696</td>\n",
              "      <td>-1.093676</td>\n",
              "    </tr>\n",
              "    <tr>\n",
              "      <th>Definitely Pump</th>\n",
              "      <td>-0.317579</td>\n",
              "      <td>-1.020164</td>\n",
              "      <td>0.954273</td>\n",
              "      <td>-0.141079</td>\n",
              "      <td>0.467441</td>\n",
              "    </tr>\n",
              "    <tr>\n",
              "      <th>Happy Trance</th>\n",
              "      <td>0.565858</td>\n",
              "      <td>0.926456</td>\n",
              "      <td>-0.782009</td>\n",
              "      <td>0.665906</td>\n",
              "      <td>0.171605</td>\n",
              "    </tr>\n",
              "  </tbody>\n",
              "</table>\n",
              "</div>"
            ],
            "text/plain": [
              "                       danceability    energy  acousticness   valence     tempo\n",
              "Labels_kmeans                                                                  \n",
              "Classically Acoustics     -0.508108  0.001770     -0.156772 -0.985696 -1.093676\n",
              "Definitely Pump           -0.317579 -1.020164      0.954273 -0.141079  0.467441\n",
              "Happy Trance               0.565858  0.926456     -0.782009  0.665906  0.171605"
            ]
          },
          "metadata": {},
          "execution_count": 207
        }
      ]
    },
    {
      "cell_type": "code",
      "metadata": {
        "id": "3nYJYsmq1zfk"
      },
      "source": [
        "# rec_frame = base_data_creation(user_df , spotify_data)\n",
        "rec_frame = base_data_creation(user_df , df)\n",
        "song_list ={}\n",
        "for k,v in user_vector.items():\n",
        "  song_list[k] = calculate_cosine_similarity(v, rec_frame, 5)"
      ],
      "execution_count": null,
      "outputs": []
    },
    {
      "cell_type": "code",
      "metadata": {
        "id": "vfs_-bugLifi"
      },
      "source": [
        "final_df = pd.DataFrame()\n",
        "for k in song_list.keys():\n",
        "  if k == 'Classically Acoustics':\n",
        "    ca = recommended_song_dataframe(song_list[k]['id'].to_list(), k)\n",
        "  elif k == 'Definitely Pump':\n",
        "    dp = recommended_song_dataframe(song_list[k]['id'].to_list(), k)\n",
        "  elif k == 'Happy Trance':\n",
        "    ht = recommended_song_dataframe(song_list[k]['id'].to_list(), k)\n",
        "\n",
        "frame = [ca, dp, ht]\n",
        "colnames = ['Song name', 'artist', 'album', 'release_date', 'popularity', 'Category']\n",
        "final_df = pd.concat(frame)[colnames]\n",
        "\n",
        "# final_df = pd.concat(fr)\n",
        "  # final_df = recommended_song_dataframe(song_list[k]['id'].to_list())"
      ],
      "execution_count": null,
      "outputs": []
    },
    {
      "cell_type": "code",
      "metadata": {
        "colab": {
          "base_uri": "https://localhost:8080/",
          "height": 514
        },
        "id": "D6aqtDNLNhUF",
        "outputId": "ccda5407-1f5b-4850-c082-29c3f65182b9"
      },
      "source": [
        "final_df"
      ],
      "execution_count": null,
      "outputs": [
        {
          "output_type": "execute_result",
          "data": {
            "text/html": [
              "<div>\n",
              "<style scoped>\n",
              "    .dataframe tbody tr th:only-of-type {\n",
              "        vertical-align: middle;\n",
              "    }\n",
              "\n",
              "    .dataframe tbody tr th {\n",
              "        vertical-align: top;\n",
              "    }\n",
              "\n",
              "    .dataframe thead th {\n",
              "        text-align: right;\n",
              "    }\n",
              "</style>\n",
              "<table border=\"1\" class=\"dataframe\">\n",
              "  <thead>\n",
              "    <tr style=\"text-align: right;\">\n",
              "      <th></th>\n",
              "      <th>Song name</th>\n",
              "      <th>artist</th>\n",
              "      <th>album</th>\n",
              "      <th>release_date</th>\n",
              "      <th>popularity</th>\n",
              "      <th>Category</th>\n",
              "    </tr>\n",
              "  </thead>\n",
              "  <tbody>\n",
              "    <tr>\n",
              "      <th>0</th>\n",
              "      <td>Midnight, the Stars and You</td>\n",
              "      <td>Al Bowlly</td>\n",
              "      <td>Britain's First Pop Star - The Best of Al Bowlly</td>\n",
              "      <td>2014-05-14</td>\n",
              "      <td>0.0</td>\n",
              "      <td>Classically Acoustics</td>\n",
              "    </tr>\n",
              "    <tr>\n",
              "      <th>1</th>\n",
              "      <td>Marching on a Bright Road</td>\n",
              "      <td>Various Artists</td>\n",
              "      <td>Master of Chinese Traditional Music: Liu Tianhua</td>\n",
              "      <td>2006-01-01</td>\n",
              "      <td>0.0</td>\n",
              "      <td>Classically Acoustics</td>\n",
              "    </tr>\n",
              "    <tr>\n",
              "      <th>2</th>\n",
              "      <td>Air in G Minor (12 Suites Of 1714) (J Mattheson)</td>\n",
              "      <td>Colin Booth</td>\n",
              "      <td>Dark Harpsichord Music</td>\n",
              "      <td>2011-02-11</td>\n",
              "      <td>0.0</td>\n",
              "      <td>Classically Acoustics</td>\n",
              "    </tr>\n",
              "    <tr>\n",
              "      <th>3</th>\n",
              "      <td>Carinhoso</td>\n",
              "      <td>Orlando Silva</td>\n",
              "      <td>Maxximum - Orlando Silva</td>\n",
              "      <td>2005-08-08</td>\n",
              "      <td>1.0</td>\n",
              "      <td>Classically Acoustics</td>\n",
              "    </tr>\n",
              "    <tr>\n",
              "      <th>4</th>\n",
              "      <td>I Wrote This Song For The Girl Paris Hilton</td>\n",
              "      <td>Vincent Gallo</td>\n",
              "      <td>When</td>\n",
              "      <td>2001-10-01</td>\n",
              "      <td>32.0</td>\n",
              "      <td>Classically Acoustics</td>\n",
              "    </tr>\n",
              "    <tr>\n",
              "      <th>0</th>\n",
              "      <td>Amazzonia</td>\n",
              "      <td>DJ Ravin</td>\n",
              "      <td>Buddha Bar X (Bonus Track Version)</td>\n",
              "      <td>2008-04-08</td>\n",
              "      <td>7.0</td>\n",
              "      <td>Definitely Pump</td>\n",
              "    </tr>\n",
              "    <tr>\n",
              "      <th>1</th>\n",
              "      <td>Burn Me Up (The System)</td>\n",
              "      <td>Low Steppa</td>\n",
              "      <td>Burn Me Up (The System)</td>\n",
              "      <td>2019-09-26</td>\n",
              "      <td>26.0</td>\n",
              "      <td>Definitely Pump</td>\n",
              "    </tr>\n",
              "    <tr>\n",
              "      <th>2</th>\n",
              "      <td>Demo Tapes</td>\n",
              "      <td>Golf Clap</td>\n",
              "      <td>Demo Tapes</td>\n",
              "      <td>2019-03-22</td>\n",
              "      <td>13.0</td>\n",
              "      <td>Definitely Pump</td>\n",
              "    </tr>\n",
              "    <tr>\n",
              "      <th>3</th>\n",
              "      <td>Block Party</td>\n",
              "      <td>Klangkuenstler</td>\n",
              "      <td>Close the Door - EP</td>\n",
              "      <td>2018-04-06</td>\n",
              "      <td>27.0</td>\n",
              "      <td>Definitely Pump</td>\n",
              "    </tr>\n",
              "    <tr>\n",
              "      <th>4</th>\n",
              "      <td>Mask Maker</td>\n",
              "      <td>Liars</td>\n",
              "      <td>Mess</td>\n",
              "      <td>2014-03-25</td>\n",
              "      <td>21.0</td>\n",
              "      <td>Definitely Pump</td>\n",
              "    </tr>\n",
              "    <tr>\n",
              "      <th>0</th>\n",
              "      <td>The Mystery of Love</td>\n",
              "      <td>Secret Sphere</td>\n",
              "      <td>A Time Never Come - 2015 Edition</td>\n",
              "      <td>2015-04-28</td>\n",
              "      <td>14.0</td>\n",
              "      <td>Happy Trance</td>\n",
              "    </tr>\n",
              "    <tr>\n",
              "      <th>1</th>\n",
              "      <td>Bklu Flaggin</td>\n",
              "      <td>Bklu Rollxn</td>\n",
              "      <td>90 Problems</td>\n",
              "      <td>2017-09-19</td>\n",
              "      <td>33.0</td>\n",
              "      <td>Happy Trance</td>\n",
              "    </tr>\n",
              "    <tr>\n",
              "      <th>2</th>\n",
              "      <td>Você</td>\n",
              "      <td>La Vida Bohème</td>\n",
              "      <td>Você</td>\n",
              "      <td>2017-02-10</td>\n",
              "      <td>7.0</td>\n",
              "      <td>Happy Trance</td>\n",
              "    </tr>\n",
              "    <tr>\n",
              "      <th>3</th>\n",
              "      <td>Hollow</td>\n",
              "      <td>Cvllum カルム</td>\n",
              "      <td>Hollow</td>\n",
              "      <td>2018-11-17</td>\n",
              "      <td>0.0</td>\n",
              "      <td>Happy Trance</td>\n",
              "    </tr>\n",
              "    <tr>\n",
              "      <th>4</th>\n",
              "      <td>Hollow</td>\n",
              "      <td>Cvllum カルム</td>\n",
              "      <td>Hollow</td>\n",
              "      <td>2018-11-17</td>\n",
              "      <td>8.0</td>\n",
              "      <td>Happy Trance</td>\n",
              "    </tr>\n",
              "  </tbody>\n",
              "</table>\n",
              "</div>"
            ],
            "text/plain": [
              "                                          Song name  ...               Category\n",
              "0                       Midnight, the Stars and You  ...  Classically Acoustics\n",
              "1                         Marching on a Bright Road  ...  Classically Acoustics\n",
              "2  Air in G Minor (12 Suites Of 1714) (J Mattheson)  ...  Classically Acoustics\n",
              "3                                         Carinhoso  ...  Classically Acoustics\n",
              "4       I Wrote This Song For The Girl Paris Hilton  ...  Classically Acoustics\n",
              "0                                         Amazzonia  ...        Definitely Pump\n",
              "1                           Burn Me Up (The System)  ...        Definitely Pump\n",
              "2                                        Demo Tapes  ...        Definitely Pump\n",
              "3                                       Block Party  ...        Definitely Pump\n",
              "4                                        Mask Maker  ...        Definitely Pump\n",
              "0                               The Mystery of Love  ...           Happy Trance\n",
              "1                                      Bklu Flaggin  ...           Happy Trance\n",
              "2                                              Você  ...           Happy Trance\n",
              "3                                            Hollow  ...           Happy Trance\n",
              "4                                            Hollow  ...           Happy Trance\n",
              "\n",
              "[15 rows x 6 columns]"
            ]
          },
          "metadata": {},
          "execution_count": 230
        }
      ]
    },
    {
      "cell_type": "code",
      "metadata": {
        "colab": {
          "base_uri": "https://localhost:8080/"
        },
        "id": "hfmanlIi4FSs",
        "outputId": "01dc78a2-288e-45be-b95a-0afd260f520e"
      },
      "source": [
        "rec_frame.iloc[:,:-1].columns"
      ],
      "execution_count": null,
      "outputs": [
        {
          "data": {
            "text/plain": [
              "Index(['danceability', 'energy', 'acousticness', 'instrumentalness', 'valence',\n",
              "       'tempo'],\n",
              "      dtype='object')"
            ]
          },
          "execution_count": 157,
          "metadata": {},
          "output_type": "execute_result"
        }
      ]
    },
    {
      "cell_type": "code",
      "metadata": {
        "colab": {
          "base_uri": "https://localhost:8080/",
          "height": 224
        },
        "id": "GEaZVBljs8fo",
        "outputId": "ddb2a4cd-17c4-4565-ce63-b92359d5d20c"
      },
      "source": [
        "spotify_data.head()"
      ],
      "execution_count": null,
      "outputs": [
        {
          "data": {
            "text/html": [
              "<div>\n",
              "<style scoped>\n",
              "    .dataframe tbody tr th:only-of-type {\n",
              "        vertical-align: middle;\n",
              "    }\n",
              "\n",
              "    .dataframe tbody tr th {\n",
              "        vertical-align: top;\n",
              "    }\n",
              "\n",
              "    .dataframe thead th {\n",
              "        text-align: right;\n",
              "    }\n",
              "</style>\n",
              "<table border=\"1\" class=\"dataframe\">\n",
              "  <thead>\n",
              "    <tr style=\"text-align: right;\">\n",
              "      <th></th>\n",
              "      <th>danceability</th>\n",
              "      <th>energy</th>\n",
              "      <th>key</th>\n",
              "      <th>loudness</th>\n",
              "      <th>mode</th>\n",
              "      <th>speechiness</th>\n",
              "      <th>acousticness</th>\n",
              "      <th>instrumentalness</th>\n",
              "      <th>liveness</th>\n",
              "      <th>valence</th>\n",
              "      <th>tempo</th>\n",
              "      <th>id</th>\n",
              "    </tr>\n",
              "  </thead>\n",
              "  <tbody>\n",
              "    <tr>\n",
              "      <th>0</th>\n",
              "      <td>0.831</td>\n",
              "      <td>0.814</td>\n",
              "      <td>2</td>\n",
              "      <td>-7.364</td>\n",
              "      <td>1</td>\n",
              "      <td>0.4200</td>\n",
              "      <td>0.0598</td>\n",
              "      <td>0.013400</td>\n",
              "      <td>0.0556</td>\n",
              "      <td>0.3890</td>\n",
              "      <td>156.985</td>\n",
              "      <td>2Vc6NJ9PW9gD9q343XFRKx</td>\n",
              "    </tr>\n",
              "    <tr>\n",
              "      <th>1</th>\n",
              "      <td>0.719</td>\n",
              "      <td>0.493</td>\n",
              "      <td>8</td>\n",
              "      <td>-7.230</td>\n",
              "      <td>1</td>\n",
              "      <td>0.0794</td>\n",
              "      <td>0.4010</td>\n",
              "      <td>0.000000</td>\n",
              "      <td>0.1180</td>\n",
              "      <td>0.1240</td>\n",
              "      <td>115.080</td>\n",
              "      <td>7pgJBLVz5VmnL7uGHmRj6p</td>\n",
              "    </tr>\n",
              "    <tr>\n",
              "      <th>2</th>\n",
              "      <td>0.850</td>\n",
              "      <td>0.893</td>\n",
              "      <td>5</td>\n",
              "      <td>-4.783</td>\n",
              "      <td>1</td>\n",
              "      <td>0.0623</td>\n",
              "      <td>0.0138</td>\n",
              "      <td>0.000004</td>\n",
              "      <td>0.3720</td>\n",
              "      <td>0.0391</td>\n",
              "      <td>218.050</td>\n",
              "      <td>0vSWgAlfpye0WCGeNmuNhy</td>\n",
              "    </tr>\n",
              "    <tr>\n",
              "      <th>3</th>\n",
              "      <td>0.476</td>\n",
              "      <td>0.781</td>\n",
              "      <td>0</td>\n",
              "      <td>-4.710</td>\n",
              "      <td>1</td>\n",
              "      <td>0.1030</td>\n",
              "      <td>0.0237</td>\n",
              "      <td>0.000000</td>\n",
              "      <td>0.1140</td>\n",
              "      <td>0.1750</td>\n",
              "      <td>186.948</td>\n",
              "      <td>0VSXnJqQkwuH2ei1nOQ1nu</td>\n",
              "    </tr>\n",
              "    <tr>\n",
              "      <th>4</th>\n",
              "      <td>0.798</td>\n",
              "      <td>0.624</td>\n",
              "      <td>2</td>\n",
              "      <td>-7.668</td>\n",
              "      <td>1</td>\n",
              "      <td>0.2930</td>\n",
              "      <td>0.2170</td>\n",
              "      <td>0.000000</td>\n",
              "      <td>0.1660</td>\n",
              "      <td>0.5910</td>\n",
              "      <td>147.988</td>\n",
              "      <td>4jCeguq9rMTlbMmPHuO7S3</td>\n",
              "    </tr>\n",
              "  </tbody>\n",
              "</table>\n",
              "</div>"
            ],
            "text/plain": [
              "   danceability  energy  key  ...  valence    tempo                      id\n",
              "0         0.831   0.814    2  ...   0.3890  156.985  2Vc6NJ9PW9gD9q343XFRKx\n",
              "1         0.719   0.493    8  ...   0.1240  115.080  7pgJBLVz5VmnL7uGHmRj6p\n",
              "2         0.850   0.893    5  ...   0.0391  218.050  0vSWgAlfpye0WCGeNmuNhy\n",
              "3         0.476   0.781    0  ...   0.1750  186.948  0VSXnJqQkwuH2ei1nOQ1nu\n",
              "4         0.798   0.624    2  ...   0.5910  147.988  4jCeguq9rMTlbMmPHuO7S3\n",
              "\n",
              "[5 rows x 12 columns]"
            ]
          },
          "execution_count": 65,
          "metadata": {},
          "output_type": "execute_result"
        }
      ]
    },
    {
      "cell_type": "code",
      "metadata": {
        "colab": {
          "base_uri": "https://localhost:8080/",
          "height": 309
        },
        "id": "iOtAXilkgda1",
        "outputId": "35a9b9ba-6a8d-40d6-e917-6b84b2c8bc96"
      },
      "source": [
        "df.head()"
      ],
      "execution_count": null,
      "outputs": [
        {
          "output_type": "execute_result",
          "data": {
            "text/html": [
              "<div>\n",
              "<style scoped>\n",
              "    .dataframe tbody tr th:only-of-type {\n",
              "        vertical-align: middle;\n",
              "    }\n",
              "\n",
              "    .dataframe tbody tr th {\n",
              "        vertical-align: top;\n",
              "    }\n",
              "\n",
              "    .dataframe thead th {\n",
              "        text-align: right;\n",
              "    }\n",
              "</style>\n",
              "<table border=\"1\" class=\"dataframe\">\n",
              "  <thead>\n",
              "    <tr style=\"text-align: right;\">\n",
              "      <th></th>\n",
              "      <th>danceability</th>\n",
              "      <th>energy</th>\n",
              "      <th>key</th>\n",
              "      <th>loudness</th>\n",
              "      <th>mode</th>\n",
              "      <th>speechiness</th>\n",
              "      <th>acousticness</th>\n",
              "      <th>instrumentalness</th>\n",
              "      <th>liveness</th>\n",
              "      <th>valence</th>\n",
              "      <th>tempo</th>\n",
              "      <th>type</th>\n",
              "      <th>id</th>\n",
              "      <th>uri</th>\n",
              "      <th>track_href</th>\n",
              "      <th>analysis_url</th>\n",
              "      <th>duration_ms</th>\n",
              "      <th>time_signature</th>\n",
              "    </tr>\n",
              "  </thead>\n",
              "  <tbody>\n",
              "    <tr>\n",
              "      <th>0</th>\n",
              "      <td>0.831</td>\n",
              "      <td>0.814</td>\n",
              "      <td>2</td>\n",
              "      <td>-7.364</td>\n",
              "      <td>1</td>\n",
              "      <td>0.4200</td>\n",
              "      <td>0.0598</td>\n",
              "      <td>0.013400</td>\n",
              "      <td>0.0556</td>\n",
              "      <td>0.3890</td>\n",
              "      <td>156.985</td>\n",
              "      <td>audio_features</td>\n",
              "      <td>2Vc6NJ9PW9gD9q343XFRKx</td>\n",
              "      <td>spotify:track:2Vc6NJ9PW9gD9q343XFRKx</td>\n",
              "      <td>https://api.spotify.com/v1/tracks/2Vc6NJ9PW9gD...</td>\n",
              "      <td>https://api.spotify.com/v1/audio-analysis/2Vc6...</td>\n",
              "      <td>124539</td>\n",
              "      <td>4</td>\n",
              "    </tr>\n",
              "    <tr>\n",
              "      <th>1</th>\n",
              "      <td>0.719</td>\n",
              "      <td>0.493</td>\n",
              "      <td>8</td>\n",
              "      <td>-7.230</td>\n",
              "      <td>1</td>\n",
              "      <td>0.0794</td>\n",
              "      <td>0.4010</td>\n",
              "      <td>0.000000</td>\n",
              "      <td>0.1180</td>\n",
              "      <td>0.1240</td>\n",
              "      <td>115.080</td>\n",
              "      <td>audio_features</td>\n",
              "      <td>7pgJBLVz5VmnL7uGHmRj6p</td>\n",
              "      <td>spotify:track:7pgJBLVz5VmnL7uGHmRj6p</td>\n",
              "      <td>https://api.spotify.com/v1/tracks/7pgJBLVz5Vmn...</td>\n",
              "      <td>https://api.spotify.com/v1/audio-analysis/7pgJ...</td>\n",
              "      <td>224427</td>\n",
              "      <td>4</td>\n",
              "    </tr>\n",
              "    <tr>\n",
              "      <th>2</th>\n",
              "      <td>0.850</td>\n",
              "      <td>0.893</td>\n",
              "      <td>5</td>\n",
              "      <td>-4.783</td>\n",
              "      <td>1</td>\n",
              "      <td>0.0623</td>\n",
              "      <td>0.0138</td>\n",
              "      <td>0.000004</td>\n",
              "      <td>0.3720</td>\n",
              "      <td>0.0391</td>\n",
              "      <td>218.050</td>\n",
              "      <td>audio_features</td>\n",
              "      <td>0vSWgAlfpye0WCGeNmuNhy</td>\n",
              "      <td>spotify:track:0vSWgAlfpye0WCGeNmuNhy</td>\n",
              "      <td>https://api.spotify.com/v1/tracks/0vSWgAlfpye0...</td>\n",
              "      <td>https://api.spotify.com/v1/audio-analysis/0vSW...</td>\n",
              "      <td>98821</td>\n",
              "      <td>4</td>\n",
              "    </tr>\n",
              "    <tr>\n",
              "      <th>3</th>\n",
              "      <td>0.476</td>\n",
              "      <td>0.781</td>\n",
              "      <td>0</td>\n",
              "      <td>-4.710</td>\n",
              "      <td>1</td>\n",
              "      <td>0.1030</td>\n",
              "      <td>0.0237</td>\n",
              "      <td>0.000000</td>\n",
              "      <td>0.1140</td>\n",
              "      <td>0.1750</td>\n",
              "      <td>186.948</td>\n",
              "      <td>audio_features</td>\n",
              "      <td>0VSXnJqQkwuH2ei1nOQ1nu</td>\n",
              "      <td>spotify:track:0VSXnJqQkwuH2ei1nOQ1nu</td>\n",
              "      <td>https://api.spotify.com/v1/tracks/0VSXnJqQkwuH...</td>\n",
              "      <td>https://api.spotify.com/v1/audio-analysis/0VSX...</td>\n",
              "      <td>123661</td>\n",
              "      <td>3</td>\n",
              "    </tr>\n",
              "    <tr>\n",
              "      <th>4</th>\n",
              "      <td>0.798</td>\n",
              "      <td>0.624</td>\n",
              "      <td>2</td>\n",
              "      <td>-7.668</td>\n",
              "      <td>1</td>\n",
              "      <td>0.2930</td>\n",
              "      <td>0.2170</td>\n",
              "      <td>0.000000</td>\n",
              "      <td>0.1660</td>\n",
              "      <td>0.5910</td>\n",
              "      <td>147.988</td>\n",
              "      <td>audio_features</td>\n",
              "      <td>4jCeguq9rMTlbMmPHuO7S3</td>\n",
              "      <td>spotify:track:4jCeguq9rMTlbMmPHuO7S3</td>\n",
              "      <td>https://api.spotify.com/v1/tracks/4jCeguq9rMTl...</td>\n",
              "      <td>https://api.spotify.com/v1/audio-analysis/4jCe...</td>\n",
              "      <td>123298</td>\n",
              "      <td>4</td>\n",
              "    </tr>\n",
              "  </tbody>\n",
              "</table>\n",
              "</div>"
            ],
            "text/plain": [
              "   danceability  energy  ...  duration_ms  time_signature\n",
              "0         0.831   0.814  ...       124539               4\n",
              "1         0.719   0.493  ...       224427               4\n",
              "2         0.850   0.893  ...        98821               4\n",
              "3         0.476   0.781  ...       123661               3\n",
              "4         0.798   0.624  ...       123298               4\n",
              "\n",
              "[5 rows x 18 columns]"
            ]
          },
          "metadata": {},
          "execution_count": 227
        }
      ]
    }
  ]
}
